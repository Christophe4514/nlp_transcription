{
  "cells": [
    {
      "cell_type": "code",
      "execution_count": null,
      "metadata": {
        "id": "dw-0IVRkNw49"
      },
      "outputs": [],
      "source": [
        "import numpy as np\n",
        "import tensorflow as tf\n",
        "from tensorflow.keras.models import Model\n",
        "from tensorflow.keras.layers import Input, LSTM, Dense, Embedding\n",
        "from tensorflow.keras.preprocessing.text import Tokenizer\n",
        "from tensorflow.keras.preprocessing.sequence import pad_sequences\n",
        "from sklearn.model_selection import train_test_split\n",
        "import pandas as pd\n",
        "\n",
        "# Chargement des données\n",
        "data = pd.read_csv(\"/content/drive/MyDrive/dataset.csv\")\n",
        "french_sentences = data[\"Français\"].tolist()\n",
        "ln_sentences = data[\"Lingala\"].tolist()"
      ]
    },
    {
      "cell_type": "code",
      "execution_count": null,
      "metadata": {
        "id": "dgVOkt8rPt6l"
      },
      "outputs": [],
      "source": [
        "ln_sentences = data[\"Lingala\"].tolist()\n",
        "# ln_sentences"
      ]
    },
    {
      "cell_type": "code",
      "execution_count": null,
      "metadata": {
        "id": "OrgzxGiJXfvv"
      },
      "outputs": [],
      "source": [
        "corpus_fr = []\n",
        "for french_sentence in french_sentences:\n",
        "  french_sentence = str(french_sentence).split('nan')[0]\n",
        "  french_sentence = french_sentence.lower()\n",
        "  if french_sentence:\n",
        "    corpus_fr.append(french_sentence)"
      ]
    },
    {
      "cell_type": "code",
      "execution_count": null,
      "metadata": {
        "colab": {
          "base_uri": "https://localhost:8080/"
        },
        "id": "Q1wmG2K_vevd",
        "outputId": "ffd85a13-a8b7-4f90-b5b8-01c26988ffba"
      },
      "outputs": [
        {
          "output_type": "execute_result",
          "data": {
            "text/plain": [
              "(31098, 'au commencement, dieu créa les cieux et la terre.')"
            ]
          },
          "metadata": {},
          "execution_count": 5
        }
      ],
      "source": [
        "len(corpus_fr), corpus_fr[0]"
      ]
    },
    {
      "cell_type": "code",
      "execution_count": null,
      "metadata": {
        "colab": {
          "base_uri": "https://localhost:8080/"
        },
        "id": "gIy7voNAu_uJ",
        "outputId": "c24ab845-2be1-4f02-b4c3-fb475fe47dd0"
      },
      "outputs": [
        {
          "output_type": "execute_result",
          "data": {
            "text/plain": [
              "count                                          31098\n",
              "unique                                         30825\n",
              "top       L'Éternel parla encore à Moïse, en disant:\n",
              "freq                                              22\n",
              "Name: Français, dtype: object"
            ]
          },
          "metadata": {},
          "execution_count": 6
        }
      ],
      "source": [
        "data['Français'].describe()"
      ]
    },
    {
      "cell_type": "code",
      "execution_count": null,
      "metadata": {
        "id": "d0-F-jDotEUE"
      },
      "outputs": [],
      "source": [
        "corpus_ln = []\n",
        "for ln_sentence in ln_sentences:\n",
        "  ln_sentence = str(ln_sentence).split('nan')[0]\n",
        "  ln_sentence = ln_sentence.lower()\n",
        "  if ln_sentence:\n",
        "    corpus_ln.append(ln_sentence)"
      ]
    },
    {
      "cell_type": "code",
      "execution_count": null,
      "metadata": {
        "colab": {
          "base_uri": "https://localhost:8080/"
        },
        "id": "9oOFVDxLYiTb",
        "outputId": "66a15ca1-8894-425e-f265-058c2cf2a971"
      },
      "outputs": [
        {
          "output_type": "execute_result",
          "data": {
            "text/plain": [
              "31098"
            ]
          },
          "metadata": {},
          "execution_count": 8
        }
      ],
      "source": [
        "len(corpus_ln), corpus_ln[0]\n",
        "corpus_ln = corpus_ln[:31098]\n",
        "len(corpus_ln)"
      ]
    },
    {
      "cell_type": "code",
      "execution_count": null,
      "metadata": {
        "id": "eiVjlM1dv3D4"
      },
      "outputs": [],
      "source": [
        "# ln_sentences"
      ]
    },
    {
      "cell_type": "code",
      "execution_count": null,
      "metadata": {
        "colab": {
          "base_uri": "https://localhost:8080/"
        },
        "id": "1vPwDvzfQnLz",
        "outputId": "08725d3c-7bc5-4230-bca1-b1c44758aa6f"
      },
      "outputs": [
        {
          "output_type": "execute_result",
          "data": {
            "text/plain": [
              "False"
            ]
          },
          "metadata": {},
          "execution_count": 9
        }
      ],
      "source": [
        "french_sentences = data[\"Français\"].tolist()\n",
        "len(french_sentences), french_sentences[40000]\n",
        "# french_sentences[40000].split('')\n",
        "bool(str(french_sentences[40000]).split('nan')[0])"
      ]
    },
    {
      "cell_type": "code",
      "execution_count": null,
      "metadata": {
        "colab": {
          "base_uri": "https://localhost:8080/"
        },
        "id": "f040ZgnEwspz",
        "outputId": "c605c237-3a65-47cd-d563-b842fbde710d"
      },
      "outputs": [
        {
          "output_type": "execute_result",
          "data": {
            "text/plain": [
              "(31098, 31098)"
            ]
          },
          "metadata": {},
          "execution_count": 10
        }
      ],
      "source": [
        "len(corpus_fr), len(corpus_ln)"
      ]
    },
    {
      "cell_type": "code",
      "execution_count": null,
      "metadata": {
        "id": "rxWlhmv2wsZj"
      },
      "outputs": [],
      "source": [
        "# corpus_ln = corpus_ln[:10000]\n",
        "# corpus_fr = corpus_fr[:10000]"
      ]
    },
    {
      "cell_type": "markdown",
      "metadata": {
        "id": "ayNqwgDsyfcx"
      },
      "source": [
        "# Tokenization"
      ]
    },
    {
      "cell_type": "code",
      "execution_count": null,
      "metadata": {
        "colab": {
          "base_uri": "https://localhost:8080/",
          "height": 36
        },
        "id": "Sw9yNUE3wsEy",
        "outputId": "90d24647-d223-4658-a1ec-faca793c8c0e"
      },
      "outputs": [
        {
          "output_type": "execute_result",
          "data": {
            "text/plain": [
              "'yawe nzambe azwaki moto mpe atiaki ye kati na elanga ya edeni mpo na kolona yango mpe kobatela yango.'"
            ],
            "application/vnd.google.colaboratory.intrinsic+json": {
              "type": "string"
            }
          },
          "metadata": {},
          "execution_count": 12
        }
      ],
      "source": [
        "corpus_ln[45]"
      ]
    },
    {
      "cell_type": "code",
      "execution_count": null,
      "metadata": {
        "id": "S8V5scEAyter"
      },
      "outputs": [],
      "source": [
        "from tensorflow.keras.preprocessing.text import Tokenizer"
      ]
    },
    {
      "cell_type": "code",
      "execution_count": null,
      "metadata": {
        "id": "DmKRVvogzD4v"
      },
      "outputs": [],
      "source": [
        "tokenizer = Tokenizer()"
      ]
    },
    {
      "cell_type": "code",
      "execution_count": null,
      "metadata": {
        "id": "EKS8ccOWzLrV"
      },
      "outputs": [],
      "source": [
        "tokenizer.fit_on_texts(corpus_fr)"
      ]
    },
    {
      "cell_type": "code",
      "execution_count": null,
      "metadata": {
        "id": "MlPQ_JGvzDv2"
      },
      "outputs": [],
      "source": [
        "tokenizer.fit_on_texts(corpus_ln)"
      ]
    },
    {
      "cell_type": "code",
      "execution_count": null,
      "metadata": {
        "colab": {
          "base_uri": "https://localhost:8080/"
        },
        "id": "S3F9cA0lzDiF",
        "outputId": "0fcf0516-33c4-4609-a214-c6819df65f20"
      },
      "outputs": [
        {
          "output_type": "execute_result",
          "data": {
            "text/plain": [
              "40903"
            ]
          },
          "metadata": {},
          "execution_count": 17
        }
      ],
      "source": [
        "len(tokenizer.word_index)"
      ]
    },
    {
      "cell_type": "code",
      "execution_count": null,
      "metadata": {
        "id": "4DvnNL5L0UXu"
      },
      "outputs": [],
      "source": [
        "sequencesLing = tokenizer.texts_to_sequences(corpus_ln)"
      ]
    },
    {
      "cell_type": "code",
      "execution_count": null,
      "metadata": {
        "id": "Thlf781J0UGr"
      },
      "outputs": [],
      "source": [
        "sequencesFra = tokenizer.texts_to_sequences(corpus_fr)"
      ]
    },
    {
      "cell_type": "code",
      "execution_count": null,
      "metadata": {
        "id": "z9ZnOvkv1Mok"
      },
      "outputs": [],
      "source": []
    },
    {
      "cell_type": "code",
      "execution_count": null,
      "metadata": {
        "id": "N7fBxWox1MXT"
      },
      "outputs": [],
      "source": []
    },
    {
      "cell_type": "code",
      "execution_count": null,
      "metadata": {
        "id": "410LJxldycOR"
      },
      "outputs": [],
      "source": []
    },
    {
      "cell_type": "code",
      "execution_count": null,
      "metadata": {
        "id": "do6n1dxaN6dT"
      },
      "outputs": [],
      "source": [
        "# Adaptation des tokenizers aux données\n",
        "tokenizer_french = Tokenizer()\n",
        "tokenizer_french.fit_on_texts(corpus_fr)\n",
        "fre_seq = tokenizer_french.texts_to_sequences(corpus_fr)\n",
        "\n",
        "tokenizer_ln = Tokenizer()\n",
        "tokenizer_ln.fit_on_texts(corpus_ln)\n",
        "ln_seq = tokenizer_ln.texts_to_sequences(corpus_ln)\n",
        "\n",
        "# Utilisation du nombre de mots dans le tokenizer pour définir l'embedding\n",
        "vocab_size_fr = len(tokenizer_french.word_index) + 1\n",
        "vocab_size_ln = len(tokenizer_ln.word_index) + 1\n",
        "\n",
        "# Padding\n",
        "max_length = max(len(seq) for seq in fre_seq + ln_seq)\n",
        "fr_seq_padded = pad_sequences(fre_seq, maxlen=max_length, padding='post')\n",
        "ln_seq_padded = pad_sequences(ln_seq, maxlen=max_length, padding='post')\n"
      ]
    },
    {
      "cell_type": "code",
      "execution_count": null,
      "metadata": {
        "colab": {
          "base_uri": "https://localhost:8080/"
        },
        "id": "s3ywdAsd18t8",
        "outputId": "329afbf4-e2f7-43cf-8f53-7f9d4b2cc45d"
      },
      "outputs": [
        {
          "output_type": "execute_result",
          "data": {
            "text/plain": [
              "(99, <keras.src.preprocessing.text.Tokenizer at 0x7db44976d720>)"
            ]
          },
          "metadata": {},
          "execution_count": 21
        }
      ],
      "source": [
        "max_length, tokenizer_ln"
      ]
    },
    {
      "cell_type": "code",
      "execution_count": null,
      "metadata": {
        "id": "h4smF2wsPkhR"
      },
      "outputs": [],
      "source": [
        "# embedding_dim = 256\n",
        "# units = 512\n",
        "embedding_dim = 256\n",
        "units = 512\n",
        "\n",
        "# Encoder\n",
        "encoder_inputs = Input(shape=(max_length,))\n",
        "enc_emb = Embedding(input_dim=vocab_size_fr, output_dim=embedding_dim)(encoder_inputs)\n",
        "encoder_lstm = LSTM(units, return_state=True)\n",
        "encoder_outputs, state_h, state_c = encoder_lstm(enc_emb)\n",
        "encoder_states = [state_h, state_c]\n",
        "\n",
        "# Decoder\n",
        "decoder_inputs = Input(shape=(max_length,))\n",
        "dec_emb_layer = Embedding(input_dim=vocab_size_ln, output_dim=embedding_dim)\n",
        "dec_emb = dec_emb_layer(decoder_inputs)\n",
        "decoder_lstm = LSTM(units, return_sequences=True, return_state=True)\n",
        "decoder_outputs, _, _ = decoder_lstm(dec_emb, initial_state=encoder_states)\n",
        "decoder_dense = Dense(vocab_size_fr, activation='softmax')\n",
        "output = decoder_dense(decoder_outputs)\n",
        "\n",
        "# Modèle\n",
        "model = Model([encoder_inputs, decoder_inputs], output)\n",
        "\n",
        "# Compilation du modèle\n",
        "model.compile(optimizer='adam', loss='sparse_categorical_crossentropy',metrics=['accuracy'])"
      ]
    },
    {
      "cell_type": "code",
      "source": [
        "model.summary()"
      ],
      "metadata": {
        "colab": {
          "base_uri": "https://localhost:8080/"
        },
        "id": "R18z9b6IUj23",
        "outputId": "eba4aef0-bc69-4d73-b7ba-817269b21d30"
      },
      "execution_count": null,
      "outputs": [
        {
          "output_type": "stream",
          "name": "stdout",
          "text": [
            "Model: \"model\"\n",
            "__________________________________________________________________________________________________\n",
            " Layer (type)                Output Shape                 Param #   Connected to                  \n",
            "==================================================================================================\n",
            " input_1 (InputLayer)        [(None, 99)]                 0         []                            \n",
            "                                                                                                  \n",
            " input_2 (InputLayer)        [(None, 99)]                 0         []                            \n",
            "                                                                                                  \n",
            " embedding (Embedding)       (None, 99, 256)              6009088   ['input_1[0][0]']             \n",
            "                                                                                                  \n",
            " embedding_1 (Embedding)     (None, 99, 256)              4503808   ['input_2[0][0]']             \n",
            "                                                                                                  \n",
            " lstm (LSTM)                 [(None, 512),                1574912   ['embedding[0][0]']           \n",
            "                              (None, 512),                                                        \n",
            "                              (None, 512)]                                                        \n",
            "                                                                                                  \n",
            " lstm_1 (LSTM)               [(None, 99, 512),            1574912   ['embedding_1[0][0]',         \n",
            "                              (None, 512),                           'lstm[0][1]',                \n",
            "                              (None, 512)]                           'lstm[0][2]']                \n",
            "                                                                                                  \n",
            " dense (Dense)               (None, 99, 23473)            1204164   ['lstm_1[0][0]']              \n",
            "                                                          9                                       \n",
            "                                                                                                  \n",
            "==================================================================================================\n",
            "Total params: 25704369 (98.05 MB)\n",
            "Trainable params: 25704369 (98.05 MB)\n",
            "Non-trainable params: 0 (0.00 Byte)\n",
            "__________________________________________________________________________________________________\n"
          ]
        }
      ]
    },
    {
      "cell_type": "code",
      "execution_count": null,
      "metadata": {
        "id": "wTBQOwWfusv7"
      },
      "outputs": [],
      "source": [
        "X_train, X_val, y_train, y_val = train_test_split(fr_seq_padded, ln_seq_padded, test_size=0.2, shuffle=True)\n",
        "# model.fit([X_train, X_train], y_train, validation_data=([X_val, X_val], y_val), epochs=5, batch_size=64)"
      ]
    },
    {
      "cell_type": "code",
      "execution_count": null,
      "metadata": {
        "id": "-twdWm5z5_om"
      },
      "outputs": [],
      "source": []
    },
    {
      "cell_type": "code",
      "execution_count": null,
      "metadata": {
        "colab": {
          "base_uri": "https://localhost:8080/"
        },
        "id": "8zfBDrnD5prB",
        "outputId": "8f8220d9-5260-46fc-b773-8f2c7950af0c"
      },
      "outputs": [
        {
          "output_type": "execute_result",
          "data": {
            "text/plain": [
              "(24878, 6220, 24878, 6220)"
            ]
          },
          "metadata": {},
          "execution_count": 17
        }
      ],
      "source": [
        "len(X_train), len(X_val), len(y_train), len(y_val)"
      ]
    },
    {
      "cell_type": "code",
      "execution_count": null,
      "metadata": {
        "colab": {
          "base_uri": "https://localhost:8080/"
        },
        "id": "YOxFNszh6KCv",
        "outputId": "31d0e4ea-54ab-4eff-f30d-ad948332caa8"
      },
      "outputs": [
        {
          "output_type": "stream",
          "name": "stdout",
          "text": [
            "X_train shape: (24878, 99)\n",
            "y_train shape: (24878, 99)\n",
            "X_val shape: (6220, 99)\n"
          ]
        }
      ],
      "source": [
        "print(f\"X_train shape: {X_train.shape}\")\n",
        "print(f\"y_train shape: {y_train.shape}\")\n",
        "print(f\"X_val shape: {X_val.shape}\")"
      ]
    },
    {
      "cell_type": "code",
      "execution_count": null,
      "metadata": {
        "id": "iINSPkdk6Qq7"
      },
      "outputs": [],
      "source": [
        "# print(model.get_layer(\"embedding_4\").input_shape)\n",
        "# print(model.get_layer(\"embedding_4\").output_shape)"
      ]
    },
    {
      "cell_type": "code",
      "execution_count": null,
      "metadata": {
        "id": "tsi39ehJ6Sz_"
      },
      "outputs": [],
      "source": [
        "X_train = np.clip(X_train, 0, 11991)\n",
        "X_val = np.clip(X_val, 0, 11991)"
      ]
    },
    {
      "cell_type": "code",
      "execution_count": null,
      "metadata": {
        "id": "e5D2rAU-6YPy"
      },
      "outputs": [],
      "source": [
        "min_index = 0\n",
        "X_train -= min_index\n",
        "X_val -= min_index"
      ]
    },
    {
      "cell_type": "code",
      "execution_count": null,
      "metadata": {
        "id": "E0lN3mvyLupm"
      },
      "outputs": [],
      "source": [
        "from tensorflow.keras.optimizers.legacy import Adam"
      ]
    },
    {
      "cell_type": "code",
      "execution_count": null,
      "metadata": {
        "colab": {
          "base_uri": "https://localhost:8080/"
        },
        "id": "3DwxvvkBu7xv",
        "outputId": "22866f6a-976b-471a-c47f-348d91228e1e"
      },
      "outputs": [
        {
          "output_type": "stream",
          "name": "stdout",
          "text": [
            "Epoch 1/2\n",
            "1555/1555 [==============================] - 8379s 5s/step - loss: 1.7214 - accuracy: 0.7600 - val_loss: 1.6748 - val_accuracy: 0.7632\n",
            "Epoch 2/2\n",
            "1555/1555 [==============================] - 8396s 5s/step - loss: 1.6627 - accuracy: 0.7622 - val_loss: 1.6720 - val_accuracy: 0.7631\n"
          ]
        },
        {
          "output_type": "execute_result",
          "data": {
            "text/plain": [
              "<keras.src.callbacks.History at 0x7db433fa11e0>"
            ]
          },
          "metadata": {},
          "execution_count": 33
        }
      ],
      "source": [
        "# model.fit([X_train, y_train], X_train, validation_data=([X_val, X_val], X_val), epochs=2, batch_size=16)\n",
        "model.fit([X_train, X_train], y_train, validation_data=([X_val, X_val], y_val), epochs=2, batch_size=16)"
      ]
    },
    {
      "cell_type": "code",
      "source": [],
      "metadata": {
        "id": "DoeCqCugocE_"
      },
      "execution_count": null,
      "outputs": []
    },
    {
      "cell_type": "code",
      "source": [
        "import string\n",
        "\n",
        "# Définition de la fonction preprocess_sentence\n",
        "def preprocess_sentence(sentence):\n",
        "    # Conversion en minuscules\n",
        "    sentence = sentence.lower()\n",
        "\n",
        "    # Suppression de la ponctuation\n",
        "    sentence = sentence.translate(str.maketrans('', '', string.punctuation))\n",
        "\n",
        "    return sentence\n",
        "\n",
        "# Supposons que vous avez une phrase en français que vous souhaitez traduire en anglais\n",
        "input_sentence = \"Dieu créa les cieux et la terre. :\"\n",
        "\n",
        "# Prétraitement de la phrase d'entrée\n",
        "input_sentence = preprocess_sentence(input_sentence)\n",
        "\n",
        "# Convertir la phrase en une séquence d'entiers en utilisant le tokenizer français\n",
        "input_sequence = tokenizer_french.texts_to_sequences([input_sentence])\n",
        "\n",
        "# Remplir la séquence pour avoir la même longueur que les autres séquences d'entrée\n",
        "input_sequence = pad_sequences(input_sequence, maxlen=max_length, padding='post')\n",
        "\n",
        "# Traduction en utilisant le modèle\n",
        "output_sequence = model.predict([input_sequence, np.zeros((1, max_length))])\n",
        "output_sequence = np.argmax(output_sequence, axis=-1)\n",
        "\n",
        "# Convertir la séquence de sortie en une phrase en anglais en utilisant le tokenizer anglais\n",
        "output_sentence = tokenizer_ln.sequences_to_texts(output_sequence)[0]\n",
        "\n",
        "# Afficher la traduction\n",
        "print(\"Traduction : \", output_sentence)"
      ],
      "metadata": {
        "colab": {
          "base_uri": "https://localhost:8080/"
        },
        "id": "UgH3HyJ8NKS0",
        "outputId": "ca9bfc38-1c78-44c4-f627-253993457ddf"
      },
      "execution_count": null,
      "outputs": [
        {
          "output_type": "stream",
          "name": "stdout",
          "text": [
            "1/1 [==============================] - 0s 93ms/step\n",
            "Traduction :  kasi na na na na na\n"
          ]
        }
      ]
    },
    {
      "cell_type": "code",
      "execution_count": null,
      "metadata": {
        "id": "oDdlFborSSks"
      },
      "outputs": [],
      "source": [
        "import matplotlib.pyplot as plt\n",
        "\n",
        "def plot_graphs(metric):\n",
        "  \"\"\"\n",
        "  Plots the training and validation values of a given metric.\n",
        "\n",
        "  Args:\n",
        "    metric: The metric to plot.\n",
        "  \"\"\"\n",
        "  plt.plot(h.history[metric])\n",
        "  plt.plot(h.history['val_' + metric], linestyle=\"--\")\n",
        "  plt.xlabel(\"Epochs\")\n",
        "  plt.ylabel(metric)\n",
        "  plt.legend(['Train', 'Validation'])\n",
        "  plt.show()"
      ]
    },
    {
      "cell_type": "code",
      "source": [
        "plot_graphs('accuracy')\n",
        "plot_graphs('loss')"
      ],
      "metadata": {
        "id": "-Ouvvn6gWlVM"
      },
      "execution_count": null,
      "outputs": []
    },
    {
      "cell_type": "markdown",
      "metadata": {
        "id": "bjLTqqNElJFN"
      },
      "source": []
    },
    {
      "cell_type": "code",
      "source": [
        "# embedding_dim = 256\n",
        "# units = 512\n",
        "embedding_dim = 256\n",
        "units = 512\n",
        "\n",
        "# Encoder\n",
        "encoder_inputs = Input(shape=(max_length,))\n",
        "enc_emb = Embedding(input_dim=vocab_size_fr, output_dim=embedding_dim)(encoder_inputs)\n",
        "encoder_lstm = LSTM(units, return_state=True)\n",
        "encoder_outputs, state_h, state_c = encoder_lstm(enc_emb)\n",
        "encoder_states = [state_h, state_c]\n",
        "\n",
        "# Decoder\n",
        "decoder_inputs = Input(shape=(None,))\n",
        "dec_emb_layer = Embedding(input_dim=vocab_size_fr, output_dim=embedding_dim)\n",
        "dec_emb = dec_emb_layer(decoder_inputs)\n",
        "decoder_lstm = LSTM(units, return_sequences=True, return_state=True)\n",
        "decoder_outputs, _, _ = decoder_lstm(dec_emb, initial_state=encoder_states)\n",
        "decoder_dense = Dense(vocab_size_ln, activation='softmax')\n",
        "decoder_outputs = decoder_dense(decoder_outputs)\n",
        "\n",
        "# Model\n",
        "model = Model([encoder_inputs, decoder_inputs], decoder_outputs)\n",
        "model.compile(optimizer='rmsprop', loss='categorical_crossentropy')\n",
        "\n",
        "# Train the model\n",
        "# h = model.fit([encoder_input_data, decoder_input_data], decoder_target_data, batch_size=batch_size, epochs=epochs, validation_split=validation_split)\n",
        "\n",
        "# Save the model\n",
        "# model.save('s2s.h5')"
      ],
      "metadata": {
        "id": "R__0whkfNWQ3"
      },
      "execution_count": null,
      "outputs": []
    },
    {
      "cell_type": "code",
      "source": [
        "model.summary()"
      ],
      "metadata": {
        "colab": {
          "base_uri": "https://localhost:8080/"
        },
        "id": "_bb0lGJSiKdo",
        "outputId": "07c31eed-8246-4f78-d762-f5c0c9f3e757"
      },
      "execution_count": null,
      "outputs": [
        {
          "output_type": "stream",
          "name": "stdout",
          "text": [
            "Model: \"model_5\"\n",
            "__________________________________________________________________________________________________\n",
            " Layer (type)                Output Shape                 Param #   Connected to                  \n",
            "==================================================================================================\n",
            " input_19 (InputLayer)       [(None, 99)]                 0         []                            \n",
            "                                                                                                  \n",
            " input_20 (InputLayer)       [(None, None)]               0         []                            \n",
            "                                                                                                  \n",
            " embedding_18 (Embedding)    (None, 99, 256)              6009088   ['input_19[0][0]']            \n",
            "                                                                                                  \n",
            " embedding_19 (Embedding)    (None, None, 256)            6009088   ['input_20[0][0]']            \n",
            "                                                                                                  \n",
            " lstm_11 (LSTM)              [(None, 512),                1574912   ['embedding_18[0][0]']        \n",
            "                              (None, 512),                                                        \n",
            "                              (None, 512)]                                                        \n",
            "                                                                                                  \n",
            " lstm_12 (LSTM)              [(None, None, 512),          1574912   ['embedding_19[0][0]',        \n",
            "                              (None, 512),                           'lstm_11[0][1]',             \n",
            "                              (None, 512)]                           'lstm_11[0][2]']             \n",
            "                                                                                                  \n",
            " dense_5 (Dense)             (None, None, 17593)          9025209   ['lstm_12[0][0]']             \n",
            "                                                                                                  \n",
            "==================================================================================================\n",
            "Total params: 24193209 (92.29 MB)\n",
            "Trainable params: 24193209 (92.29 MB)\n",
            "Non-trainable params: 0 (0.00 Byte)\n",
            "__________________________________________________________________________________________________\n"
          ]
        }
      ]
    },
    {
      "cell_type": "code",
      "source": [
        "# embedding_dim = 256\n",
        "# units = 512\n",
        "embedding_dim = 256\n",
        "units = 512\n",
        "\n",
        "# Encoder\n",
        "encoder_inputs = Input(shape=(max_length,))\n",
        "enc_emb = Embedding(input_dim=vocab_size_fr, output_dim=embedding_dim)(encoder_inputs)\n",
        "encoder_lstm = LSTM(units, return_state=True)\n",
        "encoder_outputs, state_h, state_c = encoder_lstm(enc_emb)\n",
        "encoder_states = [state_h, state_c]\n",
        "\n",
        "# Decoder\n",
        "decoder_inputs = Input(shape=(max_length,))\n",
        "dec_emb_layer = Embedding(input_dim=vocab_size_ln, output_dim=embedding_dim)\n",
        "dec_emb = dec_emb_layer(decoder_inputs)\n",
        "decoder_lstm = LSTM(units, return_sequences=True, return_state=True)\n",
        "decoder_outputs, _, _ = decoder_lstm(dec_emb, initial_state=encoder_states)\n",
        "decoder_dense = Dense(vocab_size_fr, activation='softmax')\n",
        "output = decoder_dense(decoder_outputs)\n",
        "\n",
        "# Modèle\n",
        "model = Model([encoder_inputs, decoder_inputs], output)\n",
        "\n",
        "# Compilation du modèle\n",
        "model.compile(optimizer='adam', loss='sparse_categorical_crossentropy',metrics=['accuracy'])"
      ],
      "metadata": {
        "id": "AxcfOCZgiOjC"
      },
      "execution_count": null,
      "outputs": []
    },
    {
      "cell_type": "code",
      "source": [
        "model.summary()"
      ],
      "metadata": {
        "colab": {
          "base_uri": "https://localhost:8080/"
        },
        "id": "xyvdIUAxlhxh",
        "outputId": "b2fb0e88-4fa6-44af-c5a9-1478b8ca291f"
      },
      "execution_count": null,
      "outputs": [
        {
          "output_type": "stream",
          "name": "stdout",
          "text": [
            "Model: \"model\"\n",
            "__________________________________________________________________________________________________\n",
            " Layer (type)                Output Shape                 Param #   Connected to                  \n",
            "==================================================================================================\n",
            " input_1 (InputLayer)        [(None, 99)]                 0         []                            \n",
            "                                                                                                  \n",
            " input_2 (InputLayer)        [(None, 99)]                 0         []                            \n",
            "                                                                                                  \n",
            " embedding (Embedding)       (None, 99, 256)              6009088   ['input_1[0][0]']             \n",
            "                                                                                                  \n",
            " embedding_1 (Embedding)     (None, 99, 256)              4503808   ['input_2[0][0]']             \n",
            "                                                                                                  \n",
            " lstm (LSTM)                 [(None, 512),                1574912   ['embedding[0][0]']           \n",
            "                              (None, 512),                                                        \n",
            "                              (None, 512)]                                                        \n",
            "                                                                                                  \n",
            " lstm_1 (LSTM)               [(None, 99, 512),            1574912   ['embedding_1[0][0]',         \n",
            "                              (None, 512),                           'lstm[0][1]',                \n",
            "                              (None, 512)]                           'lstm[0][2]']                \n",
            "                                                                                                  \n",
            " dense (Dense)               (None, 99, 23473)            1204164   ['lstm_1[0][0]']              \n",
            "                                                          9                                       \n",
            "                                                                                                  \n",
            "==================================================================================================\n",
            "Total params: 25704369 (98.05 MB)\n",
            "Trainable params: 25704369 (98.05 MB)\n",
            "Non-trainable params: 0 (0.00 Byte)\n",
            "__________________________________________________________________________________________________\n"
          ]
        }
      ]
    },
    {
      "cell_type": "code",
      "source": [
        "h = model.fit([X_train, X_train], y_train, validation_data=([X_val, X_val], y_val), epochs=10, batch_size=16)"
      ],
      "metadata": {
        "colab": {
          "base_uri": "https://localhost:8080/"
        },
        "id": "vWXq4pL4mnQ4",
        "outputId": "ad03f540-a55b-4383-bfff-3321d5f0d109"
      },
      "execution_count": null,
      "outputs": [
        {
          "output_type": "stream",
          "name": "stdout",
          "text": [
            "Epoch 1/10\n",
            "1555/1555 [==============================] - 160s 103ms/step - loss: 1.6376 - accuracy: 0.7633 - val_loss: 1.6722 - val_accuracy: 0.7621\n",
            "Epoch 2/10\n",
            "1555/1555 [==============================] - 157s 101ms/step - loss: 1.6050 - accuracy: 0.7644 - val_loss: 1.6843 - val_accuracy: 0.7614\n",
            "Epoch 3/10\n",
            "1555/1555 [==============================] - 156s 101ms/step - loss: 1.5710 - accuracy: 0.7655 - val_loss: 1.6841 - val_accuracy: 0.7607\n",
            "Epoch 4/10\n",
            "1555/1555 [==============================] - 156s 101ms/step - loss: 1.5386 - accuracy: 0.7669 - val_loss: 1.6999 - val_accuracy: 0.7592\n",
            "Epoch 5/10\n",
            "1555/1555 [==============================] - 156s 100ms/step - loss: 1.5025 - accuracy: 0.7683 - val_loss: 1.7222 - val_accuracy: 0.7538\n",
            "Epoch 6/10\n",
            "1555/1555 [==============================] - 158s 102ms/step - loss: 1.4635 - accuracy: 0.7701 - val_loss: 1.7750 - val_accuracy: 0.7531\n",
            "Epoch 7/10\n",
            "1555/1555 [==============================] - 157s 101ms/step - loss: 1.4218 - accuracy: 0.7716 - val_loss: 1.8137 - val_accuracy: 0.7483\n",
            "Epoch 8/10\n",
            "1555/1555 [==============================] - 159s 102ms/step - loss: 1.3822 - accuracy: 0.7734 - val_loss: 1.8612 - val_accuracy: 0.7504\n",
            "Epoch 9/10\n",
            "1555/1555 [==============================] - 159s 102ms/step - loss: 1.3358 - accuracy: 0.7756 - val_loss: 1.9196 - val_accuracy: 0.7447\n",
            "Epoch 10/10\n",
            "1555/1555 [==============================] - 157s 101ms/step - loss: 1.2917 - accuracy: 0.7781 - val_loss: 1.9662 - val_accuracy: 0.7410\n"
          ]
        }
      ]
    },
    {
      "cell_type": "code",
      "source": [
        "import matplotlib.pyplot as plt\n",
        "\n",
        "def plot_graphs(history, string):\n",
        "    plt.plot(history.history[string])\n",
        "    plt.plot(history.history['val_'+string])\n",
        "    plt.xlabel(\"Epochs\")\n",
        "    plt.ylabel(string)\n",
        "    plt.legend([string, 'val '+string])\n",
        "    plt.show()\n",
        "\n",
        "plot_graphs(h, 'accuracy')\n",
        "plot_graphs(h, 'loss')"
      ],
      "metadata": {
        "colab": {
          "base_uri": "https://localhost:8080/",
          "height": 881
        },
        "id": "4w838pj0m2Mi",
        "outputId": "3422ef20-19c3-43a2-9acc-e494e4388b86"
      },
      "execution_count": null,
      "outputs": [
        {
          "output_type": "display_data",
          "data": {
            "text/plain": [
              "<Figure size 640x480 with 1 Axes>"
            ],
            "image/png": "[encoded data removed]"
          },
          "metadata": {}
        },
        {
          "output_type": "display_data",
          "data": {
            "text/plain": [
              "<Figure size 640x480 with 1 Axes>"
            ],
            "image/png": "[encoded data removed]"
          },
          "metadata": {}
        }
      ]
    },
    {
      "cell_type": "code",
      "source": [
        "import string\n",
        "\n",
        "# Définition de la fonction preprocess_sentence\n",
        "def preprocess_sentence(sentence):\n",
        "    # Conversion en minuscules\n",
        "    sentence = sentence.lower()\n",
        "\n",
        "    # Suppression de la ponctuation\n",
        "    sentence = sentence.translate(str.maketrans('', '', string.punctuation))\n",
        "\n",
        "    return sentence\n",
        "\n",
        "# Supposons que vous avez une phrase en français que vous souhaitez traduire en anglais\n",
        "input_sentence = \"ce fut le second jour.. :\"\n",
        "\n",
        "# Prétraitement de la phrase d'entrée\n",
        "input_sentence = preprocess_sentence(input_sentence)\n",
        "\n",
        "# Convertir la phrase en une séquence d'entiers en utilisant le tokenizer français\n",
        "input_sequence = tokenizer_french.texts_to_sequences([input_sentence])\n",
        "\n",
        "# Remplir la séquence pour avoir la même longueur que les autres séquences d'entrée\n",
        "input_sequence = pad_sequences(input_sequence, maxlen=max_length, padding='post')\n",
        "\n",
        "# Traduction en utilisant le modèle\n",
        "output_sequence = model.predict([input_sequence, np.zeros((1, max_length))])\n",
        "output_sequence = np.argmax(output_sequence, axis=-1)\n",
        "\n",
        "# Convertir la séquence de sortie en une phrase en anglais en utilisant le tokenizer anglais\n",
        "output_sentence = tokenizer_ln.sequences_to_texts(output_sequence)[0]\n",
        "\n",
        "# Afficher la traduction\n",
        "print(\"Traduction : \", output_sentence)"
      ],
      "metadata": {
        "colab": {
          "base_uri": "https://localhost:8080/"
        },
        "outputId": "c3a99119-2682-4848-fa88-561cd8b8b26b",
        "id": "ALMpeITJog5c"
      },
      "execution_count": null,
      "outputs": [
        {
          "output_type": "stream",
          "name": "stdout",
          "text": [
            "1/1 [==============================] - 0s 24ms/step\n",
            "Traduction :  pamba na na na na na na na na na na na na na na na na na\n"
          ]
        }
      ]
    },
    {
      "cell_type": "code",
      "source": [],
      "metadata": {
        "id": "VxzU6q1OoU7Y"
      },
      "execution_count": null,
      "outputs": []
    }
  ],
  "metadata": {
    "colab": {
      "provenance": []
    },
    "kernelspec": {
      "display_name": "Python 3",
      "name": "python3"
    },
    "language_info": {
      "name": "python"
    }
  },
  "nbformat": 4,
  "nbformat_minor": 0
}