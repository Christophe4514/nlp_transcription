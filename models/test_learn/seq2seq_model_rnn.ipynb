{
  "cells": [
    {
      "cell_type": "code",
      "execution_count": null,
      "metadata": {
        "id": "FYSswfsCrnx3"
      },
      "outputs": [],
      "source": [
        "import numpy as np\n",
        "import tensorflow as tf\n",
        "from tensorflow.keras.models import Model\n",
        "from tensorflow.keras.layers import Input, LSTM, Dense, Embedding, RepeatVector\n",
        "from tensorflow.keras.preprocessing.text import Tokenizer\n",
        "from tensorflow.keras.preprocessing.sequence import pad_sequences\n",
        "from sklearn.model_selection import train_test_split\n",
        "import pandas as pd\n",
        "import re\n",
        "from keras.callbacks import ModelCheckpoint\n",
        "from keras.models import load_model, Sequential\n",
        "from keras import optimizers\n",
        "import string\n",
        "from numpy import array, argmax, random, take\n",
        "import matplotlib  as plt\n",
        "%matplotlib inline\n",
        "pd.set_option('display.max_colwidth', 200)"
      ]
    },
    {
      "cell_type": "code",
      "execution_count": null,
      "metadata": {
        "id": "YYyMIpeAtOEj"
      },
      "outputs": [],
      "source": [
        "# from google.colab import drive\n",
        "# drive.mount('/content/fichier_sans_lignes_vides.csv')"
      ]
    },
    {
      "cell_type": "code",
      "execution_count": null,
      "metadata": {
        "id": "rneiF4eCtq06"
      },
      "outputs": [],
      "source": [
        "# !ls \"/content/drive/MyDrive/\""
      ]
    },
    {
      "cell_type": "code",
      "execution_count": null,
      "metadata": {
        "id": "XvEF6_5RttxV"
      },
      "outputs": [],
      "source": [
        "data_path = \"/content/fichier_sans_lignes_vides.csv\""
      ]
    },
    {
      "cell_type": "code",
      "execution_count": null,
      "metadata": {
        "id": "v3JruU8ntytj"
      },
      "outputs": [],
      "source": [
        "data = pd.read_csv(data_path)"
      ]
    },
    {
      "cell_type": "code",
      "execution_count": null,
      "metadata": {
        "colab": {
          "base_uri": "https://localhost:8080/",
          "height": 345
        },
        "id": "oSq5pnEdt3QL",
        "outputId": "7e920f48-707c-4310-f8c0-c6822c12baaa"
      },
      "outputs": [
        {
          "data": {
            "application/vnd.google.colaboratory.intrinsic+json": {
              "summary": "{\n  \"name\": \"data\",\n  \"rows\": 31170,\n  \"fields\": [\n    {\n      \"column\": \"Fran\\u00e7ais\",\n      \"properties\": {\n        \"dtype\": \"string\",\n        \"num_unique_values\": 30825,\n        \"samples\": [\n          \"L'\\u00c9ternel parla \\u00e0 Mo\\u00efse, en disant: Je suis l'\\u00c9ternel; dis \\u00e0 Pharaon, roi d'\\u00c9gypte, tout ce que je te dirai.\",\n          \"Pendant tout le temps de son Nazar\\u00e9at, il ne mangera rien de tout ce que la vigne produit, depuis les p\\u00e9pins jusqu'\\u00e0 la peau.\",\n          \"Vous me serez des hommes saints, et vous ne mangerez point de chair d\\u00e9chir\\u00e9e aux champs par les b\\u00eates sauvages, vous la jetterez aux chiens.\"\n        ],\n        \"semantic_type\": \"\",\n        \"description\": \"\"\n      }\n    },\n    {\n      \"column\": \"Lingala\",\n      \"properties\": {\n        \"dtype\": \"string\",\n        \"num_unique_values\": 30700,\n        \"samples\": [\n          \"Boni, moto mwindo akoki solo kobongola poso ya nzoto na ye\\u00a0? Nkoyi ekoki kolongola penza matono ya poso ya nzoto na yango\\u00a0? Bokokoka kosala malamu te, bino bato oyo bomesana kosala mabe.\",\n          \"Boye Davidi mpe Abishayi bakomaki, na butu, na esika oyo basoda bazalaki. Bakutaki Saulo alali pongi na kati-kati ya molako, mpe likonga na ye epikamaki na mabele, na pembeni ya moto na ye. Abineri mpe basoda balalaki zingazinga na ye.\",\n          \"Moyize mpe Nganga-Nzambe Eleazari bazwaki wolo na maboko ya bakonzi ya nkoto ya basoda mpe ya nkama ya basoda mpe bamemaki yango kati na Ndako ya kapo ya Bokutani lokola ekaniseli mpo na bana ya Isalaele liboso ya Yawe.\"\n        ],\n        \"semantic_type\": \"\",\n        \"description\": \"\"\n      }\n    }\n  ]\n}",
              "type": "dataframe",
              "variable_name": "data"
            },
            "text/html": [
              "\n",
              "  <div id=\"df-f54976bc-a41d-4d58-9c95-7aa674175dcd\" class=\"colab-df-container\">\n",
              "    <div>\n",
              "<style scoped>\n",
              "    .dataframe tbody tr th:only-of-type {\n",
              "        vertical-align: middle;\n",
              "    }\n",
              "\n",
              "    .dataframe tbody tr th {\n",
              "        vertical-align: top;\n",
              "    }\n",
              "\n",
              "    .dataframe thead th {\n",
              "        text-align: right;\n",
              "    }\n",
              "</style>\n",
              "<table border=\"1\" class=\"dataframe\">\n",
              "  <thead>\n",
              "    <tr style=\"text-align: right;\">\n",
              "      <th></th>\n",
              "      <th>Français</th>\n",
              "      <th>Lingala</th>\n",
              "    </tr>\n",
              "  </thead>\n",
              "  <tbody>\n",
              "    <tr>\n",
              "      <th>0</th>\n",
              "      <td>Au commencement, Dieu créa les cieux et la terre.</td>\n",
              "      <td>Na ebandeli, Nzambe akelaki Likolo mpe mokili.</td>\n",
              "    </tr>\n",
              "    <tr>\n",
              "      <th>1</th>\n",
              "      <td>Or la terre était informe et vide, et les ténèbres étaient à la surface de l'abîme, et l'Esprit de Dieu se mouvait sur les eaux.</td>\n",
              "      <td>Mokili ezalaki na lolenge te mpe ezalaki pamba. Molili ezalaki na likolo ya mozindo ; mpe Molimo ya Nzambe azalaki kopepa na likolo ya mayi.</td>\n",
              "    </tr>\n",
              "    <tr>\n",
              "      <th>2</th>\n",
              "      <td>Et Dieu dit: Que la lumière soit; et la lumière fut.</td>\n",
              "      <td>Mpe Nzambe alobaki : « Tika ete pole ezala ! » Mpe pole ezalaki.</td>\n",
              "    </tr>\n",
              "    <tr>\n",
              "      <th>3</th>\n",
              "      <td>Et Dieu vit que la lumière était bonne; et Dieu sépara la lumière d'avec les ténèbres.</td>\n",
              "      <td>Nzambe amonaki ete pole ezali malamu, akabolaki pole na molili.</td>\n",
              "    </tr>\n",
              "    <tr>\n",
              "      <th>4</th>\n",
              "      <td>Et Dieu nomma la lumière, jour; et il nomma les ténèbres, nuit. Et il y eut un soir, et il y eut un matin; ce fut le premier jour.</td>\n",
              "      <td>Nzambe abengaki pole « moyi, » mpe abengaki molili « butu. » Pokwa ezalaki mpe tongo ezalaki. Yango ezalaki mokolo moko.</td>\n",
              "    </tr>\n",
              "  </tbody>\n",
              "</table>\n",
              "</div>\n",
              "    <div class=\"colab-df-buttons\">\n",
              "\n",
              "  <div class=\"colab-df-container\">\n",
              "    <button class=\"colab-df-convert\" onclick=\"convertToInteractive('df-f54976bc-a41d-4d58-9c95-7aa674175dcd')\"\n",
              "            title=\"Convert this dataframe to an interactive table.\"\n",
              "            style=\"display:none;\">\n",
              "\n",
              "  <svg xmlns=\"http://www.w3.org/2000/svg\" height=\"24px\" viewBox=\"0 -960 960 960\">\n",
              "    <path d=\"M120-120v-720h720v720H120Zm60-500h600v-160H180v160Zm220 220h160v-160H400v160Zm0 220h160v-160H400v160ZM180-400h160v-160H180v160Zm440 0h160v-160H620v160ZM180-180h160v-160H180v160Zm440 0h160v-160H620v160Z\"/>\n",
              "  </svg>\n",
              "    </button>\n",
              "\n",
              "  <style>\n",
              "    .colab-df-container {\n",
              "      display:flex;\n",
              "      gap: 12px;\n",
              "    }\n",
              "\n",
              "    .colab-df-convert {\n",
              "      background-color: #E8F0FE;\n",
              "      border: none;\n",
              "      border-radius: 50%;\n",
              "      cursor: pointer;\n",
              "      display: none;\n",
              "      fill: #1967D2;\n",
              "      height: 32px;\n",
              "      padding: 0 0 0 0;\n",
              "      width: 32px;\n",
              "    }\n",
              "\n",
              "    .colab-df-convert:hover {\n",
              "      background-color: #E2EBFA;\n",
              "      box-shadow: 0px 1px 2px rgba(60, 64, 67, 0.3), 0px 1px 3px 1px rgba(60, 64, 67, 0.15);\n",
              "      fill: #174EA6;\n",
              "    }\n",
              "\n",
              "    .colab-df-buttons div {\n",
              "      margin-bottom: 4px;\n",
              "    }\n",
              "\n",
              "    [theme=dark] .colab-df-convert {\n",
              "      background-color: #3B4455;\n",
              "      fill: #D2E3FC;\n",
              "    }\n",
              "\n",
              "    [theme=dark] .colab-df-convert:hover {\n",
              "      background-color: #434B5C;\n",
              "      box-shadow: 0px 1px 3px 1px rgba(0, 0, 0, 0.15);\n",
              "      filter: drop-shadow(0px 1px 2px rgba(0, 0, 0, 0.3));\n",
              "      fill: #FFFFFF;\n",
              "    }\n",
              "  </style>\n",
              "\n",
              "    <script>\n",
              "      const buttonEl =\n",
              "        document.querySelector('#df-f54976bc-a41d-4d58-9c95-7aa674175dcd button.colab-df-convert');\n",
              "      buttonEl.style.display =\n",
              "        google.colab.kernel.accessAllowed ? 'block' : 'none';\n",
              "\n",
              "      async function convertToInteractive(key) {\n",
              "        const element = document.querySelector('#df-f54976bc-a41d-4d58-9c95-7aa674175dcd');\n",
              "        const dataTable =\n",
              "          await google.colab.kernel.invokeFunction('convertToInteractive',\n",
              "                                                    [key], {});\n",
              "        if (!dataTable) return;\n",
              "\n",
              "        const docLinkHtml = 'Like what you see? Visit the ' +\n",
              "          '<a target=\"_blank\" href=https://colab.research.google.com/notebooks/data_table.ipynb>data table notebook</a>'\n",
              "          + ' to learn more about interactive tables.';\n",
              "        element.innerHTML = '';\n",
              "        dataTable['output_type'] = 'display_data';\n",
              "        await google.colab.output.renderOutput(dataTable, element);\n",
              "        const docLink = document.createElement('div');\n",
              "        docLink.innerHTML = docLinkHtml;\n",
              "        element.appendChild(docLink);\n",
              "      }\n",
              "    </script>\n",
              "  </div>\n",
              "\n",
              "\n",
              "<div id=\"df-8d67ff0c-f038-48c6-a8d4-d72c13f337a0\">\n",
              "  <button class=\"colab-df-quickchart\" onclick=\"quickchart('df-8d67ff0c-f038-48c6-a8d4-d72c13f337a0')\"\n",
              "            title=\"Suggest charts\"\n",
              "            style=\"display:none;\">\n",
              "\n",
              "<svg xmlns=\"http://www.w3.org/2000/svg\" height=\"24px\"viewBox=\"0 0 24 24\"\n",
              "     width=\"24px\">\n",
              "    <g>\n",
              "        <path d=\"M19 3H5c-1.1 0-2 .9-2 2v14c0 1.1.9 2 2 2h14c1.1 0 2-.9 2-2V5c0-1.1-.9-2-2-2zM9 17H7v-7h2v7zm4 0h-2V7h2v10zm4 0h-2v-4h2v4z\"/>\n",
              "    </g>\n",
              "</svg>\n",
              "  </button>\n",
              "\n",
              "<style>\n",
              "  .colab-df-quickchart {\n",
              "      --bg-color: #E8F0FE;\n",
              "      --fill-color: #1967D2;\n",
              "      --hover-bg-color: #E2EBFA;\n",
              "      --hover-fill-color: #174EA6;\n",
              "      --disabled-fill-color: #AAA;\n",
              "      --disabled-bg-color: #DDD;\n",
              "  }\n",
              "\n",
              "  [theme=dark] .colab-df-quickchart {\n",
              "      --bg-color: #3B4455;\n",
              "      --fill-color: #D2E3FC;\n",
              "      --hover-bg-color: #434B5C;\n",
              "      --hover-fill-color: #FFFFFF;\n",
              "      --disabled-bg-color: #3B4455;\n",
              "      --disabled-fill-color: #666;\n",
              "  }\n",
              "\n",
              "  .colab-df-quickchart {\n",
              "    background-color: var(--bg-color);\n",
              "    border: none;\n",
              "    border-radius: 50%;\n",
              "    cursor: pointer;\n",
              "    display: none;\n",
              "    fill: var(--fill-color);\n",
              "    height: 32px;\n",
              "    padding: 0;\n",
              "    width: 32px;\n",
              "  }\n",
              "\n",
              "  .colab-df-quickchart:hover {\n",
              "    background-color: var(--hover-bg-color);\n",
              "    box-shadow: 0 1px 2px rgba(60, 64, 67, 0.3), 0 1px 3px 1px rgba(60, 64, 67, 0.15);\n",
              "    fill: var(--button-hover-fill-color);\n",
              "  }\n",
              "\n",
              "  .colab-df-quickchart-complete:disabled,\n",
              "  .colab-df-quickchart-complete:disabled:hover {\n",
              "    background-color: var(--disabled-bg-color);\n",
              "    fill: var(--disabled-fill-color);\n",
              "    box-shadow: none;\n",
              "  }\n",
              "\n",
              "  .colab-df-spinner {\n",
              "    border: 2px solid var(--fill-color);\n",
              "    border-color: transparent;\n",
              "    border-bottom-color: var(--fill-color);\n",
              "    animation:\n",
              "      spin 1s steps(1) infinite;\n",
              "  }\n",
              "\n",
              "  @keyframes spin {\n",
              "    0% {\n",
              "      border-color: transparent;\n",
              "      border-bottom-color: var(--fill-color);\n",
              "      border-left-color: var(--fill-color);\n",
              "    }\n",
              "    20% {\n",
              "      border-color: transparent;\n",
              "      border-left-color: var(--fill-color);\n",
              "      border-top-color: var(--fill-color);\n",
              "    }\n",
              "    30% {\n",
              "      border-color: transparent;\n",
              "      border-left-color: var(--fill-color);\n",
              "      border-top-color: var(--fill-color);\n",
              "      border-right-color: var(--fill-color);\n",
              "    }\n",
              "    40% {\n",
              "      border-color: transparent;\n",
              "      border-right-color: var(--fill-color);\n",
              "      border-top-color: var(--fill-color);\n",
              "    }\n",
              "    60% {\n",
              "      border-color: transparent;\n",
              "      border-right-color: var(--fill-color);\n",
              "    }\n",
              "    80% {\n",
              "      border-color: transparent;\n",
              "      border-right-color: var(--fill-color);\n",
              "      border-bottom-color: var(--fill-color);\n",
              "    }\n",
              "    90% {\n",
              "      border-color: transparent;\n",
              "      border-bottom-color: var(--fill-color);\n",
              "    }\n",
              "  }\n",
              "</style>\n",
              "\n",
              "  <script>\n",
              "    async function quickchart(key) {\n",
              "      const quickchartButtonEl =\n",
              "        document.querySelector('#' + key + ' button');\n",
              "      quickchartButtonEl.disabled = true;  // To prevent multiple clicks.\n",
              "      quickchartButtonEl.classList.add('colab-df-spinner');\n",
              "      try {\n",
              "        const charts = await google.colab.kernel.invokeFunction(\n",
              "            'suggestCharts', [key], {});\n",
              "      } catch (error) {\n",
              "        console.error('Error during call to suggestCharts:', error);\n",
              "      }\n",
              "      quickchartButtonEl.classList.remove('colab-df-spinner');\n",
              "      quickchartButtonEl.classList.add('colab-df-quickchart-complete');\n",
              "    }\n",
              "    (() => {\n",
              "      let quickchartButtonEl =\n",
              "        document.querySelector('#df-8d67ff0c-f038-48c6-a8d4-d72c13f337a0 button');\n",
              "      quickchartButtonEl.style.display =\n",
              "        google.colab.kernel.accessAllowed ? 'block' : 'none';\n",
              "    })();\n",
              "  </script>\n",
              "</div>\n",
              "\n",
              "    </div>\n",
              "  </div>\n"
            ],
            "text/plain": [
              "                                                                                                                             Français  \\\n",
              "0                                                                                   Au commencement, Dieu créa les cieux et la terre.   \n",
              "1    Or la terre était informe et vide, et les ténèbres étaient à la surface de l'abîme, et l'Esprit de Dieu se mouvait sur les eaux.   \n",
              "2                                                                                Et Dieu dit: Que la lumière soit; et la lumière fut.   \n",
              "3                                              Et Dieu vit que la lumière était bonne; et Dieu sépara la lumière d'avec les ténèbres.   \n",
              "4  Et Dieu nomma la lumière, jour; et il nomma les ténèbres, nuit. Et il y eut un soir, et il y eut un matin; ce fut le premier jour.   \n",
              "\n",
              "                                                                                                                                        Lingala  \n",
              "0                                                                                                Na ebandeli, Nzambe akelaki Likolo mpe mokili.  \n",
              "1  Mokili ezalaki na lolenge te mpe ezalaki pamba. Molili ezalaki na likolo ya mozindo ; mpe Molimo ya Nzambe azalaki kopepa na likolo ya mayi.  \n",
              "2                                                                              Mpe Nzambe alobaki : « Tika ete pole ezala ! » Mpe pole ezalaki.  \n",
              "3                                                                               Nzambe amonaki ete pole ezali malamu, akabolaki pole na molili.  \n",
              "4                      Nzambe abengaki pole « moyi, » mpe abengaki molili « butu. » Pokwa ezalaki mpe tongo ezalaki. Yango ezalaki mokolo moko.  "
            ]
          },
          "execution_count": 7,
          "metadata": {},
          "output_type": "execute_result"
        }
      ],
      "source": [
        "data.head()"
      ]
    },
    {
      "cell_type": "code",
      "execution_count": null,
      "metadata": {
        "colab": {
          "base_uri": "https://localhost:8080/"
        },
        "id": "6lo4UGTXt5pQ",
        "outputId": "78b92229-4c7b-4d61-9223-bb2bbcf923b0"
      },
      "outputs": [
        {
          "data": {
            "text/plain": [
              "(31170, 2)"
            ]
          },
          "execution_count": 8,
          "metadata": {},
          "output_type": "execute_result"
        }
      ],
      "source": [
        "data.shape"
      ]
    },
    {
      "cell_type": "code",
      "execution_count": null,
      "metadata": {
        "id": "bHc8b_0PuaEa"
      },
      "outputs": [],
      "source": [
        "fr_lin = data[:30000]"
      ]
    },
    {
      "cell_type": "code",
      "execution_count": null,
      "metadata": {
        "colab": {
          "base_uri": "https://localhost:8080/",
          "height": 874
        },
        "id": "vzMHRL-sur1N",
        "outputId": "cd7088ca-2693-4fd8-e71a-7ce1a835512a"
      },
      "outputs": [
        {
          "data": {
            "application/vnd.google.colaboratory.intrinsic+json": {
              "summary": "{\n  \"name\": \"fr_lin\",\n  \"rows\": 30000,\n  \"fields\": [\n    {\n      \"column\": \"Fran\\u00e7ais\",\n      \"properties\": {\n        \"dtype\": \"string\",\n        \"num_unique_values\": 29660,\n        \"samples\": [\n          \"Alors il s'\\u00e9loigna d'eux environ d'un jet de pierre, et s'\\u00e9tant mis \\u00e0 genoux, il priait,\",\n          \"Et il leur dit: Il est \\u00e9crit: Ma maison sera appel\\u00e9e une maison de pri\\u00e8re; mais vous en avez fait une caverne de brigands.\",\n          \"Et la seconde fois, Joseph fut reconnu par ses fr\\u00e8res, et Pharaon connut la famille de Joseph.\"\n        ],\n        \"semantic_type\": \"\",\n        \"description\": \"\"\n      }\n    },\n    {\n      \"column\": \"Lingala\",\n      \"properties\": {\n        \"dtype\": \"string\",\n        \"num_unique_values\": 29534,\n        \"samples\": [\n          \"Ndenge mokili ya bakufi esalaka, tokomela ye ya bomoi, tokomela ye mobimba lokola bato oyo bakitaka na libulu ya kufa\\u00a0;\",\n          \"mpe atunaki bango\\u00a0: \\u2014 Boni, bozwaki Molimo Mosantu tango bokomaki bandimi\\u00a0? Bazongisaki\\u00a0: \\u2014 Te\\u00a0! Totikala nanu koyoka te ete Molimo Mosantu azalaka.\",\n          \"Yesu akamataki mwana moko ya moke, atiaki ye na kati-kati na bango mpe, sima na Ye koyamba mwana yango na maboko na Ye, alobaki na bango\\u00a0:\"\n        ],\n        \"semantic_type\": \"\",\n        \"description\": \"\"\n      }\n    }\n  ]\n}",
              "type": "dataframe",
              "variable_name": "fr_lin"
            },
            "text/html": [
              "\n",
              "  <div id=\"df-35f08b14-f9d9-4fb2-91a4-223d48e19781\" class=\"colab-df-container\">\n",
              "    <div>\n",
              "<style scoped>\n",
              "    .dataframe tbody tr th:only-of-type {\n",
              "        vertical-align: middle;\n",
              "    }\n",
              "\n",
              "    .dataframe tbody tr th {\n",
              "        vertical-align: top;\n",
              "    }\n",
              "\n",
              "    .dataframe thead th {\n",
              "        text-align: right;\n",
              "    }\n",
              "</style>\n",
              "<table border=\"1\" class=\"dataframe\">\n",
              "  <thead>\n",
              "    <tr style=\"text-align: right;\">\n",
              "      <th></th>\n",
              "      <th>Français</th>\n",
              "      <th>Lingala</th>\n",
              "    </tr>\n",
              "  </thead>\n",
              "  <tbody>\n",
              "    <tr>\n",
              "      <th>0</th>\n",
              "      <td>Au commencement, Dieu créa les cieux et la terre.</td>\n",
              "      <td>Na ebandeli, Nzambe akelaki Likolo mpe mokili.</td>\n",
              "    </tr>\n",
              "    <tr>\n",
              "      <th>1</th>\n",
              "      <td>Or la terre était informe et vide, et les ténèbres étaient à la surface de l'abîme, et l'Esprit de Dieu se mouvait sur les eaux.</td>\n",
              "      <td>Mokili ezalaki na lolenge te mpe ezalaki pamba. Molili ezalaki na likolo ya mozindo ; mpe Molimo ya Nzambe azalaki kopepa na likolo ya mayi.</td>\n",
              "    </tr>\n",
              "    <tr>\n",
              "      <th>2</th>\n",
              "      <td>Et Dieu dit: Que la lumière soit; et la lumière fut.</td>\n",
              "      <td>Mpe Nzambe alobaki : « Tika ete pole ezala ! » Mpe pole ezalaki.</td>\n",
              "    </tr>\n",
              "    <tr>\n",
              "      <th>3</th>\n",
              "      <td>Et Dieu vit que la lumière était bonne; et Dieu sépara la lumière d'avec les ténèbres.</td>\n",
              "      <td>Nzambe amonaki ete pole ezali malamu, akabolaki pole na molili.</td>\n",
              "    </tr>\n",
              "    <tr>\n",
              "      <th>4</th>\n",
              "      <td>Et Dieu nomma la lumière, jour; et il nomma les ténèbres, nuit. Et il y eut un soir, et il y eut un matin; ce fut le premier jour.</td>\n",
              "      <td>Nzambe abengaki pole « moyi, » mpe abengaki molili « butu. » Pokwa ezalaki mpe tongo ezalaki. Yango ezalaki mokolo moko.</td>\n",
              "    </tr>\n",
              "    <tr>\n",
              "      <th>...</th>\n",
              "      <td>...</td>\n",
              "      <td>...</td>\n",
              "    </tr>\n",
              "    <tr>\n",
              "      <th>29995</th>\n",
              "      <td>Qu'il a répandu avec richesse sur nous, par Jésus-Christ notre Sauveur;</td>\n",
              "      <td>Nzambe asopelaki biso Molimo Mosantu na bofuluki penza na nzela ya Yesu-Klisto, Mobikisi na biso,</td>\n",
              "    </tr>\n",
              "    <tr>\n",
              "      <th>29996</th>\n",
              "      <td>Afin que, justifiés par sa grâce, nous fussions héritiers de la vie éternelle selon notre espérance.</td>\n",
              "      <td>mpo ete, wana akomisi biso bato ya sembo na nzela ya ngolu na Ye, tokoma bakitani ya libula kolanda elikya ya bomoi ya seko.</td>\n",
              "    </tr>\n",
              "    <tr>\n",
              "      <th>29997</th>\n",
              "      <td>Cette parole est certaine, et je veux que tu établisses fortement ces choses, afin que ceux qui ont cru en Dieu s'appliquent à pratiquer les bonnes œuvres; voilà les choses qui sont bonnes et util...</td>\n",
              "      <td>Makambo oyo nawuti koloba ezali penza ya solo ; mpe nalingi ete obetelaka yango sete makasi, mpo ete bato oyo bandimeli Nzambe bamipesa mobimba mpo na kosala misala ya malamu. Yango nde makambo oy...</td>\n",
              "    </tr>\n",
              "    <tr>\n",
              "      <th>29998</th>\n",
              "      <td>Mais évite les questions folles, les généalogies, les contestations et les disputes touchant la loi; car elles sont inutiles et vaines.</td>\n",
              "      <td>Kasi kima tembe ya bozoba, masolo ya milongo ya mbotama, koswana mpe bitumba na tina na mibeko : ezali na litomba te mpe ezali na tina te.</td>\n",
              "    </tr>\n",
              "    <tr>\n",
              "      <th>29999</th>\n",
              "      <td>Éloigne-toi de l'homme hérétique, après l'avoir averti une première et une seconde fois;</td>\n",
              "      <td>Soki, kati na Lingomba, ezali na moto oyo amemaka bokabwani, kebisa ye, mbala moko, mpe kebisa ye mbala ya mibale. Soki aboyi kaka koyoka, bimisa ye libanda ya Lingomba ;</td>\n",
              "    </tr>\n",
              "  </tbody>\n",
              "</table>\n",
              "<p>30000 rows × 2 columns</p>\n",
              "</div>\n",
              "    <div class=\"colab-df-buttons\">\n",
              "\n",
              "  <div class=\"colab-df-container\">\n",
              "    <button class=\"colab-df-convert\" onclick=\"convertToInteractive('df-35f08b14-f9d9-4fb2-91a4-223d48e19781')\"\n",
              "            title=\"Convert this dataframe to an interactive table.\"\n",
              "            style=\"display:none;\">\n",
              "\n",
              "  <svg xmlns=\"http://www.w3.org/2000/svg\" height=\"24px\" viewBox=\"0 -960 960 960\">\n",
              "    <path d=\"M120-120v-720h720v720H120Zm60-500h600v-160H180v160Zm220 220h160v-160H400v160Zm0 220h160v-160H400v160ZM180-400h160v-160H180v160Zm440 0h160v-160H620v160ZM180-180h160v-160H180v160Zm440 0h160v-160H620v160Z\"/>\n",
              "  </svg>\n",
              "    </button>\n",
              "\n",
              "  <style>\n",
              "    .colab-df-container {\n",
              "      display:flex;\n",
              "      gap: 12px;\n",
              "    }\n",
              "\n",
              "    .colab-df-convert {\n",
              "      background-color: #E8F0FE;\n",
              "      border: none;\n",
              "      border-radius: 50%;\n",
              "      cursor: pointer;\n",
              "      display: none;\n",
              "      fill: #1967D2;\n",
              "      height: 32px;\n",
              "      padding: 0 0 0 0;\n",
              "      width: 32px;\n",
              "    }\n",
              "\n",
              "    .colab-df-convert:hover {\n",
              "      background-color: #E2EBFA;\n",
              "      box-shadow: 0px 1px 2px rgba(60, 64, 67, 0.3), 0px 1px 3px 1px rgba(60, 64, 67, 0.15);\n",
              "      fill: #174EA6;\n",
              "    }\n",
              "\n",
              "    .colab-df-buttons div {\n",
              "      margin-bottom: 4px;\n",
              "    }\n",
              "\n",
              "    [theme=dark] .colab-df-convert {\n",
              "      background-color: #3B4455;\n",
              "      fill: #D2E3FC;\n",
              "    }\n",
              "\n",
              "    [theme=dark] .colab-df-convert:hover {\n",
              "      background-color: #434B5C;\n",
              "      box-shadow: 0px 1px 3px 1px rgba(0, 0, 0, 0.15);\n",
              "      filter: drop-shadow(0px 1px 2px rgba(0, 0, 0, 0.3));\n",
              "      fill: #FFFFFF;\n",
              "    }\n",
              "  </style>\n",
              "\n",
              "    <script>\n",
              "      const buttonEl =\n",
              "        document.querySelector('#df-35f08b14-f9d9-4fb2-91a4-223d48e19781 button.colab-df-convert');\n",
              "      buttonEl.style.display =\n",
              "        google.colab.kernel.accessAllowed ? 'block' : 'none';\n",
              "\n",
              "      async function convertToInteractive(key) {\n",
              "        const element = document.querySelector('#df-35f08b14-f9d9-4fb2-91a4-223d48e19781');\n",
              "        const dataTable =\n",
              "          await google.colab.kernel.invokeFunction('convertToInteractive',\n",
              "                                                    [key], {});\n",
              "        if (!dataTable) return;\n",
              "\n",
              "        const docLinkHtml = 'Like what you see? Visit the ' +\n",
              "          '<a target=\"_blank\" href=https://colab.research.google.com/notebooks/data_table.ipynb>data table notebook</a>'\n",
              "          + ' to learn more about interactive tables.';\n",
              "        element.innerHTML = '';\n",
              "        dataTable['output_type'] = 'display_data';\n",
              "        await google.colab.output.renderOutput(dataTable, element);\n",
              "        const docLink = document.createElement('div');\n",
              "        docLink.innerHTML = docLinkHtml;\n",
              "        element.appendChild(docLink);\n",
              "      }\n",
              "    </script>\n",
              "  </div>\n",
              "\n",
              "\n",
              "<div id=\"df-4cf4329a-619b-4002-bd7e-af58f1dae499\">\n",
              "  <button class=\"colab-df-quickchart\" onclick=\"quickchart('df-4cf4329a-619b-4002-bd7e-af58f1dae499')\"\n",
              "            title=\"Suggest charts\"\n",
              "            style=\"display:none;\">\n",
              "\n",
              "<svg xmlns=\"http://www.w3.org/2000/svg\" height=\"24px\"viewBox=\"0 0 24 24\"\n",
              "     width=\"24px\">\n",
              "    <g>\n",
              "        <path d=\"M19 3H5c-1.1 0-2 .9-2 2v14c0 1.1.9 2 2 2h14c1.1 0 2-.9 2-2V5c0-1.1-.9-2-2-2zM9 17H7v-7h2v7zm4 0h-2V7h2v10zm4 0h-2v-4h2v4z\"/>\n",
              "    </g>\n",
              "</svg>\n",
              "  </button>\n",
              "\n",
              "<style>\n",
              "  .colab-df-quickchart {\n",
              "      --bg-color: #E8F0FE;\n",
              "      --fill-color: #1967D2;\n",
              "      --hover-bg-color: #E2EBFA;\n",
              "      --hover-fill-color: #174EA6;\n",
              "      --disabled-fill-color: #AAA;\n",
              "      --disabled-bg-color: #DDD;\n",
              "  }\n",
              "\n",
              "  [theme=dark] .colab-df-quickchart {\n",
              "      --bg-color: #3B4455;\n",
              "      --fill-color: #D2E3FC;\n",
              "      --hover-bg-color: #434B5C;\n",
              "      --hover-fill-color: #FFFFFF;\n",
              "      --disabled-bg-color: #3B4455;\n",
              "      --disabled-fill-color: #666;\n",
              "  }\n",
              "\n",
              "  .colab-df-quickchart {\n",
              "    background-color: var(--bg-color);\n",
              "    border: none;\n",
              "    border-radius: 50%;\n",
              "    cursor: pointer;\n",
              "    display: none;\n",
              "    fill: var(--fill-color);\n",
              "    height: 32px;\n",
              "    padding: 0;\n",
              "    width: 32px;\n",
              "  }\n",
              "\n",
              "  .colab-df-quickchart:hover {\n",
              "    background-color: var(--hover-bg-color);\n",
              "    box-shadow: 0 1px 2px rgba(60, 64, 67, 0.3), 0 1px 3px 1px rgba(60, 64, 67, 0.15);\n",
              "    fill: var(--button-hover-fill-color);\n",
              "  }\n",
              "\n",
              "  .colab-df-quickchart-complete:disabled,\n",
              "  .colab-df-quickchart-complete:disabled:hover {\n",
              "    background-color: var(--disabled-bg-color);\n",
              "    fill: var(--disabled-fill-color);\n",
              "    box-shadow: none;\n",
              "  }\n",
              "\n",
              "  .colab-df-spinner {\n",
              "    border: 2px solid var(--fill-color);\n",
              "    border-color: transparent;\n",
              "    border-bottom-color: var(--fill-color);\n",
              "    animation:\n",
              "      spin 1s steps(1) infinite;\n",
              "  }\n",
              "\n",
              "  @keyframes spin {\n",
              "    0% {\n",
              "      border-color: transparent;\n",
              "      border-bottom-color: var(--fill-color);\n",
              "      border-left-color: var(--fill-color);\n",
              "    }\n",
              "    20% {\n",
              "      border-color: transparent;\n",
              "      border-left-color: var(--fill-color);\n",
              "      border-top-color: var(--fill-color);\n",
              "    }\n",
              "    30% {\n",
              "      border-color: transparent;\n",
              "      border-left-color: var(--fill-color);\n",
              "      border-top-color: var(--fill-color);\n",
              "      border-right-color: var(--fill-color);\n",
              "    }\n",
              "    40% {\n",
              "      border-color: transparent;\n",
              "      border-right-color: var(--fill-color);\n",
              "      border-top-color: var(--fill-color);\n",
              "    }\n",
              "    60% {\n",
              "      border-color: transparent;\n",
              "      border-right-color: var(--fill-color);\n",
              "    }\n",
              "    80% {\n",
              "      border-color: transparent;\n",
              "      border-right-color: var(--fill-color);\n",
              "      border-bottom-color: var(--fill-color);\n",
              "    }\n",
              "    90% {\n",
              "      border-color: transparent;\n",
              "      border-bottom-color: var(--fill-color);\n",
              "    }\n",
              "  }\n",
              "</style>\n",
              "\n",
              "  <script>\n",
              "    async function quickchart(key) {\n",
              "      const quickchartButtonEl =\n",
              "        document.querySelector('#' + key + ' button');\n",
              "      quickchartButtonEl.disabled = true;  // To prevent multiple clicks.\n",
              "      quickchartButtonEl.classList.add('colab-df-spinner');\n",
              "      try {\n",
              "        const charts = await google.colab.kernel.invokeFunction(\n",
              "            'suggestCharts', [key], {});\n",
              "      } catch (error) {\n",
              "        console.error('Error during call to suggestCharts:', error);\n",
              "      }\n",
              "      quickchartButtonEl.classList.remove('colab-df-spinner');\n",
              "      quickchartButtonEl.classList.add('colab-df-quickchart-complete');\n",
              "    }\n",
              "    (() => {\n",
              "      let quickchartButtonEl =\n",
              "        document.querySelector('#df-4cf4329a-619b-4002-bd7e-af58f1dae499 button');\n",
              "      quickchartButtonEl.style.display =\n",
              "        google.colab.kernel.accessAllowed ? 'block' : 'none';\n",
              "    })();\n",
              "  </script>\n",
              "</div>\n",
              "\n",
              "  <div id=\"id_ba9bc948-7115-4c4a-a657-634798357951\">\n",
              "    <style>\n",
              "      .colab-df-generate {\n",
              "        background-color: #E8F0FE;\n",
              "        border: none;\n",
              "        border-radius: 50%;\n",
              "        cursor: pointer;\n",
              "        display: none;\n",
              "        fill: #1967D2;\n",
              "        height: 32px;\n",
              "        padding: 0 0 0 0;\n",
              "        width: 32px;\n",
              "      }\n",
              "\n",
              "      .colab-df-generate:hover {\n",
              "        background-color: #E2EBFA;\n",
              "        box-shadow: 0px 1px 2px rgba(60, 64, 67, 0.3), 0px 1px 3px 1px rgba(60, 64, 67, 0.15);\n",
              "        fill: #174EA6;\n",
              "      }\n",
              "\n",
              "      [theme=dark] .colab-df-generate {\n",
              "        background-color: #3B4455;\n",
              "        fill: #D2E3FC;\n",
              "      }\n",
              "\n",
              "      [theme=dark] .colab-df-generate:hover {\n",
              "        background-color: #434B5C;\n",
              "        box-shadow: 0px 1px 3px 1px rgba(0, 0, 0, 0.15);\n",
              "        filter: drop-shadow(0px 1px 2px rgba(0, 0, 0, 0.3));\n",
              "        fill: #FFFFFF;\n",
              "      }\n",
              "    </style>\n",
              "    <button class=\"colab-df-generate\" onclick=\"generateWithVariable('fr_lin')\"\n",
              "            title=\"Generate code using this dataframe.\"\n",
              "            style=\"display:none;\">\n",
              "\n",
              "  <svg xmlns=\"http://www.w3.org/2000/svg\" height=\"24px\"viewBox=\"0 0 24 24\"\n",
              "       width=\"24px\">\n",
              "    <path d=\"M7,19H8.4L18.45,9,17,7.55,7,17.6ZM5,21V16.75L18.45,3.32a2,2,0,0,1,2.83,0l1.4,1.43a1.91,1.91,0,0,1,.58,1.4,1.91,1.91,0,0,1-.58,1.4L9.25,21ZM18.45,9,17,7.55Zm-12,3A5.31,5.31,0,0,0,4.9,8.1,5.31,5.31,0,0,0,1,6.5,5.31,5.31,0,0,0,4.9,4.9,5.31,5.31,0,0,0,6.5,1,5.31,5.31,0,0,0,8.1,4.9,5.31,5.31,0,0,0,12,6.5,5.46,5.46,0,0,0,6.5,12Z\"/>\n",
              "  </svg>\n",
              "    </button>\n",
              "    <script>\n",
              "      (() => {\n",
              "      const buttonEl =\n",
              "        document.querySelector('#id_ba9bc948-7115-4c4a-a657-634798357951 button.colab-df-generate');\n",
              "      buttonEl.style.display =\n",
              "        google.colab.kernel.accessAllowed ? 'block' : 'none';\n",
              "\n",
              "      buttonEl.onclick = () => {\n",
              "        google.colab.notebook.generateWithVariable('fr_lin');\n",
              "      }\n",
              "      })();\n",
              "    </script>\n",
              "  </div>\n",
              "\n",
              "    </div>\n",
              "  </div>\n"
            ],
            "text/plain": [
              "                                                                                                                                                                                                      Français  \\\n",
              "0                                                                                                                                                            Au commencement, Dieu créa les cieux et la terre.   \n",
              "1                                                                             Or la terre était informe et vide, et les ténèbres étaient à la surface de l'abîme, et l'Esprit de Dieu se mouvait sur les eaux.   \n",
              "2                                                                                                                                                         Et Dieu dit: Que la lumière soit; et la lumière fut.   \n",
              "3                                                                                                                       Et Dieu vit que la lumière était bonne; et Dieu sépara la lumière d'avec les ténèbres.   \n",
              "4                                                                           Et Dieu nomma la lumière, jour; et il nomma les ténèbres, nuit. Et il y eut un soir, et il y eut un matin; ce fut le premier jour.   \n",
              "...                                                                                                                                                                                                        ...   \n",
              "29995                                                                                                                                  Qu'il a répandu avec richesse sur nous, par Jésus-Christ notre Sauveur;   \n",
              "29996                                                                                                     Afin que, justifiés par sa grâce, nous fussions héritiers de la vie éternelle selon notre espérance.   \n",
              "29997  Cette parole est certaine, et je veux que tu établisses fortement ces choses, afin que ceux qui ont cru en Dieu s'appliquent à pratiquer les bonnes œuvres; voilà les choses qui sont bonnes et util...   \n",
              "29998                                                                  Mais évite les questions folles, les généalogies, les contestations et les disputes touchant la loi; car elles sont inutiles et vaines.   \n",
              "29999                                                                                                                 Éloigne-toi de l'homme hérétique, après l'avoir averti une première et une seconde fois;   \n",
              "\n",
              "                                                                                                                                                                                                       Lingala  \n",
              "0                                                                                                                                                               Na ebandeli, Nzambe akelaki Likolo mpe mokili.  \n",
              "1                                                                 Mokili ezalaki na lolenge te mpe ezalaki pamba. Molili ezalaki na likolo ya mozindo ; mpe Molimo ya Nzambe azalaki kopepa na likolo ya mayi.  \n",
              "2                                                                                                                                             Mpe Nzambe alobaki : « Tika ete pole ezala ! » Mpe pole ezalaki.  \n",
              "3                                                                                                                                              Nzambe amonaki ete pole ezali malamu, akabolaki pole na molili.  \n",
              "4                                                                                     Nzambe abengaki pole « moyi, » mpe abengaki molili « butu. » Pokwa ezalaki mpe tongo ezalaki. Yango ezalaki mokolo moko.  \n",
              "...                                                                                                                                                                                                        ...  \n",
              "29995                                                                                                        Nzambe asopelaki biso Molimo Mosantu na bofuluki penza na nzela ya Yesu-Klisto, Mobikisi na biso,  \n",
              "29996                                                                             mpo ete, wana akomisi biso bato ya sembo na nzela ya ngolu na Ye, tokoma bakitani ya libula kolanda elikya ya bomoi ya seko.  \n",
              "29997  Makambo oyo nawuti koloba ezali penza ya solo ; mpe nalingi ete obetelaka yango sete makasi, mpo ete bato oyo bandimeli Nzambe bamipesa mobimba mpo na kosala misala ya malamu. Yango nde makambo oy...  \n",
              "29998                                                               Kasi kima tembe ya bozoba, masolo ya milongo ya mbotama, koswana mpe bitumba na tina na mibeko : ezali na litomba te mpe ezali na tina te.  \n",
              "29999                               Soki, kati na Lingomba, ezali na moto oyo amemaka bokabwani, kebisa ye, mbala moko, mpe kebisa ye mbala ya mibale. Soki aboyi kaka koyoka, bimisa ye libanda ya Lingomba ;  \n",
              "\n",
              "[30000 rows x 2 columns]"
            ]
          },
          "execution_count": 10,
          "metadata": {},
          "output_type": "execute_result"
        }
      ],
      "source": [
        "fr_lin"
      ]
    },
    {
      "cell_type": "markdown",
      "metadata": {
        "id": "3jzMu-rVvBIb"
      },
      "source": [
        "# Data cleaning"
      ]
    },
    {
      "cell_type": "code",
      "execution_count": null,
      "metadata": {
        "colab": {
          "base_uri": "https://localhost:8080/"
        },
        "id": "Prsbse7kvymW",
        "outputId": "13e1612e-680f-45d1-a7c2-ab8b2e1394de"
      },
      "outputs": [
        {
          "data": {
            "text/plain": [
              "0                                                                                                                                                              Au commencement, Dieu créa les cieux et la terre.\n",
              "1                                                                               Or la terre était informe et vide, et les ténèbres étaient à la surface de l'abîme, et l'Esprit de Dieu se mouvait sur les eaux.\n",
              "2                                                                                                                                                           Et Dieu dit: Que la lumière soit; et la lumière fut.\n",
              "3                                                                                                                         Et Dieu vit que la lumière était bonne; et Dieu sépara la lumière d'avec les ténèbres.\n",
              "4                                                                             Et Dieu nomma la lumière, jour; et il nomma les ténèbres, nuit. Et il y eut un soir, et il y eut un matin; ce fut le premier jour.\n",
              "                                                                                                          ...                                                                                                   \n",
              "29995                                                                                                                                    Qu'il a répandu avec richesse sur nous, par Jésus-Christ notre Sauveur;\n",
              "29996                                                                                                       Afin que, justifiés par sa grâce, nous fussions héritiers de la vie éternelle selon notre espérance.\n",
              "29997    Cette parole est certaine, et je veux que tu établisses fortement ces choses, afin que ceux qui ont cru en Dieu s'appliquent à pratiquer les bonnes œuvres; voilà les choses qui sont bonnes et util...\n",
              "29998                                                                    Mais évite les questions folles, les généalogies, les contestations et les disputes touchant la loi; car elles sont inutiles et vaines.\n",
              "29999                                                                                                                   Éloigne-toi de l'homme hérétique, après l'avoir averti une première et une seconde fois;\n",
              "Name: Français, Length: 30000, dtype: object"
            ]
          },
          "execution_count": 11,
          "metadata": {},
          "output_type": "execute_result"
        }
      ],
      "source": [
        "fr_lin.iloc[:,0]"
      ]
    },
    {
      "cell_type": "code",
      "execution_count": null,
      "metadata": {
        "colab": {
          "base_uri": "https://localhost:8080/"
        },
        "id": "G_9mtcemzAoH",
        "outputId": "7e06c8ac-0034-43cc-a9c7-1d253e8e8abf"
      },
      "outputs": [
        {
          "data": {
            "text/plain": [
              "0                                                                                                                                                                 Na ebandeli, Nzambe akelaki Likolo mpe mokili.\n",
              "1                                                                   Mokili ezalaki na lolenge te mpe ezalaki pamba. Molili ezalaki na likolo ya mozindo ; mpe Molimo ya Nzambe azalaki kopepa na likolo ya mayi.\n",
              "2                                                                                                                                               Mpe Nzambe alobaki : « Tika ete pole ezala ! » Mpe pole ezalaki.\n",
              "3                                                                                                                                                Nzambe amonaki ete pole ezali malamu, akabolaki pole na molili.\n",
              "4                                                                                       Nzambe abengaki pole « moyi, » mpe abengaki molili « butu. » Pokwa ezalaki mpe tongo ezalaki. Yango ezalaki mokolo moko.\n",
              "                                                                                                          ...                                                                                                   \n",
              "29995                                                                                                          Nzambe asopelaki biso Molimo Mosantu na bofuluki penza na nzela ya Yesu-Klisto, Mobikisi na biso,\n",
              "29996                                                                               mpo ete, wana akomisi biso bato ya sembo na nzela ya ngolu na Ye, tokoma bakitani ya libula kolanda elikya ya bomoi ya seko.\n",
              "29997    Makambo oyo nawuti koloba ezali penza ya solo ; mpe nalingi ete obetelaka yango sete makasi, mpo ete bato oyo bandimeli Nzambe bamipesa mobimba mpo na kosala misala ya malamu. Yango nde makambo oy...\n",
              "29998                                                                 Kasi kima tembe ya bozoba, masolo ya milongo ya mbotama, koswana mpe bitumba na tina na mibeko : ezali na litomba te mpe ezali na tina te.\n",
              "29999                                 Soki, kati na Lingomba, ezali na moto oyo amemaka bokabwani, kebisa ye, mbala moko, mpe kebisa ye mbala ya mibale. Soki aboyi kaka koyoka, bimisa ye libanda ya Lingomba ;\n",
              "Name: Lingala, Length: 30000, dtype: object"
            ]
          },
          "execution_count": 12,
          "metadata": {},
          "output_type": "execute_result"
        }
      ],
      "source": [
        "fr_lin.iloc[:,1]"
      ]
    },
    {
      "cell_type": "code",
      "execution_count": null,
      "metadata": {
        "id": "GfteDXkObXU3"
      },
      "outputs": [],
      "source": [
        "fr_lin = fr_lin.astype(str)"
      ]
    },
    {
      "cell_type": "code",
      "execution_count": null,
      "metadata": {
        "id": "FC-T2C9Ouudv"
      },
      "outputs": [],
      "source": [
        "fr_lin.iloc[:,0] = [s.translate(str.maketrans('', '', string.punctuation)) for s in fr_lin.iloc[:,0]]\n",
        "fr_lin.iloc[:,1] = [s.translate(str.maketrans('', '', string.punctuation)) for s in fr_lin.iloc[:,1]]"
      ]
    },
    {
      "cell_type": "code",
      "execution_count": null,
      "metadata": {
        "id": "kYC6baTSvqpo"
      },
      "outputs": [],
      "source": [
        "# corpus_fr = []\n",
        "# for fr_li in fr_lin:\n",
        "#   fr_li = str(fr_li).split('nan')[0]\n",
        "#   fr_li = fr_li.lower()\n",
        "#   fr_li = re.sub(r'[^a-zA-Z0-9\\s]', '', fr_li)  # Supprime les caractères spéciaux\n",
        "#   fr_li = re.sub(r'\\s+', ' ', fr_li)  # Supprime les espaces multiples\n",
        "#   fr_li = fr_li.strip()  # Supprime les espaces en début et fin de phrase\n",
        "#   if fr_li:\n",
        "#     corpus_fr.append(fr_li)"
      ]
    },
    {
      "cell_type": "code",
      "execution_count": null,
      "metadata": {
        "colab": {
          "base_uri": "https://localhost:8080/",
          "height": 345
        },
        "id": "PfXYQJFiyFXL",
        "outputId": "1a0c3b8b-c74d-48a7-c732-7d21148167db"
      },
      "outputs": [
        {
          "data": {
            "application/vnd.google.colaboratory.intrinsic+json": {
              "summary": "{\n  \"name\": \"fr_lin[:5]\",\n  \"rows\": 5,\n  \"fields\": [\n    {\n      \"column\": \"Fran\\u00e7ais\",\n      \"properties\": {\n        \"dtype\": \"string\",\n        \"num_unique_values\": 5,\n        \"samples\": [\n          \"Or la terre \\u00e9tait informe et vide et les t\\u00e9n\\u00e8bres \\u00e9taient \\u00e0 la surface de lab\\u00eeme et lEsprit de Dieu se mouvait sur les eaux\",\n          \"Et Dieu nomma la lumi\\u00e8re jour et il nomma les t\\u00e9n\\u00e8bres nuit Et il y eut un soir et il y eut un matin ce fut le premier jour\",\n          \"Et Dieu dit Que la lumi\\u00e8re soit et la lumi\\u00e8re fut\"\n        ],\n        \"semantic_type\": \"\",\n        \"description\": \"\"\n      }\n    },\n    {\n      \"column\": \"Lingala\",\n      \"properties\": {\n        \"dtype\": \"string\",\n        \"num_unique_values\": 5,\n        \"samples\": [\n          \"Mokili ezalaki na lolenge te mpe ezalaki pamba Molili ezalaki na likolo ya mozindo\\u00a0 mpe Molimo ya Nzambe azalaki kopepa na likolo ya mayi\",\n          \"Nzambe abengaki pole \\u00ab\\u00a0moyi\\u00a0\\u00bb mpe abengaki molili \\u00ab\\u00a0butu\\u00a0\\u00bb Pokwa ezalaki mpe tongo ezalaki Yango ezalaki mokolo moko\",\n          \"Mpe Nzambe alobaki\\u00a0 \\u00ab\\u00a0Tika ete pole ezala\\u00a0\\u00a0\\u00bb Mpe pole ezalaki\"\n        ],\n        \"semantic_type\": \"\",\n        \"description\": \"\"\n      }\n    }\n  ]\n}",
              "type": "dataframe"
            },
            "text/html": [
              "\n",
              "  <div id=\"df-cfb979bd-0daf-4cee-9400-d2d4e61c66ab\" class=\"colab-df-container\">\n",
              "    <div>\n",
              "<style scoped>\n",
              "    .dataframe tbody tr th:only-of-type {\n",
              "        vertical-align: middle;\n",
              "    }\n",
              "\n",
              "    .dataframe tbody tr th {\n",
              "        vertical-align: top;\n",
              "    }\n",
              "\n",
              "    .dataframe thead th {\n",
              "        text-align: right;\n",
              "    }\n",
              "</style>\n",
              "<table border=\"1\" class=\"dataframe\">\n",
              "  <thead>\n",
              "    <tr style=\"text-align: right;\">\n",
              "      <th></th>\n",
              "      <th>Français</th>\n",
              "      <th>Lingala</th>\n",
              "    </tr>\n",
              "  </thead>\n",
              "  <tbody>\n",
              "    <tr>\n",
              "      <th>0</th>\n",
              "      <td>Au commencement Dieu créa les cieux et la terre</td>\n",
              "      <td>Na ebandeli Nzambe akelaki Likolo mpe mokili</td>\n",
              "    </tr>\n",
              "    <tr>\n",
              "      <th>1</th>\n",
              "      <td>Or la terre était informe et vide et les ténèbres étaient à la surface de labîme et lEsprit de Dieu se mouvait sur les eaux</td>\n",
              "      <td>Mokili ezalaki na lolenge te mpe ezalaki pamba Molili ezalaki na likolo ya mozindo  mpe Molimo ya Nzambe azalaki kopepa na likolo ya mayi</td>\n",
              "    </tr>\n",
              "    <tr>\n",
              "      <th>2</th>\n",
              "      <td>Et Dieu dit Que la lumière soit et la lumière fut</td>\n",
              "      <td>Mpe Nzambe alobaki  « Tika ete pole ezala  » Mpe pole ezalaki</td>\n",
              "    </tr>\n",
              "    <tr>\n",
              "      <th>3</th>\n",
              "      <td>Et Dieu vit que la lumière était bonne et Dieu sépara la lumière davec les ténèbres</td>\n",
              "      <td>Nzambe amonaki ete pole ezali malamu akabolaki pole na molili</td>\n",
              "    </tr>\n",
              "    <tr>\n",
              "      <th>4</th>\n",
              "      <td>Et Dieu nomma la lumière jour et il nomma les ténèbres nuit Et il y eut un soir et il y eut un matin ce fut le premier jour</td>\n",
              "      <td>Nzambe abengaki pole « moyi » mpe abengaki molili « butu » Pokwa ezalaki mpe tongo ezalaki Yango ezalaki mokolo moko</td>\n",
              "    </tr>\n",
              "  </tbody>\n",
              "</table>\n",
              "</div>\n",
              "    <div class=\"colab-df-buttons\">\n",
              "\n",
              "  <div class=\"colab-df-container\">\n",
              "    <button class=\"colab-df-convert\" onclick=\"convertToInteractive('df-cfb979bd-0daf-4cee-9400-d2d4e61c66ab')\"\n",
              "            title=\"Convert this dataframe to an interactive table.\"\n",
              "            style=\"display:none;\">\n",
              "\n",
              "  <svg xmlns=\"http://www.w3.org/2000/svg\" height=\"24px\" viewBox=\"0 -960 960 960\">\n",
              "    <path d=\"M120-120v-720h720v720H120Zm60-500h600v-160H180v160Zm220 220h160v-160H400v160Zm0 220h160v-160H400v160ZM180-400h160v-160H180v160Zm440 0h160v-160H620v160ZM180-180h160v-160H180v160Zm440 0h160v-160H620v160Z\"/>\n",
              "  </svg>\n",
              "    </button>\n",
              "\n",
              "  <style>\n",
              "    .colab-df-container {\n",
              "      display:flex;\n",
              "      gap: 12px;\n",
              "    }\n",
              "\n",
              "    .colab-df-convert {\n",
              "      background-color: #E8F0FE;\n",
              "      border: none;\n",
              "      border-radius: 50%;\n",
              "      cursor: pointer;\n",
              "      display: none;\n",
              "      fill: #1967D2;\n",
              "      height: 32px;\n",
              "      padding: 0 0 0 0;\n",
              "      width: 32px;\n",
              "    }\n",
              "\n",
              "    .colab-df-convert:hover {\n",
              "      background-color: #E2EBFA;\n",
              "      box-shadow: 0px 1px 2px rgba(60, 64, 67, 0.3), 0px 1px 3px 1px rgba(60, 64, 67, 0.15);\n",
              "      fill: #174EA6;\n",
              "    }\n",
              "\n",
              "    .colab-df-buttons div {\n",
              "      margin-bottom: 4px;\n",
              "    }\n",
              "\n",
              "    [theme=dark] .colab-df-convert {\n",
              "      background-color: #3B4455;\n",
              "      fill: #D2E3FC;\n",
              "    }\n",
              "\n",
              "    [theme=dark] .colab-df-convert:hover {\n",
              "      background-color: #434B5C;\n",
              "      box-shadow: 0px 1px 3px 1px rgba(0, 0, 0, 0.15);\n",
              "      filter: drop-shadow(0px 1px 2px rgba(0, 0, 0, 0.3));\n",
              "      fill: #FFFFFF;\n",
              "    }\n",
              "  </style>\n",
              "\n",
              "    <script>\n",
              "      const buttonEl =\n",
              "        document.querySelector('#df-cfb979bd-0daf-4cee-9400-d2d4e61c66ab button.colab-df-convert');\n",
              "      buttonEl.style.display =\n",
              "        google.colab.kernel.accessAllowed ? 'block' : 'none';\n",
              "\n",
              "      async function convertToInteractive(key) {\n",
              "        const element = document.querySelector('#df-cfb979bd-0daf-4cee-9400-d2d4e61c66ab');\n",
              "        const dataTable =\n",
              "          await google.colab.kernel.invokeFunction('convertToInteractive',\n",
              "                                                    [key], {});\n",
              "        if (!dataTable) return;\n",
              "\n",
              "        const docLinkHtml = 'Like what you see? Visit the ' +\n",
              "          '<a target=\"_blank\" href=https://colab.research.google.com/notebooks/data_table.ipynb>data table notebook</a>'\n",
              "          + ' to learn more about interactive tables.';\n",
              "        element.innerHTML = '';\n",
              "        dataTable['output_type'] = 'display_data';\n",
              "        await google.colab.output.renderOutput(dataTable, element);\n",
              "        const docLink = document.createElement('div');\n",
              "        docLink.innerHTML = docLinkHtml;\n",
              "        element.appendChild(docLink);\n",
              "      }\n",
              "    </script>\n",
              "  </div>\n",
              "\n",
              "\n",
              "<div id=\"df-c0821e3a-d92e-4c48-a31b-c165f904b977\">\n",
              "  <button class=\"colab-df-quickchart\" onclick=\"quickchart('df-c0821e3a-d92e-4c48-a31b-c165f904b977')\"\n",
              "            title=\"Suggest charts\"\n",
              "            style=\"display:none;\">\n",
              "\n",
              "<svg xmlns=\"http://www.w3.org/2000/svg\" height=\"24px\"viewBox=\"0 0 24 24\"\n",
              "     width=\"24px\">\n",
              "    <g>\n",
              "        <path d=\"M19 3H5c-1.1 0-2 .9-2 2v14c0 1.1.9 2 2 2h14c1.1 0 2-.9 2-2V5c0-1.1-.9-2-2-2zM9 17H7v-7h2v7zm4 0h-2V7h2v10zm4 0h-2v-4h2v4z\"/>\n",
              "    </g>\n",
              "</svg>\n",
              "  </button>\n",
              "\n",
              "<style>\n",
              "  .colab-df-quickchart {\n",
              "      --bg-color: #E8F0FE;\n",
              "      --fill-color: #1967D2;\n",
              "      --hover-bg-color: #E2EBFA;\n",
              "      --hover-fill-color: #174EA6;\n",
              "      --disabled-fill-color: #AAA;\n",
              "      --disabled-bg-color: #DDD;\n",
              "  }\n",
              "\n",
              "  [theme=dark] .colab-df-quickchart {\n",
              "      --bg-color: #3B4455;\n",
              "      --fill-color: #D2E3FC;\n",
              "      --hover-bg-color: #434B5C;\n",
              "      --hover-fill-color: #FFFFFF;\n",
              "      --disabled-bg-color: #3B4455;\n",
              "      --disabled-fill-color: #666;\n",
              "  }\n",
              "\n",
              "  .colab-df-quickchart {\n",
              "    background-color: var(--bg-color);\n",
              "    border: none;\n",
              "    border-radius: 50%;\n",
              "    cursor: pointer;\n",
              "    display: none;\n",
              "    fill: var(--fill-color);\n",
              "    height: 32px;\n",
              "    padding: 0;\n",
              "    width: 32px;\n",
              "  }\n",
              "\n",
              "  .colab-df-quickchart:hover {\n",
              "    background-color: var(--hover-bg-color);\n",
              "    box-shadow: 0 1px 2px rgba(60, 64, 67, 0.3), 0 1px 3px 1px rgba(60, 64, 67, 0.15);\n",
              "    fill: var(--button-hover-fill-color);\n",
              "  }\n",
              "\n",
              "  .colab-df-quickchart-complete:disabled,\n",
              "  .colab-df-quickchart-complete:disabled:hover {\n",
              "    background-color: var(--disabled-bg-color);\n",
              "    fill: var(--disabled-fill-color);\n",
              "    box-shadow: none;\n",
              "  }\n",
              "\n",
              "  .colab-df-spinner {\n",
              "    border: 2px solid var(--fill-color);\n",
              "    border-color: transparent;\n",
              "    border-bottom-color: var(--fill-color);\n",
              "    animation:\n",
              "      spin 1s steps(1) infinite;\n",
              "  }\n",
              "\n",
              "  @keyframes spin {\n",
              "    0% {\n",
              "      border-color: transparent;\n",
              "      border-bottom-color: var(--fill-color);\n",
              "      border-left-color: var(--fill-color);\n",
              "    }\n",
              "    20% {\n",
              "      border-color: transparent;\n",
              "      border-left-color: var(--fill-color);\n",
              "      border-top-color: var(--fill-color);\n",
              "    }\n",
              "    30% {\n",
              "      border-color: transparent;\n",
              "      border-left-color: var(--fill-color);\n",
              "      border-top-color: var(--fill-color);\n",
              "      border-right-color: var(--fill-color);\n",
              "    }\n",
              "    40% {\n",
              "      border-color: transparent;\n",
              "      border-right-color: var(--fill-color);\n",
              "      border-top-color: var(--fill-color);\n",
              "    }\n",
              "    60% {\n",
              "      border-color: transparent;\n",
              "      border-right-color: var(--fill-color);\n",
              "    }\n",
              "    80% {\n",
              "      border-color: transparent;\n",
              "      border-right-color: var(--fill-color);\n",
              "      border-bottom-color: var(--fill-color);\n",
              "    }\n",
              "    90% {\n",
              "      border-color: transparent;\n",
              "      border-bottom-color: var(--fill-color);\n",
              "    }\n",
              "  }\n",
              "</style>\n",
              "\n",
              "  <script>\n",
              "    async function quickchart(key) {\n",
              "      const quickchartButtonEl =\n",
              "        document.querySelector('#' + key + ' button');\n",
              "      quickchartButtonEl.disabled = true;  // To prevent multiple clicks.\n",
              "      quickchartButtonEl.classList.add('colab-df-spinner');\n",
              "      try {\n",
              "        const charts = await google.colab.kernel.invokeFunction(\n",
              "            'suggestCharts', [key], {});\n",
              "      } catch (error) {\n",
              "        console.error('Error during call to suggestCharts:', error);\n",
              "      }\n",
              "      quickchartButtonEl.classList.remove('colab-df-spinner');\n",
              "      quickchartButtonEl.classList.add('colab-df-quickchart-complete');\n",
              "    }\n",
              "    (() => {\n",
              "      let quickchartButtonEl =\n",
              "        document.querySelector('#df-c0821e3a-d92e-4c48-a31b-c165f904b977 button');\n",
              "      quickchartButtonEl.style.display =\n",
              "        google.colab.kernel.accessAllowed ? 'block' : 'none';\n",
              "    })();\n",
              "  </script>\n",
              "</div>\n",
              "\n",
              "    </div>\n",
              "  </div>\n"
            ],
            "text/plain": [
              "                                                                                                                      Français  \\\n",
              "0                                                                              Au commencement Dieu créa les cieux et la terre   \n",
              "1  Or la terre était informe et vide et les ténèbres étaient à la surface de labîme et lEsprit de Dieu se mouvait sur les eaux   \n",
              "2                                                                            Et Dieu dit Que la lumière soit et la lumière fut   \n",
              "3                                          Et Dieu vit que la lumière était bonne et Dieu sépara la lumière davec les ténèbres   \n",
              "4  Et Dieu nomma la lumière jour et il nomma les ténèbres nuit Et il y eut un soir et il y eut un matin ce fut le premier jour   \n",
              "\n",
              "                                                                                                                                     Lingala  \n",
              "0                                                                                               Na ebandeli Nzambe akelaki Likolo mpe mokili  \n",
              "1  Mokili ezalaki na lolenge te mpe ezalaki pamba Molili ezalaki na likolo ya mozindo  mpe Molimo ya Nzambe azalaki kopepa na likolo ya mayi  \n",
              "2                                                                              Mpe Nzambe alobaki  « Tika ete pole ezala  » Mpe pole ezalaki  \n",
              "3                                                                              Nzambe amonaki ete pole ezali malamu akabolaki pole na molili  \n",
              "4                       Nzambe abengaki pole « moyi » mpe abengaki molili « butu » Pokwa ezalaki mpe tongo ezalaki Yango ezalaki mokolo moko  "
            ]
          },
          "execution_count": 16,
          "metadata": {},
          "output_type": "execute_result"
        }
      ],
      "source": [
        "fr_lin[:5]"
      ]
    },
    {
      "cell_type": "code",
      "execution_count": null,
      "metadata": {
        "colab": {
          "base_uri": "https://localhost:8080/",
          "height": 874
        },
        "id": "yD19QclTyPeE",
        "outputId": "5ef0b6d2-fbda-47f8-c3d7-34499a64bfc5"
      },
      "outputs": [
        {
          "data": {
            "application/vnd.google.colaboratory.intrinsic+json": {
              "summary": "{\n  \"name\": \"fr_lin\",\n  \"rows\": 30000,\n  \"fields\": [\n    {\n      \"column\": \"Fran\\u00e7ais\",\n      \"properties\": {\n        \"dtype\": \"string\",\n        \"num_unique_values\": 29575,\n        \"samples\": [\n          \"mes yeux se consument apr\\u00e8s ta promesse je dis quand me consolerastu\",\n          \"les disciples sen all\\u00e8rent donc et firent comme j\\u00e9sus leur avait ordonn\\u00e9\",\n          \"alors tu comprendras la crainte de l\\u00e9ternel et tu trouveras la connaissance de dieu\"\n        ],\n        \"semantic_type\": \"\",\n        \"description\": \"\"\n      }\n    },\n    {\n      \"column\": \"Lingala\",\n      \"properties\": {\n        \"dtype\": \"string\",\n        \"num_unique_values\": 29489,\n        \"samples\": [\n          \"na mokolo wana debora mpe baraki mwana mobali ya abinoami bayembaki nzembo oyo\\u00a0\",\n          \"shemaya mokomi mikanda mwana mobali ya netaneeli na libota ya levi akomaki bakombo na bango na miso ya mokonzi ya bakambi ya nganganzambe tsadoki ya ayimeleki mwana mobali ya abiatari\\u00a0 mpe ya bakambi ya mabota ya banganganzambe mpe balevi babetaki zeke mbala mibale mpo na etuka ya eleazari mpe mbala moko mpo na etuka ya itamari\",\n          \"bazangi boyebi mpe bososoli bazali koyengayenga kati na molili\\u00a0 miboko nyonso ya mokili ezali koningana\"\n        ],\n        \"semantic_type\": \"\",\n        \"description\": \"\"\n      }\n    }\n  ]\n}",
              "type": "dataframe",
              "variable_name": "fr_lin"
            },
            "text/html": [
              "\n",
              "  <div id=\"df-8ff7c501-5ab1-49cf-b1a4-40002a22e1d5\" class=\"colab-df-container\">\n",
              "    <div>\n",
              "<style scoped>\n",
              "    .dataframe tbody tr th:only-of-type {\n",
              "        vertical-align: middle;\n",
              "    }\n",
              "\n",
              "    .dataframe tbody tr th {\n",
              "        vertical-align: top;\n",
              "    }\n",
              "\n",
              "    .dataframe thead th {\n",
              "        text-align: right;\n",
              "    }\n",
              "</style>\n",
              "<table border=\"1\" class=\"dataframe\">\n",
              "  <thead>\n",
              "    <tr style=\"text-align: right;\">\n",
              "      <th></th>\n",
              "      <th>Français</th>\n",
              "      <th>Lingala</th>\n",
              "    </tr>\n",
              "  </thead>\n",
              "  <tbody>\n",
              "    <tr>\n",
              "      <th>0</th>\n",
              "      <td>au commencement dieu créa les cieux et la terre</td>\n",
              "      <td>na ebandeli nzambe akelaki likolo mpe mokili</td>\n",
              "    </tr>\n",
              "    <tr>\n",
              "      <th>1</th>\n",
              "      <td>or la terre était informe et vide et les ténèbres étaient à la surface de labîme et lesprit de dieu se mouvait sur les eaux</td>\n",
              "      <td>mokili ezalaki na lolenge te mpe ezalaki pamba molili ezalaki na likolo ya mozindo  mpe molimo ya nzambe azalaki kopepa na likolo ya mayi</td>\n",
              "    </tr>\n",
              "    <tr>\n",
              "      <th>2</th>\n",
              "      <td>et dieu dit que la lumière soit et la lumière fut</td>\n",
              "      <td>mpe nzambe alobaki  « tika ete pole ezala  » mpe pole ezalaki</td>\n",
              "    </tr>\n",
              "    <tr>\n",
              "      <th>3</th>\n",
              "      <td>et dieu vit que la lumière était bonne et dieu sépara la lumière davec les ténèbres</td>\n",
              "      <td>nzambe amonaki ete pole ezali malamu akabolaki pole na molili</td>\n",
              "    </tr>\n",
              "    <tr>\n",
              "      <th>4</th>\n",
              "      <td>et dieu nomma la lumière jour et il nomma les ténèbres nuit et il y eut un soir et il y eut un matin ce fut le premier jour</td>\n",
              "      <td>nzambe abengaki pole « moyi » mpe abengaki molili « butu » pokwa ezalaki mpe tongo ezalaki yango ezalaki mokolo moko</td>\n",
              "    </tr>\n",
              "    <tr>\n",
              "      <th>...</th>\n",
              "      <td>...</td>\n",
              "      <td>...</td>\n",
              "    </tr>\n",
              "    <tr>\n",
              "      <th>29995</th>\n",
              "      <td>quil a répandu avec richesse sur nous par jésuschrist notre sauveur</td>\n",
              "      <td>nzambe asopelaki biso molimo mosantu na bofuluki penza na nzela ya yesuklisto mobikisi na biso</td>\n",
              "    </tr>\n",
              "    <tr>\n",
              "      <th>29996</th>\n",
              "      <td>afin que justifiés par sa grâce nous fussions héritiers de la vie éternelle selon notre espérance</td>\n",
              "      <td>mpo ete wana akomisi biso bato ya sembo na nzela ya ngolu na ye tokoma bakitani ya libula kolanda elikya ya bomoi ya seko</td>\n",
              "    </tr>\n",
              "    <tr>\n",
              "      <th>29997</th>\n",
              "      <td>cette parole est certaine et je veux que tu établisses fortement ces choses afin que ceux qui ont cru en dieu sappliquent à pratiquer les bonnes œuvres voilà les choses qui sont bonnes et utiles a...</td>\n",
              "      <td>makambo oyo nawuti koloba ezali penza ya solo  mpe nalingi ete obetelaka yango sete makasi mpo ete bato oyo bandimeli nzambe bamipesa mobimba mpo na kosala misala ya malamu yango nde makambo oyo e...</td>\n",
              "    </tr>\n",
              "    <tr>\n",
              "      <th>29998</th>\n",
              "      <td>mais évite les questions folles les généalogies les contestations et les disputes touchant la loi car elles sont inutiles et vaines</td>\n",
              "      <td>kasi kima tembe ya bozoba masolo ya milongo ya mbotama koswana mpe bitumba na tina na mibeko  ezali na litomba te mpe ezali na tina te</td>\n",
              "    </tr>\n",
              "    <tr>\n",
              "      <th>29999</th>\n",
              "      <td>éloignetoi de lhomme hérétique après lavoir averti une première et une seconde fois</td>\n",
              "      <td>soki kati na lingomba ezali na moto oyo amemaka bokabwani kebisa ye mbala moko mpe kebisa ye mbala ya mibale soki aboyi kaka koyoka bimisa ye libanda ya lingomba</td>\n",
              "    </tr>\n",
              "  </tbody>\n",
              "</table>\n",
              "<p>30000 rows × 2 columns</p>\n",
              "</div>\n",
              "    <div class=\"colab-df-buttons\">\n",
              "\n",
              "  <div class=\"colab-df-container\">\n",
              "    <button class=\"colab-df-convert\" onclick=\"convertToInteractive('df-8ff7c501-5ab1-49cf-b1a4-40002a22e1d5')\"\n",
              "            title=\"Convert this dataframe to an interactive table.\"\n",
              "            style=\"display:none;\">\n",
              "\n",
              "  <svg xmlns=\"http://www.w3.org/2000/svg\" height=\"24px\" viewBox=\"0 -960 960 960\">\n",
              "    <path d=\"M120-120v-720h720v720H120Zm60-500h600v-160H180v160Zm220 220h160v-160H400v160Zm0 220h160v-160H400v160ZM180-400h160v-160H180v160Zm440 0h160v-160H620v160ZM180-180h160v-160H180v160Zm440 0h160v-160H620v160Z\"/>\n",
              "  </svg>\n",
              "    </button>\n",
              "\n",
              "  <style>\n",
              "    .colab-df-container {\n",
              "      display:flex;\n",
              "      gap: 12px;\n",
              "    }\n",
              "\n",
              "    .colab-df-convert {\n",
              "      background-color: #E8F0FE;\n",
              "      border: none;\n",
              "      border-radius: 50%;\n",
              "      cursor: pointer;\n",
              "      display: none;\n",
              "      fill: #1967D2;\n",
              "      height: 32px;\n",
              "      padding: 0 0 0 0;\n",
              "      width: 32px;\n",
              "    }\n",
              "\n",
              "    .colab-df-convert:hover {\n",
              "      background-color: #E2EBFA;\n",
              "      box-shadow: 0px 1px 2px rgba(60, 64, 67, 0.3), 0px 1px 3px 1px rgba(60, 64, 67, 0.15);\n",
              "      fill: #174EA6;\n",
              "    }\n",
              "\n",
              "    .colab-df-buttons div {\n",
              "      margin-bottom: 4px;\n",
              "    }\n",
              "\n",
              "    [theme=dark] .colab-df-convert {\n",
              "      background-color: #3B4455;\n",
              "      fill: #D2E3FC;\n",
              "    }\n",
              "\n",
              "    [theme=dark] .colab-df-convert:hover {\n",
              "      background-color: #434B5C;\n",
              "      box-shadow: 0px 1px 3px 1px rgba(0, 0, 0, 0.15);\n",
              "      filter: drop-shadow(0px 1px 2px rgba(0, 0, 0, 0.3));\n",
              "      fill: #FFFFFF;\n",
              "    }\n",
              "  </style>\n",
              "\n",
              "    <script>\n",
              "      const buttonEl =\n",
              "        document.querySelector('#df-8ff7c501-5ab1-49cf-b1a4-40002a22e1d5 button.colab-df-convert');\n",
              "      buttonEl.style.display =\n",
              "        google.colab.kernel.accessAllowed ? 'block' : 'none';\n",
              "\n",
              "      async function convertToInteractive(key) {\n",
              "        const element = document.querySelector('#df-8ff7c501-5ab1-49cf-b1a4-40002a22e1d5');\n",
              "        const dataTable =\n",
              "          await google.colab.kernel.invokeFunction('convertToInteractive',\n",
              "                                                    [key], {});\n",
              "        if (!dataTable) return;\n",
              "\n",
              "        const docLinkHtml = 'Like what you see? Visit the ' +\n",
              "          '<a target=\"_blank\" href=https://colab.research.google.com/notebooks/data_table.ipynb>data table notebook</a>'\n",
              "          + ' to learn more about interactive tables.';\n",
              "        element.innerHTML = '';\n",
              "        dataTable['output_type'] = 'display_data';\n",
              "        await google.colab.output.renderOutput(dataTable, element);\n",
              "        const docLink = document.createElement('div');\n",
              "        docLink.innerHTML = docLinkHtml;\n",
              "        element.appendChild(docLink);\n",
              "      }\n",
              "    </script>\n",
              "  </div>\n",
              "\n",
              "\n",
              "<div id=\"df-ac97fe74-3c1a-41fe-be06-5d67181b3f03\">\n",
              "  <button class=\"colab-df-quickchart\" onclick=\"quickchart('df-ac97fe74-3c1a-41fe-be06-5d67181b3f03')\"\n",
              "            title=\"Suggest charts\"\n",
              "            style=\"display:none;\">\n",
              "\n",
              "<svg xmlns=\"http://www.w3.org/2000/svg\" height=\"24px\"viewBox=\"0 0 24 24\"\n",
              "     width=\"24px\">\n",
              "    <g>\n",
              "        <path d=\"M19 3H5c-1.1 0-2 .9-2 2v14c0 1.1.9 2 2 2h14c1.1 0 2-.9 2-2V5c0-1.1-.9-2-2-2zM9 17H7v-7h2v7zm4 0h-2V7h2v10zm4 0h-2v-4h2v4z\"/>\n",
              "    </g>\n",
              "</svg>\n",
              "  </button>\n",
              "\n",
              "<style>\n",
              "  .colab-df-quickchart {\n",
              "      --bg-color: #E8F0FE;\n",
              "      --fill-color: #1967D2;\n",
              "      --hover-bg-color: #E2EBFA;\n",
              "      --hover-fill-color: #174EA6;\n",
              "      --disabled-fill-color: #AAA;\n",
              "      --disabled-bg-color: #DDD;\n",
              "  }\n",
              "\n",
              "  [theme=dark] .colab-df-quickchart {\n",
              "      --bg-color: #3B4455;\n",
              "      --fill-color: #D2E3FC;\n",
              "      --hover-bg-color: #434B5C;\n",
              "      --hover-fill-color: #FFFFFF;\n",
              "      --disabled-bg-color: #3B4455;\n",
              "      --disabled-fill-color: #666;\n",
              "  }\n",
              "\n",
              "  .colab-df-quickchart {\n",
              "    background-color: var(--bg-color);\n",
              "    border: none;\n",
              "    border-radius: 50%;\n",
              "    cursor: pointer;\n",
              "    display: none;\n",
              "    fill: var(--fill-color);\n",
              "    height: 32px;\n",
              "    padding: 0;\n",
              "    width: 32px;\n",
              "  }\n",
              "\n",
              "  .colab-df-quickchart:hover {\n",
              "    background-color: var(--hover-bg-color);\n",
              "    box-shadow: 0 1px 2px rgba(60, 64, 67, 0.3), 0 1px 3px 1px rgba(60, 64, 67, 0.15);\n",
              "    fill: var(--button-hover-fill-color);\n",
              "  }\n",
              "\n",
              "  .colab-df-quickchart-complete:disabled,\n",
              "  .colab-df-quickchart-complete:disabled:hover {\n",
              "    background-color: var(--disabled-bg-color);\n",
              "    fill: var(--disabled-fill-color);\n",
              "    box-shadow: none;\n",
              "  }\n",
              "\n",
              "  .colab-df-spinner {\n",
              "    border: 2px solid var(--fill-color);\n",
              "    border-color: transparent;\n",
              "    border-bottom-color: var(--fill-color);\n",
              "    animation:\n",
              "      spin 1s steps(1) infinite;\n",
              "  }\n",
              "\n",
              "  @keyframes spin {\n",
              "    0% {\n",
              "      border-color: transparent;\n",
              "      border-bottom-color: var(--fill-color);\n",
              "      border-left-color: var(--fill-color);\n",
              "    }\n",
              "    20% {\n",
              "      border-color: transparent;\n",
              "      border-left-color: var(--fill-color);\n",
              "      border-top-color: var(--fill-color);\n",
              "    }\n",
              "    30% {\n",
              "      border-color: transparent;\n",
              "      border-left-color: var(--fill-color);\n",
              "      border-top-color: var(--fill-color);\n",
              "      border-right-color: var(--fill-color);\n",
              "    }\n",
              "    40% {\n",
              "      border-color: transparent;\n",
              "      border-right-color: var(--fill-color);\n",
              "      border-top-color: var(--fill-color);\n",
              "    }\n",
              "    60% {\n",
              "      border-color: transparent;\n",
              "      border-right-color: var(--fill-color);\n",
              "    }\n",
              "    80% {\n",
              "      border-color: transparent;\n",
              "      border-right-color: var(--fill-color);\n",
              "      border-bottom-color: var(--fill-color);\n",
              "    }\n",
              "    90% {\n",
              "      border-color: transparent;\n",
              "      border-bottom-color: var(--fill-color);\n",
              "    }\n",
              "  }\n",
              "</style>\n",
              "\n",
              "  <script>\n",
              "    async function quickchart(key) {\n",
              "      const quickchartButtonEl =\n",
              "        document.querySelector('#' + key + ' button');\n",
              "      quickchartButtonEl.disabled = true;  // To prevent multiple clicks.\n",
              "      quickchartButtonEl.classList.add('colab-df-spinner');\n",
              "      try {\n",
              "        const charts = await google.colab.kernel.invokeFunction(\n",
              "            'suggestCharts', [key], {});\n",
              "      } catch (error) {\n",
              "        console.error('Error during call to suggestCharts:', error);\n",
              "      }\n",
              "      quickchartButtonEl.classList.remove('colab-df-spinner');\n",
              "      quickchartButtonEl.classList.add('colab-df-quickchart-complete');\n",
              "    }\n",
              "    (() => {\n",
              "      let quickchartButtonEl =\n",
              "        document.querySelector('#df-ac97fe74-3c1a-41fe-be06-5d67181b3f03 button');\n",
              "      quickchartButtonEl.style.display =\n",
              "        google.colab.kernel.accessAllowed ? 'block' : 'none';\n",
              "    })();\n",
              "  </script>\n",
              "</div>\n",
              "\n",
              "  <div id=\"id_6059f537-c8b6-4d32-a86f-2babbdd0b718\">\n",
              "    <style>\n",
              "      .colab-df-generate {\n",
              "        background-color: #E8F0FE;\n",
              "        border: none;\n",
              "        border-radius: 50%;\n",
              "        cursor: pointer;\n",
              "        display: none;\n",
              "        fill: #1967D2;\n",
              "        height: 32px;\n",
              "        padding: 0 0 0 0;\n",
              "        width: 32px;\n",
              "      }\n",
              "\n",
              "      .colab-df-generate:hover {\n",
              "        background-color: #E2EBFA;\n",
              "        box-shadow: 0px 1px 2px rgba(60, 64, 67, 0.3), 0px 1px 3px 1px rgba(60, 64, 67, 0.15);\n",
              "        fill: #174EA6;\n",
              "      }\n",
              "\n",
              "      [theme=dark] .colab-df-generate {\n",
              "        background-color: #3B4455;\n",
              "        fill: #D2E3FC;\n",
              "      }\n",
              "\n",
              "      [theme=dark] .colab-df-generate:hover {\n",
              "        background-color: #434B5C;\n",
              "        box-shadow: 0px 1px 3px 1px rgba(0, 0, 0, 0.15);\n",
              "        filter: drop-shadow(0px 1px 2px rgba(0, 0, 0, 0.3));\n",
              "        fill: #FFFFFF;\n",
              "      }\n",
              "    </style>\n",
              "    <button class=\"colab-df-generate\" onclick=\"generateWithVariable('fr_lin')\"\n",
              "            title=\"Generate code using this dataframe.\"\n",
              "            style=\"display:none;\">\n",
              "\n",
              "  <svg xmlns=\"http://www.w3.org/2000/svg\" height=\"24px\"viewBox=\"0 0 24 24\"\n",
              "       width=\"24px\">\n",
              "    <path d=\"M7,19H8.4L18.45,9,17,7.55,7,17.6ZM5,21V16.75L18.45,3.32a2,2,0,0,1,2.83,0l1.4,1.43a1.91,1.91,0,0,1,.58,1.4,1.91,1.91,0,0,1-.58,1.4L9.25,21ZM18.45,9,17,7.55Zm-12,3A5.31,5.31,0,0,0,4.9,8.1,5.31,5.31,0,0,0,1,6.5,5.31,5.31,0,0,0,4.9,4.9,5.31,5.31,0,0,0,6.5,1,5.31,5.31,0,0,0,8.1,4.9,5.31,5.31,0,0,0,12,6.5,5.46,5.46,0,0,0,6.5,12Z\"/>\n",
              "  </svg>\n",
              "    </button>\n",
              "    <script>\n",
              "      (() => {\n",
              "      const buttonEl =\n",
              "        document.querySelector('#id_6059f537-c8b6-4d32-a86f-2babbdd0b718 button.colab-df-generate');\n",
              "      buttonEl.style.display =\n",
              "        google.colab.kernel.accessAllowed ? 'block' : 'none';\n",
              "\n",
              "      buttonEl.onclick = () => {\n",
              "        google.colab.notebook.generateWithVariable('fr_lin');\n",
              "      }\n",
              "      })();\n",
              "    </script>\n",
              "  </div>\n",
              "\n",
              "    </div>\n",
              "  </div>\n"
            ],
            "text/plain": [
              "                                                                                                                                                                                                      Français  \\\n",
              "0                                                                                                                                                              au commencement dieu créa les cieux et la terre   \n",
              "1                                                                                  or la terre était informe et vide et les ténèbres étaient à la surface de labîme et lesprit de dieu se mouvait sur les eaux   \n",
              "2                                                                                                                                                            et dieu dit que la lumière soit et la lumière fut   \n",
              "3                                                                                                                          et dieu vit que la lumière était bonne et dieu sépara la lumière davec les ténèbres   \n",
              "4                                                                                  et dieu nomma la lumière jour et il nomma les ténèbres nuit et il y eut un soir et il y eut un matin ce fut le premier jour   \n",
              "...                                                                                                                                                                                                        ...   \n",
              "29995                                                                                                                                      quil a répandu avec richesse sur nous par jésuschrist notre sauveur   \n",
              "29996                                                                                                        afin que justifiés par sa grâce nous fussions héritiers de la vie éternelle selon notre espérance   \n",
              "29997  cette parole est certaine et je veux que tu établisses fortement ces choses afin que ceux qui ont cru en dieu sappliquent à pratiquer les bonnes œuvres voilà les choses qui sont bonnes et utiles a...   \n",
              "29998                                                                      mais évite les questions folles les généalogies les contestations et les disputes touchant la loi car elles sont inutiles et vaines   \n",
              "29999                                                                                                                      éloignetoi de lhomme hérétique après lavoir averti une première et une seconde fois   \n",
              "\n",
              "                                                                                                                                                                                                       Lingala  \n",
              "0                                                                                                                                                                 na ebandeli nzambe akelaki likolo mpe mokili  \n",
              "1                                                                    mokili ezalaki na lolenge te mpe ezalaki pamba molili ezalaki na likolo ya mozindo  mpe molimo ya nzambe azalaki kopepa na likolo ya mayi  \n",
              "2                                                                                                                                                mpe nzambe alobaki  « tika ete pole ezala  » mpe pole ezalaki  \n",
              "3                                                                                                                                                nzambe amonaki ete pole ezali malamu akabolaki pole na molili  \n",
              "4                                                                                         nzambe abengaki pole « moyi » mpe abengaki molili « butu » pokwa ezalaki mpe tongo ezalaki yango ezalaki mokolo moko  \n",
              "...                                                                                                                                                                                                        ...  \n",
              "29995                                                                                                           nzambe asopelaki biso molimo mosantu na bofuluki penza na nzela ya yesuklisto mobikisi na biso  \n",
              "29996                                                                                mpo ete wana akomisi biso bato ya sembo na nzela ya ngolu na ye tokoma bakitani ya libula kolanda elikya ya bomoi ya seko  \n",
              "29997  makambo oyo nawuti koloba ezali penza ya solo  mpe nalingi ete obetelaka yango sete makasi mpo ete bato oyo bandimeli nzambe bamipesa mobimba mpo na kosala misala ya malamu yango nde makambo oyo e...  \n",
              "29998                                                                   kasi kima tembe ya bozoba masolo ya milongo ya mbotama koswana mpe bitumba na tina na mibeko  ezali na litomba te mpe ezali na tina te  \n",
              "29999                                       soki kati na lingomba ezali na moto oyo amemaka bokabwani kebisa ye mbala moko mpe kebisa ye mbala ya mibale soki aboyi kaka koyoka bimisa ye libanda ya lingomba   \n",
              "\n",
              "[30000 rows x 2 columns]"
            ]
          },
          "execution_count": 17,
          "metadata": {},
          "output_type": "execute_result"
        }
      ],
      "source": [
        "# fr_lin = fr_lin.astype(str)\n",
        "\n",
        "for i in range(len(fr_lin)):\n",
        "  fr_lin.iloc[i,0] = fr_lin.iloc[i,0].lower()\n",
        "  fr_lin.iloc[i,1] = fr_lin.iloc[i,1].lower()\n",
        "\n",
        "fr_lin"
      ]
    },
    {
      "cell_type": "markdown",
      "metadata": {
        "id": "98b-eGrd1KmL"
      },
      "source": [
        "# Text to sequence conversion (word to index mapping)\n",
        "\n",
        "1. convert setences into numbers\n",
        "2. every sentence should be of same length"
      ]
    },
    {
      "cell_type": "code",
      "execution_count": null,
      "metadata": {
        "id": "N1rGbcbHzm7f"
      },
      "outputs": [],
      "source": [
        "# Function to build a tokenizer\n",
        "def tokenization(lines):\n",
        "  tokenizer = Tokenizer()\n",
        "  tokenizer.fit_on_texts(lines)\n",
        "  return tokenizer"
      ]
    },
    {
      "cell_type": "code",
      "execution_count": null,
      "metadata": {
        "colab": {
          "base_uri": "https://localhost:8080/"
        },
        "id": "pWYfR1F52HLE",
        "outputId": "e9d2de29-766e-4e8b-d479-2fad77ff96ac"
      },
      "outputs": [
        {
          "name": "stdout",
          "output_type": "stream",
          "text": [
            "french vocab size : 24889\n"
          ]
        }
      ],
      "source": [
        "# prepare french tokenizer\n",
        "fr_tokenizer = tokenization(fr_lin.iloc[:,0])\n",
        "fr_vocab_size = len(fr_tokenizer.word_index) + 1\n",
        "\n",
        "fr_length = 10\n",
        "print(f\"french vocab size : {fr_vocab_size}\")"
      ]
    },
    {
      "cell_type": "code",
      "execution_count": null,
      "metadata": {
        "colab": {
          "base_uri": "https://localhost:8080/"
        },
        "id": "3GL-hqQz3ADV",
        "outputId": "7963a870-d609-496c-87f5-eecdd9242c41"
      },
      "outputs": [
        {
          "name": "stdout",
          "output_type": "stream",
          "text": [
            "lingala vocab size : 18845\n"
          ]
        }
      ],
      "source": [
        "# prepare lingala tokenizer\n",
        "lin_tokenizer = tokenization(fr_lin.iloc[:,1])\n",
        "lin_vocab_size = len(lin_tokenizer.word_index) + 1\n",
        "\n",
        "lin_length = 10\n",
        "print(f\"lingala vocab size : {lin_vocab_size}\")"
      ]
    },
    {
      "cell_type": "code",
      "execution_count": null,
      "metadata": {
        "id": "F0EB9Dkh3NU7"
      },
      "outputs": [],
      "source": [
        "# encode and pad sequences, padding to a maximum setence length as mentionnd above\n",
        "def encode_sequences(tokenizer, length, lines):\n",
        "  # integer encode sequences\n",
        "  seq = tokenizer.texts_to_sequences(lines)\n",
        "  # pad sequences with 0 values\n",
        "  seq = pad_sequences(seq, maxlen=length, padding=\"post\")\n",
        "  return seq"
      ]
    },
    {
      "cell_type": "markdown",
      "metadata": {
        "id": "WzqGfS6_4qQR"
      },
      "source": [
        "it's time to encode sequences. we will encode french setences as the input sequences and english sentences as the target sequences. this has to be  done for both train and test datasets."
      ]
    },
    {
      "cell_type": "code",
      "execution_count": null,
      "metadata": {
        "id": "warVjLob4c0j"
      },
      "outputs": [],
      "source": [
        "from sklearn.model_selection import train_test_split\n",
        "\n",
        "# split data into train  and test  set\n",
        "train, test = train_test_split(fr_lin, test_size=0.2, random_state=12)"
      ]
    },
    {
      "cell_type": "code",
      "execution_count": null,
      "metadata": {
        "id": "BQ71clvv5pSa"
      },
      "outputs": [],
      "source": [
        "# prepare training data\n",
        "trainX = encode_sequences(fr_tokenizer, fr_length, train.iloc[:,1])\n",
        "trainY = encode_sequences(lin_tokenizer, lin_length, train.iloc[:,0])"
      ]
    },
    {
      "cell_type": "code",
      "execution_count": null,
      "metadata": {
        "id": "YOFydk5C6TDC"
      },
      "outputs": [],
      "source": [
        "# prepare test data\n",
        "\n",
        "testX = encode_sequences(fr_tokenizer, fr_length, test.iloc[:,1])\n",
        "testY = encode_sequences(lin_tokenizer, lin_length, test.iloc[:,0])"
      ]
    },
    {
      "cell_type": "markdown",
      "metadata": {
        "id": "z00Cv6JA6v6D"
      },
      "source": [
        "# Define our Seq2Seq model architecture:"
      ]
    },
    {
      "cell_type": "code",
      "execution_count": null,
      "metadata": {
        "id": "Opom4L_x6sfz"
      },
      "outputs": [],
      "source": [
        "# def define_model(in_vocab, out_vocab, in_timesteps, out_timesteps, units):\n",
        "#   model= Sequential()\n",
        "#   model.add(Embedding(in_vocab, units, inputs=in_timesteps, mask_zero=True))\n",
        "#   model.add(LSTM(units))\n",
        "#   model.add(RepeatVector(out_timesteps))\n",
        "#   model.add(LSTM(units, return_sequences=True))\n",
        "#   model.add(Dense(out_vocab, activation='softmax'))\n",
        "#   return model\n",
        "\n",
        "# def define_model(in_vocab, out_vocab, in_timesteps, out_timesteps, units):\n",
        "#     model = Sequential()\n",
        "#     model.add(layers.Embedding(in_vocab, units, input_length=in_timesteps, mask_zero=True))\n",
        "#     model.add(layers.LSTM(units))\n",
        "#     model.add(layers.RepeatVector(out_timesteps))\n",
        "#     model.add(layers.LSTM(units, return_sequences=True))\n",
        "#     model.add(layers.Dense(out_vocab, activation='softmax'))\n",
        "#     return\n",
        "\n",
        "# def define_model(in_vocab, out_vocab, in_timesteps, out_timesteps, units):\n",
        "#     model = Sequential()\n",
        "#     model.add(Embedding(in_vocab, units, input_length=in_timesteps, mask_zero=True))\n",
        "#     model.add(LSTM(units))\n",
        "#     model.add(RepeatVector(out_timesteps))\n",
        "#     model.add(LSTM(units, return_sequences=True))\n",
        "#     model.add(Dense(out_vocab, activation='softmax'))\n",
        "#     return model\n",
        "\n",
        "from keras.layers import Attention\n",
        "\n",
        "def define_model(in_vocab, out_vocab, in_timesteps, out_timesteps, units):\n",
        "    model = Sequential()\n",
        "    model.add(Embedding(in_vocab, units, input_length=in_timesteps, mask_zero=True))\n",
        "    encoder = LSTM(units, return_sequences=True, return_state=True)\n",
        "    _, state_h, state_c = encoder(model.output)\n",
        "\n",
        "    # Add the attention layer\n",
        "    attention = Attention()\n",
        "    context = attention([model.output, state_h, state_c])\n",
        "\n",
        "    decoder = LSTM(units, return_sequences=True)\n",
        "    output = decoder(context)\n",
        "    output = Dense(out_vocab, activation='softmax')(output)\n",
        "\n",
        "    model = Model(model.input, output)\n",
        "    return model"
      ]
    },
    {
      "cell_type": "code",
      "execution_count": null,
      "metadata": {
        "id": "yBerVZXrCwBx"
      },
      "outputs": [],
      "source": [
        "# from tensorflow import keras\n",
        "# from tensorflow.keras import layers"
      ]
    },
    {
      "cell_type": "code",
      "execution_count": null,
      "metadata": {
        "colab": {
          "base_uri": "https://localhost:8080/"
        },
        "id": "sLXxyV1fD1ju",
        "outputId": "23322800-6c55-4b3c-f4ac-549d5a659b79"
      },
      "outputs": [
        {
          "name": "stdout",
          "output_type": "stream",
          "text": [
            "2.15.0\n"
          ]
        }
      ],
      "source": [
        "print(tf.__version__)"
      ]
    },
    {
      "cell_type": "code",
      "execution_count": null,
      "metadata": {
        "id": "7idV1N1T87ce"
      },
      "outputs": [],
      "source": [
        "# model compilation\n",
        "\n",
        "# model = define_model(fr_vocab_size, lin_vocab_size, fr_length, lin_length, 512)\n",
        "# model = define_model(fr_vocab_size, lin_vocab_size, fr_length, lin_length, 512)\n",
        "\n",
        "model = define_model(fr_vocab_size, lin_vocab_size, fr_length, lin_length, 512)"
      ]
    },
    {
      "cell_type": "code",
      "execution_count": null,
      "metadata": {
        "colab": {
          "base_uri": "https://localhost:8080/"
        },
        "id": "EOLrMZtP-Mno",
        "outputId": "413574e6-1eef-41f9-b27b-59f1ae829c7e"
      },
      "outputs": [
        {
          "name": "stderr",
          "output_type": "stream",
          "text": [
            "WARNING:absl:`lr` is deprecated in Keras optimizer, please use `learning_rate` or use the legacy optimizer, e.g.,tf.keras.optimizers.legacy.RMSprop.\n"
          ]
        }
      ],
      "source": [
        "rms = optimizers.RMSprop(lr=0.001)\n",
        "model.compile(optimizer=rms, loss='sparse_categorical_crossentropy', metrics=['accuracy'])\n",
        "# model.compile(optimizer=rms, loss='sparse_categorical_crossentropy', metrics=['accuracy'])"
      ]
    },
    {
      "cell_type": "code",
      "execution_count": null,
      "metadata": {
        "colab": {
          "base_uri": "https://localhost:8080/"
        },
        "id": "BBjpKXVKEokk",
        "outputId": "bc22084c-a9c9-45f1-d324-56e1129f272c"
      },
      "outputs": [
        {
          "name": "stdout",
          "output_type": "stream",
          "text": [
            "Model: \"model\"\n",
            "__________________________________________________________________________________________________\n",
            " Layer (type)                Output Shape                 Param #   Connected to                  \n",
            "==================================================================================================\n",
            " embedding_input (InputLaye  [(None, 10)]                 0         []                            \n",
            " r)                                                                                               \n",
            "                                                                                                  \n",
            " embedding (Embedding)       (None, 10, 512)              1274316   ['embedding_input[0][0]']     \n",
            "                                                          8                                       \n",
            "                                                                                                  \n",
            " lstm (LSTM)                 [(None, 10, 512),            2099200   ['embedding[0][0]']           \n",
            "                              (None, 512),                                                        \n",
            "                              (None, 512)]                                                        \n",
            "                                                                                                  \n",
            " attention (Attention)       (None, 10, 512)              0         ['embedding[0][0]',           \n",
            "                                                                     'lstm[0][1]',                \n",
            "                                                                     'lstm[0][2]']                \n",
            "                                                                                                  \n",
            " lstm_1 (LSTM)               (None, 10, 512)              2099200   ['attention[0][0]']           \n",
            "                                                                                                  \n",
            " dense (Dense)               (None, 10, 18845)            9667485   ['lstm_1[0][0]']              \n",
            "                                                                                                  \n",
            "==================================================================================================\n",
            "Total params: 26609053 (101.51 MB)\n",
            "Trainable params: 26609053 (101.51 MB)\n",
            "Non-trainable params: 0 (0.00 Byte)\n",
            "__________________________________________________________________________________________________\n"
          ]
        }
      ],
      "source": [
        "model.summary()"
      ]
    },
    {
      "cell_type": "code",
      "execution_count": null,
      "metadata": {
        "colab": {
          "base_uri": "https://localhost:8080/"
        },
        "id": "bRyLwEt-E704",
        "outputId": "5ac271da-377e-470c-fdf3-26f35783ab56"
      },
      "outputs": [
        {
          "name": "stdout",
          "output_type": "stream",
          "text": [
            "Epoch 1/10\n",
            "38/38 [==============================] - 24s 331ms/step - loss: 2.5946 - accuracy: 0.8839 - val_loss: 0.5084 - val_accuracy: 0.9041\n",
            "Epoch 2/10\n",
            "38/38 [==============================] - 9s 247ms/step - loss: 0.4760 - accuracy: 0.9087 - val_loss: 0.5051 - val_accuracy: 0.9041\n",
            "Epoch 3/10\n",
            "38/38 [==============================] - 9s 231ms/step - loss: 0.4605 - accuracy: 0.9087 - val_loss: 0.4759 - val_accuracy: 0.9041\n",
            "Epoch 4/10\n",
            "38/38 [==============================] - 9s 243ms/step - loss: 0.4537 - accuracy: 0.9087 - val_loss: 0.4737 - val_accuracy: 0.9041\n",
            "Epoch 5/10\n",
            "38/38 [==============================] - 9s 247ms/step - loss: 0.4504 - accuracy: 0.9087 - val_loss: 0.4678 - val_accuracy: 0.9041\n",
            "Epoch 6/10\n",
            "38/38 [==============================] - 10s 254ms/step - loss: 0.4483 - accuracy: 0.9087 - val_loss: 0.4849 - val_accuracy: 0.9041\n",
            "Epoch 7/10\n",
            "38/38 [==============================] - 9s 228ms/step - loss: 0.4459 - accuracy: 0.9087 - val_loss: 0.4679 - val_accuracy: 0.9041\n",
            "Epoch 8/10\n",
            "38/38 [==============================] - 9s 240ms/step - loss: 0.4459 - accuracy: 0.9087 - val_loss: 0.4643 - val_accuracy: 0.9041\n",
            "Epoch 9/10\n",
            "38/38 [==============================] - 9s 247ms/step - loss: 0.4449 - accuracy: 0.9087 - val_loss: 0.4750 - val_accuracy: 0.9041\n",
            "Epoch 10/10\n",
            "38/38 [==============================] - 9s 243ms/step - loss: 0.4436 - accuracy: 0.9087 - val_loss: 0.4682 - val_accuracy: 0.9041\n"
          ]
        }
      ],
      "source": [
        "h = model.fit(trainX, trainY.reshape(trainY.shape[0], trainY.shape[1], 1), epochs=10, batch_size=512, validation_split=0.2)"
      ]
    },
    {
      "cell_type": "code",
      "execution_count": null,
      "metadata": {
        "colab": {
          "base_uri": "https://localhost:8080/",
          "height": 881
        },
        "id": "_JIXvNgsF1ib",
        "outputId": "054c4c3e-5e8c-44db-f427-48a539eb0547"
      },
      "outputs": [
        {
          "data": {
            "image/png": "[encoded data removed]",
            "text/plain": [
              "<Figure size 640x480 with 1 Axes>"
            ]
          },
          "metadata": {},
          "output_type": "display_data"
        },
        {
          "data": {
            "image/png": "[encoded data removed]",
            "text/plain": [
              "<Figure size 640x480 with 1 Axes>"
            ]
          },
          "metadata": {},
          "output_type": "display_data"
        }
      ],
      "source": [
        "import matplotlib.pyplot as plt\n",
        "\n",
        "def plot_graphs(history, string):\n",
        "    plt.plot(history.history[string])\n",
        "    plt.plot(history.history['val_'+string])\n",
        "    plt.xlabel(\"Epochs\")\n",
        "    plt.ylabel(string)\n",
        "    plt.legend([string, 'val '+string])\n",
        "    plt.show()\n",
        "\n",
        "plot_graphs(h, 'accuracy')\n",
        "plot_graphs(h, 'loss')"
      ]
    },
    {
      "cell_type": "code",
      "execution_count": null,
      "metadata": {
        "id": "iD8KvhM1HVZR"
      },
      "outputs": [],
      "source": [
        "# from tensorflow.keras.models import Sequential"
      ]
    },
    {
      "cell_type": "code",
      "execution_count": null,
      "metadata": {
        "id": "QOMu74Y8HWUM"
      },
      "outputs": [],
      "source": [
        "# print(type(model))"
      ]
    },
    {
      "cell_type": "code",
      "execution_count": null,
      "metadata": {
        "id": "X0NlAJUOgXoP"
      },
      "outputs": [],
      "source": [
        "# if type(model) == \"Sequential\":\n",
        "#     preds = model.predict(testX)\n",
        "# elif type(model) == \"Model\":\n",
        "#     preds = model.predict_classes(testX)\n",
        "# else:\n",
        "#     raise ValueError(f\"Unsupported model type: {type(model)}\")"
      ]
    },
    {
      "cell_type": "code",
      "execution_count": null,
      "metadata": {
        "colab": {
          "base_uri": "https://localhost:8080/"
        },
        "id": "el6IwEDSd2qe",
        "outputId": "db8ec166-889e-47ad-adfd-f7f495b6644e"
      },
      "outputs": [
        {
          "data": {
            "text/plain": [
              "(6000, 6000)"
            ]
          },
          "execution_count": 45,
          "metadata": {},
          "output_type": "execute_result"
        }
      ],
      "source": [
        "len(testX), len(testY)"
      ]
    },
    {
      "cell_type": "code",
      "execution_count": null,
      "metadata": {
        "colab": {
          "base_uri": "https://localhost:8080/"
        },
        "id": "iQLUlyWcGbfL",
        "outputId": "f278984b-4a13-4b94-bfd5-5a1e298d83f6"
      },
      "outputs": [
        {
          "name": "stdout",
          "output_type": "stream",
          "text": [
            "188/188 [==============================] - 4s 21ms/step\n"
          ]
        }
      ],
      "source": [
        "# preds = model.predict_classes(testX.reshape((testX.shape[0],testX.shape[1])))\n",
        "# preds = model.predict(testX.reshape((testX.shape[0],testX.shape[1]))).argmax(axis=-1)\n",
        "# preds = model.predict(testX.reshape((testX.shape[0],testX.shape[1]))).argmax(axis=0)\n",
        "\n",
        "# these prediction are sequences of integers, we need to convert these integers to their corresponding words.\n",
        "\n",
        "# Make a prediction\n",
        "# y_pred = testX.reshape((testX.shape[0], testX.shape[1], 1))\n",
        "\n",
        "# Get the predicted class labels\n",
        "# preds = y_pred.argmax(axis=-1)\n",
        "# preds = model.predict(y_pred)\n",
        "\n",
        "preds = model.predict(testX.reshape((testX.shape[0], testX.shape[1])))\n",
        "predicted_classes = preds.argmax(axis=-1)\n",
        "print(predicted_classes)"
      ]
    },
    {
      "cell_type": "code",
      "execution_count": null,
      "metadata": {
        "colab": {
          "background_save": true,
          "base_uri": "https://localhost:8080/"
        },
        "id": "8rgcMa2oHpRf",
        "outputId": "e7c38405-8920-4fe7-ef93-a23916839e9e"
      },
      "outputs": [
        {
          "ename": "NameError",
          "evalue": "name 'predicted_classe' is not defined",
          "output_type": "error",
          "traceback": [
            "\u001b[0;31m---------------------------------------------------------------------------\u001b[0m",
            "\u001b[0;31mNameError\u001b[0m                                 Traceback (most recent call last)",
            "\u001b[0;32m<ipython-input-2-43ab83f383da>\u001b[0m in \u001b[0;36m<cell line: 1>\u001b[0;34m()\u001b[0m\n\u001b[0;32m----> 1\u001b[0;31m \u001b[0mpredicted_classe\u001b[0m\u001b[0;34m\u001b[0m\u001b[0;34m\u001b[0m\u001b[0m\n\u001b[0m",
            "\u001b[0;31mNameError\u001b[0m: name 'predicted_classe' is not defined"
          ]
        }
      ],
      "source": [
        "preds"
      ]
    },
    {
      "cell_type": "code",
      "execution_count": null,
      "metadata": {
        "id": "3DEmZlmYHqIb"
      },
      "outputs": [],
      "source": [
        "# these prediction are sequences of integers, we need to convert these integers to their corresponding words.\n",
        "\n",
        "# def get_word(n, tokenizer):\n",
        "#   for word, index in tokenizer.word_index.items():\n",
        "#     if index == n:\n",
        "#       return word\n",
        "#   return None\n",
        "\n",
        "def get_word(n, tokenizer):\n",
        "  if len(n.shape) > 1:\n",
        "    n = np.argmax(n)\n",
        "  for word, index in tokenizer.word_index.items():\n",
        "    if index == n:\n",
        "      return word\n",
        "  return None"
      ]
    },
    {
      "cell_type": "code",
      "execution_count": null,
      "metadata": {
        "id": "1aM8njXUIcFO"
      },
      "outputs": [],
      "source": [
        "# Convert prediction into setences (ling)"
      ]
    },
    {
      "cell_type": "code",
      "execution_count": null,
      "metadata": {
        "id": "0BDTTgrsIpqd"
      },
      "outputs": [],
      "source": [
        "# preds_text = []\n",
        "# for i in preds:\n",
        "#   temp = []\n",
        "#   for j in range(len(i)):\n",
        "#     t = get_word(i[j], lin_tokenizer)\n",
        "#     if j > 0:\n",
        "#       if(t == get_word(i[j-1], lin_tokenizer)) or (t == None):\n",
        "#         temp.append('')\n",
        "#       else:\n",
        "#         temp.append(t)\n",
        "#     else:\n",
        "#       if(t == None):\n",
        "#         temp.append('')\n",
        "#       else:\n",
        "#         temp.append(t)\n",
        "#   preds_text.append(' '.join(temp))\n"
      ]
    },
    {
      "cell_type": "code",
      "execution_count": null,
      "metadata": {
        "colab": {
          "base_uri": "https://localhost:8080/",
          "height": 369
        },
        "id": "bRJk_lmxMxE-",
        "outputId": "d4e2e0f0-1d57-4eae-cc41-981550e80e2a"
      },
      "outputs": [
        {
          "ename": "ValueError",
          "evalue": "The truth value of an array with more than one element is ambiguous. Use a.any() or a.all()",
          "output_type": "error",
          "traceback": [
            "\u001b[0;31m---------------------------------------------------------------------------\u001b[0m",
            "\u001b[0;31mValueError\u001b[0m                                Traceback (most recent call last)",
            "\u001b[0;32m<ipython-input-41-6817675360f5>\u001b[0m in \u001b[0;36m<cell line: 19>\u001b[0;34m()\u001b[0m\n\u001b[1;32m     20\u001b[0m   \u001b[0mtemp\u001b[0m \u001b[0;34m=\u001b[0m \u001b[0;34m[\u001b[0m\u001b[0;34m]\u001b[0m\u001b[0;34m\u001b[0m\u001b[0;34m\u001b[0m\u001b[0m\n\u001b[1;32m     21\u001b[0m   \u001b[0;32mfor\u001b[0m \u001b[0mj\u001b[0m \u001b[0;32min\u001b[0m \u001b[0mrange\u001b[0m\u001b[0;34m(\u001b[0m\u001b[0mlen\u001b[0m\u001b[0;34m(\u001b[0m\u001b[0mi\u001b[0m\u001b[0;34m)\u001b[0m\u001b[0;34m)\u001b[0m\u001b[0;34m:\u001b[0m\u001b[0;34m\u001b[0m\u001b[0;34m\u001b[0m\u001b[0m\n\u001b[0;32m---> 22\u001b[0;31m     \u001b[0mt\u001b[0m \u001b[0;34m=\u001b[0m \u001b[0mget_word\u001b[0m\u001b[0;34m(\u001b[0m\u001b[0mi\u001b[0m\u001b[0;34m[\u001b[0m\u001b[0mj\u001b[0m\u001b[0;34m]\u001b[0m\u001b[0;34m,\u001b[0m \u001b[0mfr_tokenizer\u001b[0m\u001b[0;34m)\u001b[0m\u001b[0;34m\u001b[0m\u001b[0;34m\u001b[0m\u001b[0m\n\u001b[0m\u001b[1;32m     23\u001b[0m     \u001b[0;32mif\u001b[0m \u001b[0mj\u001b[0m \u001b[0;34m>\u001b[0m \u001b[0;36m0\u001b[0m\u001b[0;34m:\u001b[0m\u001b[0;34m\u001b[0m\u001b[0;34m\u001b[0m\u001b[0m\n\u001b[1;32m     24\u001b[0m       \u001b[0;32mif\u001b[0m\u001b[0;34m(\u001b[0m\u001b[0mt\u001b[0m \u001b[0;34m==\u001b[0m \u001b[0mget_word\u001b[0m\u001b[0;34m(\u001b[0m\u001b[0mi\u001b[0m\u001b[0;34m[\u001b[0m\u001b[0mj\u001b[0m\u001b[0;34m-\u001b[0m\u001b[0;36m1\u001b[0m\u001b[0;34m]\u001b[0m\u001b[0;34m,\u001b[0m \u001b[0mfr_tokenizer\u001b[0m\u001b[0;34m)\u001b[0m\u001b[0;34m)\u001b[0m \u001b[0;32mor\u001b[0m \u001b[0;34m(\u001b[0m\u001b[0mt\u001b[0m \u001b[0;34m==\u001b[0m \u001b[0;32mNone\u001b[0m\u001b[0;34m)\u001b[0m\u001b[0;34m:\u001b[0m\u001b[0;34m\u001b[0m\u001b[0;34m\u001b[0m\u001b[0m\n",
            "\u001b[0;32m<ipython-input-38-928563094374>\u001b[0m in \u001b[0;36mget_word\u001b[0;34m(n, tokenizer)\u001b[0m\n\u001b[1;32m     11\u001b[0m     \u001b[0mn\u001b[0m \u001b[0;34m=\u001b[0m \u001b[0mnp\u001b[0m\u001b[0;34m.\u001b[0m\u001b[0margmax\u001b[0m\u001b[0;34m(\u001b[0m\u001b[0mn\u001b[0m\u001b[0;34m)\u001b[0m\u001b[0;34m\u001b[0m\u001b[0;34m\u001b[0m\u001b[0m\n\u001b[1;32m     12\u001b[0m   \u001b[0;32mfor\u001b[0m \u001b[0mword\u001b[0m\u001b[0;34m,\u001b[0m \u001b[0mindex\u001b[0m \u001b[0;32min\u001b[0m \u001b[0mtokenizer\u001b[0m\u001b[0;34m.\u001b[0m\u001b[0mword_index\u001b[0m\u001b[0;34m.\u001b[0m\u001b[0mitems\u001b[0m\u001b[0;34m(\u001b[0m\u001b[0;34m)\u001b[0m\u001b[0;34m:\u001b[0m\u001b[0;34m\u001b[0m\u001b[0;34m\u001b[0m\u001b[0m\n\u001b[0;32m---> 13\u001b[0;31m     \u001b[0;32mif\u001b[0m \u001b[0mindex\u001b[0m \u001b[0;34m==\u001b[0m \u001b[0mn\u001b[0m\u001b[0;34m:\u001b[0m\u001b[0;34m\u001b[0m\u001b[0;34m\u001b[0m\u001b[0m\n\u001b[0m\u001b[1;32m     14\u001b[0m       \u001b[0;32mreturn\u001b[0m \u001b[0mword\u001b[0m\u001b[0;34m\u001b[0m\u001b[0;34m\u001b[0m\u001b[0m\n\u001b[1;32m     15\u001b[0m   \u001b[0;32mreturn\u001b[0m \u001b[0;32mNone\u001b[0m\u001b[0;34m\u001b[0m\u001b[0;34m\u001b[0m\u001b[0m\n",
            "\u001b[0;31mValueError\u001b[0m: The truth value of an array with more than one element is ambiguous. Use a.any() or a.all()"
          ]
        }
      ],
      "source": [
        "# preds_text = []\n",
        "# for i in preds:\n",
        "#   temp = []\n",
        "#   for j in range(len(i)):\n",
        "#     t = get_word(i[j][0], lin_tokenizer)\n",
        "#     if j > 0:\n",
        "#       if(t == get_word(i[j-1][0], lin_tokenizer)) or (t == None):\n",
        "#         temp.append('')\n",
        "#       else:\n",
        "#         temp.append(t)\n",
        "#     else:\n",
        "#       if(t == None):\n",
        "#         temp.append('')\n",
        "#       else:\n",
        "#         temp.append(t)\n",
        "#   preds_text.append(' '.join(temp))\n",
        "\n",
        "preds_text = []\n",
        "for i in preds:\n",
        "  temp = []\n",
        "  for j in range(len(i)):\n",
        "    t = get_word(i[j], fr_tokenizer)\n",
        "    if j > 0:\n",
        "      if(t == get_word(i[j-1], fr_tokenizer)) or (t == None):\n",
        "        temp.append('')\n",
        "      else:\n",
        "        temp.append(t)\n",
        "    else:\n",
        "      if(t == None):\n",
        "        temp.append('')\n",
        "      else:\n",
        "        temp.append(t)\n",
        "  preds_text.append(' '.join(temp))"
      ]
    },
    {
      "cell_type": "markdown",
      "metadata": {
        "id": "_lyqVwVbKb8_"
      },
      "source": [
        "# let put the origin lingala sentences  in the test dataset and the predicted sentences in a dataframe:"
      ]
    },
    {
      "cell_type": "code",
      "execution_count": null,
      "metadata": {
        "id": "7AWAaqOFuRX4"
      },
      "outputs": [],
      "source": [
        "preds_text"
      ]
    },
    {
      "cell_type": "code",
      "execution_count": null,
      "metadata": {
        "id": "eXoBYQEfKBVL"
      },
      "outputs": [],
      "source": [
        "# pred_df = pd.DataFrame({'actual' : test.iloc[:,1], 'prediction' : preds_text})\n",
        "pred_df = pd.DataFrame({'actual' : test.iloc[:len(preds_text),1], 'prediction' : preds_text})"
      ]
    },
    {
      "cell_type": "code",
      "execution_count": null,
      "metadata": {
        "id": "mcnxczQPLJfO"
      },
      "outputs": [],
      "source": [
        "pred_df.sample(5)"
      ]
    },
    {
      "cell_type": "code",
      "execution_count": null,
      "metadata": {
        "id": "ETWdDoCcLXVe"
      },
      "outputs": [],
      "source": [
        "fr_lin.iloc[3851]"
      ]
    },
    {
      "cell_type": "code",
      "execution_count": null,
      "metadata": {
        "id": "PwxuEoThtfmM"
      },
      "outputs": [],
      "source": []
    }
  ],
  "metadata": {
    "accelerator": "GPU",
    "colab": {
      "gpuType": "T4",
      "provenance": []
    },
    "kernelspec": {
      "display_name": "Python 3",
      "name": "python3"
    },
    "language_info": {
      "name": "python"
    }
  },
  "nbformat": 4,
  "nbformat_minor": 0
}