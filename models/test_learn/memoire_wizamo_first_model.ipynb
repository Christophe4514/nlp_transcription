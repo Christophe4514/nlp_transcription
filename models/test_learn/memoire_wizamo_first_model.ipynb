{
  "nbformat": 4,
  "nbformat_minor": 0,
  "metadata": {
    "colab": {
      "provenance": [],
      "gpuType": "T4",
      "toc_visible": true
    },
    "kernelspec": {
      "name": "python3",
      "display_name": "Python 3"
    },
    "language_info": {
      "name": "python"
    },
    "accelerator": "GPU",
    "widgets": {
      "application/vnd.jupyter.widget-state+json": {
        "956ae0db9d1447a9aeb07ea376a73e43": {
          "model_module": "@jupyter-widgets/controls",
          "model_name": "HBoxModel",
          "model_module_version": "1.5.0",
          "state": {
            "_dom_classes": [],
            "_model_module": "@jupyter-widgets/controls",
            "_model_module_version": "1.5.0",
            "_model_name": "HBoxModel",
            "_view_count": null,
            "_view_module": "@jupyter-widgets/controls",
            "_view_module_version": "1.5.0",
            "_view_name": "HBoxView",
            "box_style": "",
            "children": [
              "IPY_MODEL_a82deace05c24055997bb053900e78db",
              "IPY_MODEL_244ddead1f1e42bda4f836c7c5f879f0",
              "IPY_MODEL_7c622d7de23f4cca9433b1b0a336e665"
            ],
            "layout": "IPY_MODEL_e81eca75627a4276b2e145de31ef569d"
          }
        },
        "a82deace05c24055997bb053900e78db": {
          "model_module": "@jupyter-widgets/controls",
          "model_name": "HTMLModel",
          "model_module_version": "1.5.0",
          "state": {
            "_dom_classes": [],
            "_model_module": "@jupyter-widgets/controls",
            "_model_module_version": "1.5.0",
            "_model_name": "HTMLModel",
            "_view_count": null,
            "_view_module": "@jupyter-widgets/controls",
            "_view_module_version": "1.5.0",
            "_view_name": "HTMLView",
            "description": "",
            "description_tooltip": null,
            "layout": "IPY_MODEL_39259afb2bdc49aa9dbef4d109e36414",
            "placeholder": "​",
            "style": "IPY_MODEL_f4cd496fd46d45e7b68d362a76ef7874",
            "value": "tokenizer_config.json: 100%"
          }
        },
        "244ddead1f1e42bda4f836c7c5f879f0": {
          "model_module": "@jupyter-widgets/controls",
          "model_name": "FloatProgressModel",
          "model_module_version": "1.5.0",
          "state": {
            "_dom_classes": [],
            "_model_module": "@jupyter-widgets/controls",
            "_model_module_version": "1.5.0",
            "_model_name": "FloatProgressModel",
            "_view_count": null,
            "_view_module": "@jupyter-widgets/controls",
            "_view_module_version": "1.5.0",
            "_view_name": "ProgressView",
            "bar_style": "success",
            "description": "",
            "description_tooltip": null,
            "layout": "IPY_MODEL_03fea6225efc43b3919a7389f8856f27",
            "max": 49,
            "min": 0,
            "orientation": "horizontal",
            "style": "IPY_MODEL_5b1ef1c83a7a4d50b87692b0c5f9b5fd",
            "value": 49
          }
        },
        "7c622d7de23f4cca9433b1b0a336e665": {
          "model_module": "@jupyter-widgets/controls",
          "model_name": "HTMLModel",
          "model_module_version": "1.5.0",
          "state": {
            "_dom_classes": [],
            "_model_module": "@jupyter-widgets/controls",
            "_model_module_version": "1.5.0",
            "_model_name": "HTMLModel",
            "_view_count": null,
            "_view_module": "@jupyter-widgets/controls",
            "_view_module_version": "1.5.0",
            "_view_name": "HTMLView",
            "description": "",
            "description_tooltip": null,
            "layout": "IPY_MODEL_2edb4f9c956a49809c162f71ea1d5484",
            "placeholder": "​",
            "style": "IPY_MODEL_0d5d12a2c5f8423bbb304ae441f0fa80",
            "value": " 49.0/49.0 [00:00&lt;00:00, 3.61kB/s]"
          }
        },
        "e81eca75627a4276b2e145de31ef569d": {
          "model_module": "@jupyter-widgets/base",
          "model_name": "LayoutModel",
          "model_module_version": "1.2.0",
          "state": {
            "_model_module": "@jupyter-widgets/base",
            "_model_module_version": "1.2.0",
            "_model_name": "LayoutModel",
            "_view_count": null,
            "_view_module": "@jupyter-widgets/base",
            "_view_module_version": "1.2.0",
            "_view_name": "LayoutView",
            "align_content": null,
            "align_items": null,
            "align_self": null,
            "border": null,
            "bottom": null,
            "display": null,
            "flex": null,
            "flex_flow": null,
            "grid_area": null,
            "grid_auto_columns": null,
            "grid_auto_flow": null,
            "grid_auto_rows": null,
            "grid_column": null,
            "grid_gap": null,
            "grid_row": null,
            "grid_template_areas": null,
            "grid_template_columns": null,
            "grid_template_rows": null,
            "height": null,
            "justify_content": null,
            "justify_items": null,
            "left": null,
            "margin": null,
            "max_height": null,
            "max_width": null,
            "min_height": null,
            "min_width": null,
            "object_fit": null,
            "object_position": null,
            "order": null,
            "overflow": null,
            "overflow_x": null,
            "overflow_y": null,
            "padding": null,
            "right": null,
            "top": null,
            "visibility": null,
            "width": null
          }
        },
        "39259afb2bdc49aa9dbef4d109e36414": {
          "model_module": "@jupyter-widgets/base",
          "model_name": "LayoutModel",
          "model_module_version": "1.2.0",
          "state": {
            "_model_module": "@jupyter-widgets/base",
            "_model_module_version": "1.2.0",
            "_model_name": "LayoutModel",
            "_view_count": null,
            "_view_module": "@jupyter-widgets/base",
            "_view_module_version": "1.2.0",
            "_view_name": "LayoutView",
            "align_content": null,
            "align_items": null,
            "align_self": null,
            "border": null,
            "bottom": null,
            "display": null,
            "flex": null,
            "flex_flow": null,
            "grid_area": null,
            "grid_auto_columns": null,
            "grid_auto_flow": null,
            "grid_auto_rows": null,
            "grid_column": null,
            "grid_gap": null,
            "grid_row": null,
            "grid_template_areas": null,
            "grid_template_columns": null,
            "grid_template_rows": null,
            "height": null,
            "justify_content": null,
            "justify_items": null,
            "left": null,
            "margin": null,
            "max_height": null,
            "max_width": null,
            "min_height": null,
            "min_width": null,
            "object_fit": null,
            "object_position": null,
            "order": null,
            "overflow": null,
            "overflow_x": null,
            "overflow_y": null,
            "padding": null,
            "right": null,
            "top": null,
            "visibility": null,
            "width": null
          }
        },
        "f4cd496fd46d45e7b68d362a76ef7874": {
          "model_module": "@jupyter-widgets/controls",
          "model_name": "DescriptionStyleModel",
          "model_module_version": "1.5.0",
          "state": {
            "_model_module": "@jupyter-widgets/controls",
            "_model_module_version": "1.5.0",
            "_model_name": "DescriptionStyleModel",
            "_view_count": null,
            "_view_module": "@jupyter-widgets/base",
            "_view_module_version": "1.2.0",
            "_view_name": "StyleView",
            "description_width": ""
          }
        },
        "03fea6225efc43b3919a7389f8856f27": {
          "model_module": "@jupyter-widgets/base",
          "model_name": "LayoutModel",
          "model_module_version": "1.2.0",
          "state": {
            "_model_module": "@jupyter-widgets/base",
            "_model_module_version": "1.2.0",
            "_model_name": "LayoutModel",
            "_view_count": null,
            "_view_module": "@jupyter-widgets/base",
            "_view_module_version": "1.2.0",
            "_view_name": "LayoutView",
            "align_content": null,
            "align_items": null,
            "align_self": null,
            "border": null,
            "bottom": null,
            "display": null,
            "flex": null,
            "flex_flow": null,
            "grid_area": null,
            "grid_auto_columns": null,
            "grid_auto_flow": null,
            "grid_auto_rows": null,
            "grid_column": null,
            "grid_gap": null,
            "grid_row": null,
            "grid_template_areas": null,
            "grid_template_columns": null,
            "grid_template_rows": null,
            "height": null,
            "justify_content": null,
            "justify_items": null,
            "left": null,
            "margin": null,
            "max_height": null,
            "max_width": null,
            "min_height": null,
            "min_width": null,
            "object_fit": null,
            "object_position": null,
            "order": null,
            "overflow": null,
            "overflow_x": null,
            "overflow_y": null,
            "padding": null,
            "right": null,
            "top": null,
            "visibility": null,
            "width": null
          }
        },
        "5b1ef1c83a7a4d50b87692b0c5f9b5fd": {
          "model_module": "@jupyter-widgets/controls",
          "model_name": "ProgressStyleModel",
          "model_module_version": "1.5.0",
          "state": {
            "_model_module": "@jupyter-widgets/controls",
            "_model_module_version": "1.5.0",
            "_model_name": "ProgressStyleModel",
            "_view_count": null,
            "_view_module": "@jupyter-widgets/base",
            "_view_module_version": "1.2.0",
            "_view_name": "StyleView",
            "bar_color": null,
            "description_width": ""
          }
        },
        "2edb4f9c956a49809c162f71ea1d5484": {
          "model_module": "@jupyter-widgets/base",
          "model_name": "LayoutModel",
          "model_module_version": "1.2.0",
          "state": {
            "_model_module": "@jupyter-widgets/base",
            "_model_module_version": "1.2.0",
            "_model_name": "LayoutModel",
            "_view_count": null,
            "_view_module": "@jupyter-widgets/base",
            "_view_module_version": "1.2.0",
            "_view_name": "LayoutView",
            "align_content": null,
            "align_items": null,
            "align_self": null,
            "border": null,
            "bottom": null,
            "display": null,
            "flex": null,
            "flex_flow": null,
            "grid_area": null,
            "grid_auto_columns": null,
            "grid_auto_flow": null,
            "grid_auto_rows": null,
            "grid_column": null,
            "grid_gap": null,
            "grid_row": null,
            "grid_template_areas": null,
            "grid_template_columns": null,
            "grid_template_rows": null,
            "height": null,
            "justify_content": null,
            "justify_items": null,
            "left": null,
            "margin": null,
            "max_height": null,
            "max_width": null,
            "min_height": null,
            "min_width": null,
            "object_fit": null,
            "object_position": null,
            "order": null,
            "overflow": null,
            "overflow_x": null,
            "overflow_y": null,
            "padding": null,
            "right": null,
            "top": null,
            "visibility": null,
            "width": null
          }
        },
        "0d5d12a2c5f8423bbb304ae441f0fa80": {
          "model_module": "@jupyter-widgets/controls",
          "model_name": "DescriptionStyleModel",
          "model_module_version": "1.5.0",
          "state": {
            "_model_module": "@jupyter-widgets/controls",
            "_model_module_version": "1.5.0",
            "_model_name": "DescriptionStyleModel",
            "_view_count": null,
            "_view_module": "@jupyter-widgets/base",
            "_view_module_version": "1.2.0",
            "_view_name": "StyleView",
            "description_width": ""
          }
        },
        "98eeefd3d6c0454babcbbd130aea659a": {
          "model_module": "@jupyter-widgets/controls",
          "model_name": "HBoxModel",
          "model_module_version": "1.5.0",
          "state": {
            "_dom_classes": [],
            "_model_module": "@jupyter-widgets/controls",
            "_model_module_version": "1.5.0",
            "_model_name": "HBoxModel",
            "_view_count": null,
            "_view_module": "@jupyter-widgets/controls",
            "_view_module_version": "1.5.0",
            "_view_name": "HBoxView",
            "box_style": "",
            "children": [
              "IPY_MODEL_714dcd0defd843e4830516d01f06d5c1",
              "IPY_MODEL_44657eca5e424febb0c03aa283d551de",
              "IPY_MODEL_f89a23e04615408aa07fd482c0fd111a"
            ],
            "layout": "IPY_MODEL_6fb1439537ec47a0a97f5469d7975ca1"
          }
        },
        "714dcd0defd843e4830516d01f06d5c1": {
          "model_module": "@jupyter-widgets/controls",
          "model_name": "HTMLModel",
          "model_module_version": "1.5.0",
          "state": {
            "_dom_classes": [],
            "_model_module": "@jupyter-widgets/controls",
            "_model_module_version": "1.5.0",
            "_model_name": "HTMLModel",
            "_view_count": null,
            "_view_module": "@jupyter-widgets/controls",
            "_view_module_version": "1.5.0",
            "_view_name": "HTMLView",
            "description": "",
            "description_tooltip": null,
            "layout": "IPY_MODEL_93f64f33ec6249d5a795d7a8dd879d6c",
            "placeholder": "​",
            "style": "IPY_MODEL_91197fdf61964c4bb31be2bf984c9371",
            "value": "config.json: 100%"
          }
        },
        "44657eca5e424febb0c03aa283d551de": {
          "model_module": "@jupyter-widgets/controls",
          "model_name": "FloatProgressModel",
          "model_module_version": "1.5.0",
          "state": {
            "_dom_classes": [],
            "_model_module": "@jupyter-widgets/controls",
            "_model_module_version": "1.5.0",
            "_model_name": "FloatProgressModel",
            "_view_count": null,
            "_view_module": "@jupyter-widgets/controls",
            "_view_module_version": "1.5.0",
            "_view_name": "ProgressView",
            "bar_style": "success",
            "description": "",
            "description_tooltip": null,
            "layout": "IPY_MODEL_e50b3594f9f141879fcd5588e56225bb",
            "max": 570,
            "min": 0,
            "orientation": "horizontal",
            "style": "IPY_MODEL_80846a44fef6488cbd4b0ca4dba21a57",
            "value": 570
          }
        },
        "f89a23e04615408aa07fd482c0fd111a": {
          "model_module": "@jupyter-widgets/controls",
          "model_name": "HTMLModel",
          "model_module_version": "1.5.0",
          "state": {
            "_dom_classes": [],
            "_model_module": "@jupyter-widgets/controls",
            "_model_module_version": "1.5.0",
            "_model_name": "HTMLModel",
            "_view_count": null,
            "_view_module": "@jupyter-widgets/controls",
            "_view_module_version": "1.5.0",
            "_view_name": "HTMLView",
            "description": "",
            "description_tooltip": null,
            "layout": "IPY_MODEL_35b32a35e0f1467ba04b8dc314538e5d",
            "placeholder": "​",
            "style": "IPY_MODEL_1a4ad754acf14affb9c6ed8d30f20f2e",
            "value": " 570/570 [00:00&lt;00:00, 43.2kB/s]"
          }
        },
        "6fb1439537ec47a0a97f5469d7975ca1": {
          "model_module": "@jupyter-widgets/base",
          "model_name": "LayoutModel",
          "model_module_version": "1.2.0",
          "state": {
            "_model_module": "@jupyter-widgets/base",
            "_model_module_version": "1.2.0",
            "_model_name": "LayoutModel",
            "_view_count": null,
            "_view_module": "@jupyter-widgets/base",
            "_view_module_version": "1.2.0",
            "_view_name": "LayoutView",
            "align_content": null,
            "align_items": null,
            "align_self": null,
            "border": null,
            "bottom": null,
            "display": null,
            "flex": null,
            "flex_flow": null,
            "grid_area": null,
            "grid_auto_columns": null,
            "grid_auto_flow": null,
            "grid_auto_rows": null,
            "grid_column": null,
            "grid_gap": null,
            "grid_row": null,
            "grid_template_areas": null,
            "grid_template_columns": null,
            "grid_template_rows": null,
            "height": null,
            "justify_content": null,
            "justify_items": null,
            "left": null,
            "margin": null,
            "max_height": null,
            "max_width": null,
            "min_height": null,
            "min_width": null,
            "object_fit": null,
            "object_position": null,
            "order": null,
            "overflow": null,
            "overflow_x": null,
            "overflow_y": null,
            "padding": null,
            "right": null,
            "top": null,
            "visibility": null,
            "width": null
          }
        },
        "93f64f33ec6249d5a795d7a8dd879d6c": {
          "model_module": "@jupyter-widgets/base",
          "model_name": "LayoutModel",
          "model_module_version": "1.2.0",
          "state": {
            "_model_module": "@jupyter-widgets/base",
            "_model_module_version": "1.2.0",
            "_model_name": "LayoutModel",
            "_view_count": null,
            "_view_module": "@jupyter-widgets/base",
            "_view_module_version": "1.2.0",
            "_view_name": "LayoutView",
            "align_content": null,
            "align_items": null,
            "align_self": null,
            "border": null,
            "bottom": null,
            "display": null,
            "flex": null,
            "flex_flow": null,
            "grid_area": null,
            "grid_auto_columns": null,
            "grid_auto_flow": null,
            "grid_auto_rows": null,
            "grid_column": null,
            "grid_gap": null,
            "grid_row": null,
            "grid_template_areas": null,
            "grid_template_columns": null,
            "grid_template_rows": null,
            "height": null,
            "justify_content": null,
            "justify_items": null,
            "left": null,
            "margin": null,
            "max_height": null,
            "max_width": null,
            "min_height": null,
            "min_width": null,
            "object_fit": null,
            "object_position": null,
            "order": null,
            "overflow": null,
            "overflow_x": null,
            "overflow_y": null,
            "padding": null,
            "right": null,
            "top": null,
            "visibility": null,
            "width": null
          }
        },
        "91197fdf61964c4bb31be2bf984c9371": {
          "model_module": "@jupyter-widgets/controls",
          "model_name": "DescriptionStyleModel",
          "model_module_version": "1.5.0",
          "state": {
            "_model_module": "@jupyter-widgets/controls",
            "_model_module_version": "1.5.0",
            "_model_name": "DescriptionStyleModel",
            "_view_count": null,
            "_view_module": "@jupyter-widgets/base",
            "_view_module_version": "1.2.0",
            "_view_name": "StyleView",
            "description_width": ""
          }
        },
        "e50b3594f9f141879fcd5588e56225bb": {
          "model_module": "@jupyter-widgets/base",
          "model_name": "LayoutModel",
          "model_module_version": "1.2.0",
          "state": {
            "_model_module": "@jupyter-widgets/base",
            "_model_module_version": "1.2.0",
            "_model_name": "LayoutModel",
            "_view_count": null,
            "_view_module": "@jupyter-widgets/base",
            "_view_module_version": "1.2.0",
            "_view_name": "LayoutView",
            "align_content": null,
            "align_items": null,
            "align_self": null,
            "border": null,
            "bottom": null,
            "display": null,
            "flex": null,
            "flex_flow": null,
            "grid_area": null,
            "grid_auto_columns": null,
            "grid_auto_flow": null,
            "grid_auto_rows": null,
            "grid_column": null,
            "grid_gap": null,
            "grid_row": null,
            "grid_template_areas": null,
            "grid_template_columns": null,
            "grid_template_rows": null,
            "height": null,
            "justify_content": null,
            "justify_items": null,
            "left": null,
            "margin": null,
            "max_height": null,
            "max_width": null,
            "min_height": null,
            "min_width": null,
            "object_fit": null,
            "object_position": null,
            "order": null,
            "overflow": null,
            "overflow_x": null,
            "overflow_y": null,
            "padding": null,
            "right": null,
            "top": null,
            "visibility": null,
            "width": null
          }
        },
        "80846a44fef6488cbd4b0ca4dba21a57": {
          "model_module": "@jupyter-widgets/controls",
          "model_name": "ProgressStyleModel",
          "model_module_version": "1.5.0",
          "state": {
            "_model_module": "@jupyter-widgets/controls",
            "_model_module_version": "1.5.0",
            "_model_name": "ProgressStyleModel",
            "_view_count": null,
            "_view_module": "@jupyter-widgets/base",
            "_view_module_version": "1.2.0",
            "_view_name": "StyleView",
            "bar_color": null,
            "description_width": ""
          }
        },
        "35b32a35e0f1467ba04b8dc314538e5d": {
          "model_module": "@jupyter-widgets/base",
          "model_name": "LayoutModel",
          "model_module_version": "1.2.0",
          "state": {
            "_model_module": "@jupyter-widgets/base",
            "_model_module_version": "1.2.0",
            "_model_name": "LayoutModel",
            "_view_count": null,
            "_view_module": "@jupyter-widgets/base",
            "_view_module_version": "1.2.0",
            "_view_name": "LayoutView",
            "align_content": null,
            "align_items": null,
            "align_self": null,
            "border": null,
            "bottom": null,
            "display": null,
            "flex": null,
            "flex_flow": null,
            "grid_area": null,
            "grid_auto_columns": null,
            "grid_auto_flow": null,
            "grid_auto_rows": null,
            "grid_column": null,
            "grid_gap": null,
            "grid_row": null,
            "grid_template_areas": null,
            "grid_template_columns": null,
            "grid_template_rows": null,
            "height": null,
            "justify_content": null,
            "justify_items": null,
            "left": null,
            "margin": null,
            "max_height": null,
            "max_width": null,
            "min_height": null,
            "min_width": null,
            "object_fit": null,
            "object_position": null,
            "order": null,
            "overflow": null,
            "overflow_x": null,
            "overflow_y": null,
            "padding": null,
            "right": null,
            "top": null,
            "visibility": null,
            "width": null
          }
        },
        "1a4ad754acf14affb9c6ed8d30f20f2e": {
          "model_module": "@jupyter-widgets/controls",
          "model_name": "DescriptionStyleModel",
          "model_module_version": "1.5.0",
          "state": {
            "_model_module": "@jupyter-widgets/controls",
            "_model_module_version": "1.5.0",
            "_model_name": "DescriptionStyleModel",
            "_view_count": null,
            "_view_module": "@jupyter-widgets/base",
            "_view_module_version": "1.2.0",
            "_view_name": "StyleView",
            "description_width": ""
          }
        },
        "2af76f21895141f4b92db267e1ad3da4": {
          "model_module": "@jupyter-widgets/controls",
          "model_name": "HBoxModel",
          "model_module_version": "1.5.0",
          "state": {
            "_dom_classes": [],
            "_model_module": "@jupyter-widgets/controls",
            "_model_module_version": "1.5.0",
            "_model_name": "HBoxModel",
            "_view_count": null,
            "_view_module": "@jupyter-widgets/controls",
            "_view_module_version": "1.5.0",
            "_view_name": "HBoxView",
            "box_style": "",
            "children": [
              "IPY_MODEL_a5190198c0ca45d69c68c5b1bf54b95d",
              "IPY_MODEL_e78390293dd2481b9d8cef8f8d29f9ce",
              "IPY_MODEL_0990b33be0144376b30f8b4c4414688c"
            ],
            "layout": "IPY_MODEL_1d1b59379d8c434c8cc0c5c9372be1d2"
          }
        },
        "a5190198c0ca45d69c68c5b1bf54b95d": {
          "model_module": "@jupyter-widgets/controls",
          "model_name": "HTMLModel",
          "model_module_version": "1.5.0",
          "state": {
            "_dom_classes": [],
            "_model_module": "@jupyter-widgets/controls",
            "_model_module_version": "1.5.0",
            "_model_name": "HTMLModel",
            "_view_count": null,
            "_view_module": "@jupyter-widgets/controls",
            "_view_module_version": "1.5.0",
            "_view_name": "HTMLView",
            "description": "",
            "description_tooltip": null,
            "layout": "IPY_MODEL_7e7edbb460924c1ca0b23ff5c8dd1b9a",
            "placeholder": "​",
            "style": "IPY_MODEL_7b731c5c41304fa5add0ca307179a291",
            "value": "vocab.txt: 100%"
          }
        },
        "e78390293dd2481b9d8cef8f8d29f9ce": {
          "model_module": "@jupyter-widgets/controls",
          "model_name": "FloatProgressModel",
          "model_module_version": "1.5.0",
          "state": {
            "_dom_classes": [],
            "_model_module": "@jupyter-widgets/controls",
            "_model_module_version": "1.5.0",
            "_model_name": "FloatProgressModel",
            "_view_count": null,
            "_view_module": "@jupyter-widgets/controls",
            "_view_module_version": "1.5.0",
            "_view_name": "ProgressView",
            "bar_style": "success",
            "description": "",
            "description_tooltip": null,
            "layout": "IPY_MODEL_004a25e1b5344188bf8cc67aa0fe54ab",
            "max": 213450,
            "min": 0,
            "orientation": "horizontal",
            "style": "IPY_MODEL_04414d44165e496f8ff7ff62d67de27b",
            "value": 213450
          }
        },
        "0990b33be0144376b30f8b4c4414688c": {
          "model_module": "@jupyter-widgets/controls",
          "model_name": "HTMLModel",
          "model_module_version": "1.5.0",
          "state": {
            "_dom_classes": [],
            "_model_module": "@jupyter-widgets/controls",
            "_model_module_version": "1.5.0",
            "_model_name": "HTMLModel",
            "_view_count": null,
            "_view_module": "@jupyter-widgets/controls",
            "_view_module_version": "1.5.0",
            "_view_name": "HTMLView",
            "description": "",
            "description_tooltip": null,
            "layout": "IPY_MODEL_1e57f5daf2324b09b74270dec1761e8b",
            "placeholder": "​",
            "style": "IPY_MODEL_98bd6f21f39347a6b1ba411105ffee38",
            "value": " 213k/213k [00:00&lt;00:00, 5.40MB/s]"
          }
        },
        "1d1b59379d8c434c8cc0c5c9372be1d2": {
          "model_module": "@jupyter-widgets/base",
          "model_name": "LayoutModel",
          "model_module_version": "1.2.0",
          "state": {
            "_model_module": "@jupyter-widgets/base",
            "_model_module_version": "1.2.0",
            "_model_name": "LayoutModel",
            "_view_count": null,
            "_view_module": "@jupyter-widgets/base",
            "_view_module_version": "1.2.0",
            "_view_name": "LayoutView",
            "align_content": null,
            "align_items": null,
            "align_self": null,
            "border": null,
            "bottom": null,
            "display": null,
            "flex": null,
            "flex_flow": null,
            "grid_area": null,
            "grid_auto_columns": null,
            "grid_auto_flow": null,
            "grid_auto_rows": null,
            "grid_column": null,
            "grid_gap": null,
            "grid_row": null,
            "grid_template_areas": null,
            "grid_template_columns": null,
            "grid_template_rows": null,
            "height": null,
            "justify_content": null,
            "justify_items": null,
            "left": null,
            "margin": null,
            "max_height": null,
            "max_width": null,
            "min_height": null,
            "min_width": null,
            "object_fit": null,
            "object_position": null,
            "order": null,
            "overflow": null,
            "overflow_x": null,
            "overflow_y": null,
            "padding": null,
            "right": null,
            "top": null,
            "visibility": null,
            "width": null
          }
        },
        "7e7edbb460924c1ca0b23ff5c8dd1b9a": {
          "model_module": "@jupyter-widgets/base",
          "model_name": "LayoutModel",
          "model_module_version": "1.2.0",
          "state": {
            "_model_module": "@jupyter-widgets/base",
            "_model_module_version": "1.2.0",
            "_model_name": "LayoutModel",
            "_view_count": null,
            "_view_module": "@jupyter-widgets/base",
            "_view_module_version": "1.2.0",
            "_view_name": "LayoutView",
            "align_content": null,
            "align_items": null,
            "align_self": null,
            "border": null,
            "bottom": null,
            "display": null,
            "flex": null,
            "flex_flow": null,
            "grid_area": null,
            "grid_auto_columns": null,
            "grid_auto_flow": null,
            "grid_auto_rows": null,
            "grid_column": null,
            "grid_gap": null,
            "grid_row": null,
            "grid_template_areas": null,
            "grid_template_columns": null,
            "grid_template_rows": null,
            "height": null,
            "justify_content": null,
            "justify_items": null,
            "left": null,
            "margin": null,
            "max_height": null,
            "max_width": null,
            "min_height": null,
            "min_width": null,
            "object_fit": null,
            "object_position": null,
            "order": null,
            "overflow": null,
            "overflow_x": null,
            "overflow_y": null,
            "padding": null,
            "right": null,
            "top": null,
            "visibility": null,
            "width": null
          }
        },
        "7b731c5c41304fa5add0ca307179a291": {
          "model_module": "@jupyter-widgets/controls",
          "model_name": "DescriptionStyleModel",
          "model_module_version": "1.5.0",
          "state": {
            "_model_module": "@jupyter-widgets/controls",
            "_model_module_version": "1.5.0",
            "_model_name": "DescriptionStyleModel",
            "_view_count": null,
            "_view_module": "@jupyter-widgets/base",
            "_view_module_version": "1.2.0",
            "_view_name": "StyleView",
            "description_width": ""
          }
        },
        "004a25e1b5344188bf8cc67aa0fe54ab": {
          "model_module": "@jupyter-widgets/base",
          "model_name": "LayoutModel",
          "model_module_version": "1.2.0",
          "state": {
            "_model_module": "@jupyter-widgets/base",
            "_model_module_version": "1.2.0",
            "_model_name": "LayoutModel",
            "_view_count": null,
            "_view_module": "@jupyter-widgets/base",
            "_view_module_version": "1.2.0",
            "_view_name": "LayoutView",
            "align_content": null,
            "align_items": null,
            "align_self": null,
            "border": null,
            "bottom": null,
            "display": null,
            "flex": null,
            "flex_flow": null,
            "grid_area": null,
            "grid_auto_columns": null,
            "grid_auto_flow": null,
            "grid_auto_rows": null,
            "grid_column": null,
            "grid_gap": null,
            "grid_row": null,
            "grid_template_areas": null,
            "grid_template_columns": null,
            "grid_template_rows": null,
            "height": null,
            "justify_content": null,
            "justify_items": null,
            "left": null,
            "margin": null,
            "max_height": null,
            "max_width": null,
            "min_height": null,
            "min_width": null,
            "object_fit": null,
            "object_position": null,
            "order": null,
            "overflow": null,
            "overflow_x": null,
            "overflow_y": null,
            "padding": null,
            "right": null,
            "top": null,
            "visibility": null,
            "width": null
          }
        },
        "04414d44165e496f8ff7ff62d67de27b": {
          "model_module": "@jupyter-widgets/controls",
          "model_name": "ProgressStyleModel",
          "model_module_version": "1.5.0",
          "state": {
            "_model_module": "@jupyter-widgets/controls",
            "_model_module_version": "1.5.0",
            "_model_name": "ProgressStyleModel",
            "_view_count": null,
            "_view_module": "@jupyter-widgets/base",
            "_view_module_version": "1.2.0",
            "_view_name": "StyleView",
            "bar_color": null,
            "description_width": ""
          }
        },
        "1e57f5daf2324b09b74270dec1761e8b": {
          "model_module": "@jupyter-widgets/base",
          "model_name": "LayoutModel",
          "model_module_version": "1.2.0",
          "state": {
            "_model_module": "@jupyter-widgets/base",
            "_model_module_version": "1.2.0",
            "_model_name": "LayoutModel",
            "_view_count": null,
            "_view_module": "@jupyter-widgets/base",
            "_view_module_version": "1.2.0",
            "_view_name": "LayoutView",
            "align_content": null,
            "align_items": null,
            "align_self": null,
            "border": null,
            "bottom": null,
            "display": null,
            "flex": null,
            "flex_flow": null,
            "grid_area": null,
            "grid_auto_columns": null,
            "grid_auto_flow": null,
            "grid_auto_rows": null,
            "grid_column": null,
            "grid_gap": null,
            "grid_row": null,
            "grid_template_areas": null,
            "grid_template_columns": null,
            "grid_template_rows": null,
            "height": null,
            "justify_content": null,
            "justify_items": null,
            "left": null,
            "margin": null,
            "max_height": null,
            "max_width": null,
            "min_height": null,
            "min_width": null,
            "object_fit": null,
            "object_position": null,
            "order": null,
            "overflow": null,
            "overflow_x": null,
            "overflow_y": null,
            "padding": null,
            "right": null,
            "top": null,
            "visibility": null,
            "width": null
          }
        },
        "98bd6f21f39347a6b1ba411105ffee38": {
          "model_module": "@jupyter-widgets/controls",
          "model_name": "DescriptionStyleModel",
          "model_module_version": "1.5.0",
          "state": {
            "_model_module": "@jupyter-widgets/controls",
            "_model_module_version": "1.5.0",
            "_model_name": "DescriptionStyleModel",
            "_view_count": null,
            "_view_module": "@jupyter-widgets/base",
            "_view_module_version": "1.2.0",
            "_view_name": "StyleView",
            "description_width": ""
          }
        },
        "8d7fa487a9174b72a369abc615814b34": {
          "model_module": "@jupyter-widgets/controls",
          "model_name": "HBoxModel",
          "model_module_version": "1.5.0",
          "state": {
            "_dom_classes": [],
            "_model_module": "@jupyter-widgets/controls",
            "_model_module_version": "1.5.0",
            "_model_name": "HBoxModel",
            "_view_count": null,
            "_view_module": "@jupyter-widgets/controls",
            "_view_module_version": "1.5.0",
            "_view_name": "HBoxView",
            "box_style": "",
            "children": [
              "IPY_MODEL_23750eb858484cecbbe36513d151837d",
              "IPY_MODEL_674b0c9f0c574289ae7c6cecbc1b5641",
              "IPY_MODEL_72cb27b107974abfb47f83301b8a8e4b"
            ],
            "layout": "IPY_MODEL_7a63261b000445f3b08ea5abcdf01b35"
          }
        },
        "23750eb858484cecbbe36513d151837d": {
          "model_module": "@jupyter-widgets/controls",
          "model_name": "HTMLModel",
          "model_module_version": "1.5.0",
          "state": {
            "_dom_classes": [],
            "_model_module": "@jupyter-widgets/controls",
            "_model_module_version": "1.5.0",
            "_model_name": "HTMLModel",
            "_view_count": null,
            "_view_module": "@jupyter-widgets/controls",
            "_view_module_version": "1.5.0",
            "_view_name": "HTMLView",
            "description": "",
            "description_tooltip": null,
            "layout": "IPY_MODEL_94a8f0bf69b545e3933500382ac25930",
            "placeholder": "​",
            "style": "IPY_MODEL_7753650c423d47b887e949029100e46b",
            "value": "tokenizer.json: 100%"
          }
        },
        "674b0c9f0c574289ae7c6cecbc1b5641": {
          "model_module": "@jupyter-widgets/controls",
          "model_name": "FloatProgressModel",
          "model_module_version": "1.5.0",
          "state": {
            "_dom_classes": [],
            "_model_module": "@jupyter-widgets/controls",
            "_model_module_version": "1.5.0",
            "_model_name": "FloatProgressModel",
            "_view_count": null,
            "_view_module": "@jupyter-widgets/controls",
            "_view_module_version": "1.5.0",
            "_view_name": "ProgressView",
            "bar_style": "success",
            "description": "",
            "description_tooltip": null,
            "layout": "IPY_MODEL_438cd03168884073b30f9c421bb58983",
            "max": 435797,
            "min": 0,
            "orientation": "horizontal",
            "style": "IPY_MODEL_bf6362d415be48c09dcedda09fd8bab9",
            "value": 435797
          }
        },
        "72cb27b107974abfb47f83301b8a8e4b": {
          "model_module": "@jupyter-widgets/controls",
          "model_name": "HTMLModel",
          "model_module_version": "1.5.0",
          "state": {
            "_dom_classes": [],
            "_model_module": "@jupyter-widgets/controls",
            "_model_module_version": "1.5.0",
            "_model_name": "HTMLModel",
            "_view_count": null,
            "_view_module": "@jupyter-widgets/controls",
            "_view_module_version": "1.5.0",
            "_view_name": "HTMLView",
            "description": "",
            "description_tooltip": null,
            "layout": "IPY_MODEL_6907ee954333447a812c84d7dbcb004c",
            "placeholder": "​",
            "style": "IPY_MODEL_66818bc938e04b5aa75aaa5da237b28c",
            "value": " 436k/436k [00:00&lt;00:00, 17.4MB/s]"
          }
        },
        "7a63261b000445f3b08ea5abcdf01b35": {
          "model_module": "@jupyter-widgets/base",
          "model_name": "LayoutModel",
          "model_module_version": "1.2.0",
          "state": {
            "_model_module": "@jupyter-widgets/base",
            "_model_module_version": "1.2.0",
            "_model_name": "LayoutModel",
            "_view_count": null,
            "_view_module": "@jupyter-widgets/base",
            "_view_module_version": "1.2.0",
            "_view_name": "LayoutView",
            "align_content": null,
            "align_items": null,
            "align_self": null,
            "border": null,
            "bottom": null,
            "display": null,
            "flex": null,
            "flex_flow": null,
            "grid_area": null,
            "grid_auto_columns": null,
            "grid_auto_flow": null,
            "grid_auto_rows": null,
            "grid_column": null,
            "grid_gap": null,
            "grid_row": null,
            "grid_template_areas": null,
            "grid_template_columns": null,
            "grid_template_rows": null,
            "height": null,
            "justify_content": null,
            "justify_items": null,
            "left": null,
            "margin": null,
            "max_height": null,
            "max_width": null,
            "min_height": null,
            "min_width": null,
            "object_fit": null,
            "object_position": null,
            "order": null,
            "overflow": null,
            "overflow_x": null,
            "overflow_y": null,
            "padding": null,
            "right": null,
            "top": null,
            "visibility": null,
            "width": null
          }
        },
        "94a8f0bf69b545e3933500382ac25930": {
          "model_module": "@jupyter-widgets/base",
          "model_name": "LayoutModel",
          "model_module_version": "1.2.0",
          "state": {
            "_model_module": "@jupyter-widgets/base",
            "_model_module_version": "1.2.0",
            "_model_name": "LayoutModel",
            "_view_count": null,
            "_view_module": "@jupyter-widgets/base",
            "_view_module_version": "1.2.0",
            "_view_name": "LayoutView",
            "align_content": null,
            "align_items": null,
            "align_self": null,
            "border": null,
            "bottom": null,
            "display": null,
            "flex": null,
            "flex_flow": null,
            "grid_area": null,
            "grid_auto_columns": null,
            "grid_auto_flow": null,
            "grid_auto_rows": null,
            "grid_column": null,
            "grid_gap": null,
            "grid_row": null,
            "grid_template_areas": null,
            "grid_template_columns": null,
            "grid_template_rows": null,
            "height": null,
            "justify_content": null,
            "justify_items": null,
            "left": null,
            "margin": null,
            "max_height": null,
            "max_width": null,
            "min_height": null,
            "min_width": null,
            "object_fit": null,
            "object_position": null,
            "order": null,
            "overflow": null,
            "overflow_x": null,
            "overflow_y": null,
            "padding": null,
            "right": null,
            "top": null,
            "visibility": null,
            "width": null
          }
        },
        "7753650c423d47b887e949029100e46b": {
          "model_module": "@jupyter-widgets/controls",
          "model_name": "DescriptionStyleModel",
          "model_module_version": "1.5.0",
          "state": {
            "_model_module": "@jupyter-widgets/controls",
            "_model_module_version": "1.5.0",
            "_model_name": "DescriptionStyleModel",
            "_view_count": null,
            "_view_module": "@jupyter-widgets/base",
            "_view_module_version": "1.2.0",
            "_view_name": "StyleView",
            "description_width": ""
          }
        },
        "438cd03168884073b30f9c421bb58983": {
          "model_module": "@jupyter-widgets/base",
          "model_name": "LayoutModel",
          "model_module_version": "1.2.0",
          "state": {
            "_model_module": "@jupyter-widgets/base",
            "_model_module_version": "1.2.0",
            "_model_name": "LayoutModel",
            "_view_count": null,
            "_view_module": "@jupyter-widgets/base",
            "_view_module_version": "1.2.0",
            "_view_name": "LayoutView",
            "align_content": null,
            "align_items": null,
            "align_self": null,
            "border": null,
            "bottom": null,
            "display": null,
            "flex": null,
            "flex_flow": null,
            "grid_area": null,
            "grid_auto_columns": null,
            "grid_auto_flow": null,
            "grid_auto_rows": null,
            "grid_column": null,
            "grid_gap": null,
            "grid_row": null,
            "grid_template_areas": null,
            "grid_template_columns": null,
            "grid_template_rows": null,
            "height": null,
            "justify_content": null,
            "justify_items": null,
            "left": null,
            "margin": null,
            "max_height": null,
            "max_width": null,
            "min_height": null,
            "min_width": null,
            "object_fit": null,
            "object_position": null,
            "order": null,
            "overflow": null,
            "overflow_x": null,
            "overflow_y": null,
            "padding": null,
            "right": null,
            "top": null,
            "visibility": null,
            "width": null
          }
        },
        "bf6362d415be48c09dcedda09fd8bab9": {
          "model_module": "@jupyter-widgets/controls",
          "model_name": "ProgressStyleModel",
          "model_module_version": "1.5.0",
          "state": {
            "_model_module": "@jupyter-widgets/controls",
            "_model_module_version": "1.5.0",
            "_model_name": "ProgressStyleModel",
            "_view_count": null,
            "_view_module": "@jupyter-widgets/base",
            "_view_module_version": "1.2.0",
            "_view_name": "StyleView",
            "bar_color": null,
            "description_width": ""
          }
        },
        "6907ee954333447a812c84d7dbcb004c": {
          "model_module": "@jupyter-widgets/base",
          "model_name": "LayoutModel",
          "model_module_version": "1.2.0",
          "state": {
            "_model_module": "@jupyter-widgets/base",
            "_model_module_version": "1.2.0",
            "_model_name": "LayoutModel",
            "_view_count": null,
            "_view_module": "@jupyter-widgets/base",
            "_view_module_version": "1.2.0",
            "_view_name": "LayoutView",
            "align_content": null,
            "align_items": null,
            "align_self": null,
            "border": null,
            "bottom": null,
            "display": null,
            "flex": null,
            "flex_flow": null,
            "grid_area": null,
            "grid_auto_columns": null,
            "grid_auto_flow": null,
            "grid_auto_rows": null,
            "grid_column": null,
            "grid_gap": null,
            "grid_row": null,
            "grid_template_areas": null,
            "grid_template_columns": null,
            "grid_template_rows": null,
            "height": null,
            "justify_content": null,
            "justify_items": null,
            "left": null,
            "margin": null,
            "max_height": null,
            "max_width": null,
            "min_height": null,
            "min_width": null,
            "object_fit": null,
            "object_position": null,
            "order": null,
            "overflow": null,
            "overflow_x": null,
            "overflow_y": null,
            "padding": null,
            "right": null,
            "top": null,
            "visibility": null,
            "width": null
          }
        },
        "66818bc938e04b5aa75aaa5da237b28c": {
          "model_module": "@jupyter-widgets/controls",
          "model_name": "DescriptionStyleModel",
          "model_module_version": "1.5.0",
          "state": {
            "_model_module": "@jupyter-widgets/controls",
            "_model_module_version": "1.5.0",
            "_model_name": "DescriptionStyleModel",
            "_view_count": null,
            "_view_module": "@jupyter-widgets/base",
            "_view_module_version": "1.2.0",
            "_view_name": "StyleView",
            "description_width": ""
          }
        }
      }
    }
  },
  "cells": [
    {
      "cell_type": "code",
      "execution_count": null,
      "metadata": {
        "id": "LYrzVfod31mg"
      },
      "outputs": [],
      "source": []
    },
    {
      "cell_type": "code",
      "execution_count": null,
      "metadata": {
        "id": "dw-0IVRkNw49"
      },
      "outputs": [],
      "source": [
        "import numpy as np\n",
        "import tensorflow as tf\n",
        "from tensorflow.keras.models import Model\n",
        "from tensorflow.keras.layers import Input, LSTM, Dense, Embedding\n",
        "from tensorflow.keras.preprocessing.text import Tokenizer\n",
        "from tensorflow.keras.preprocessing.sequence import pad_sequences\n",
        "from sklearn.model_selection import train_test_split\n",
        "import pandas as pd"
      ]
    },
    {
      "cell_type": "markdown",
      "source": [
        "# Chargement des données"
      ],
      "metadata": {
        "id": "RVKd0_VE4uVr"
      }
    },
    {
      "cell_type": "code",
      "source": [
        "!ls \"/content/drive/MyDrive/\""
      ],
      "metadata": {
        "colab": {
          "base_uri": "https://localhost:8080/"
        },
        "id": "Y7Fb-oAP5brV",
        "outputId": "3ea7ff0f-cb68-45ba-99cd-d2b58ba2648f"
      },
      "execution_count": null,
      "outputs": [
        {
          "output_type": "stream",
          "name": "stdout",
          "text": [
            "ls: cannot access '/content/drive/MyDrive/': No such file or directory\n"
          ]
        }
      ]
    },
    {
      "cell_type": "code",
      "source": [
        "from google.colab import drive\n",
        "drive.mount('/content/drive/')"
      ],
      "metadata": {
        "colab": {
          "base_uri": "https://localhost:8080/"
        },
        "id": "O1MWEjaP5fE7",
        "outputId": "e4d5ee99-60fb-4ddf-e04d-fbe26d7cf84a"
      },
      "execution_count": null,
      "outputs": [
        {
          "output_type": "stream",
          "name": "stdout",
          "text": [
            "Mounted at /content/drive/\n"
          ]
        }
      ]
    },
    {
      "cell_type": "code",
      "source": [
        "data_path = \"/content/drive/MyDrive/dataset.csv\""
      ],
      "metadata": {
        "id": "EYQ33ReL5uyb"
      },
      "execution_count": null,
      "outputs": []
    },
    {
      "cell_type": "code",
      "source": [
        "data = pd.read_csv(data_path)\n",
        "french_sentences = data[\"Français\"].tolist()\n",
        "ling_sentences = data[\"Lingala\"].tolist()"
      ],
      "metadata": {
        "id": "QwSHMQ8U4U8j"
      },
      "execution_count": null,
      "outputs": []
    },
    {
      "cell_type": "code",
      "source": [
        "data.head()"
      ],
      "metadata": {
        "colab": {
          "base_uri": "https://localhost:8080/",
          "height": 206
        },
        "id": "rikNPT1N4xW6",
        "outputId": "08c90a9b-19d8-4852-dc83-c94983f07b4e"
      },
      "execution_count": null,
      "outputs": [
        {
          "output_type": "execute_result",
          "data": {
            "text/plain": [
              "                                            Français  \\\n",
              "0  Au commencement, Dieu créa les cieux et la terre.   \n",
              "1  Or la terre était informe et vide, et les ténè...   \n",
              "2  Et Dieu dit: Que la lumière soit; et la lumièr...   \n",
              "3  Et Dieu vit que la lumière était bonne; et Die...   \n",
              "4  Et Dieu nomma la lumière, jour; et il nomma le...   \n",
              "\n",
              "                                             Lingala  \n",
              "0     Na ebandeli, Nzambe akelaki Likolo mpe mokili.  \n",
              "1  Mokili ezalaki na lolenge te mpe ezalaki pamba...  \n",
              "2  Mpe Nzambe alobaki : « Tika ete pole ezala ! »...  \n",
              "3  Nzambe amonaki ete pole ezali malamu, akabolak...  \n",
              "4  Nzambe abengaki pole « moyi, » mpe abengaki mo...  "
            ],
            "text/html": [
              "\n",
              "  <div id=\"df-4c5301f8-bf70-4286-a571-0b125e39bf40\" class=\"colab-df-container\">\n",
              "    <div>\n",
              "<style scoped>\n",
              "    .dataframe tbody tr th:only-of-type {\n",
              "        vertical-align: middle;\n",
              "    }\n",
              "\n",
              "    .dataframe tbody tr th {\n",
              "        vertical-align: top;\n",
              "    }\n",
              "\n",
              "    .dataframe thead th {\n",
              "        text-align: right;\n",
              "    }\n",
              "</style>\n",
              "<table border=\"1\" class=\"dataframe\">\n",
              "  <thead>\n",
              "    <tr style=\"text-align: right;\">\n",
              "      <th></th>\n",
              "      <th>Français</th>\n",
              "      <th>Lingala</th>\n",
              "    </tr>\n",
              "  </thead>\n",
              "  <tbody>\n",
              "    <tr>\n",
              "      <th>0</th>\n",
              "      <td>Au commencement, Dieu créa les cieux et la terre.</td>\n",
              "      <td>Na ebandeli, Nzambe akelaki Likolo mpe mokili.</td>\n",
              "    </tr>\n",
              "    <tr>\n",
              "      <th>1</th>\n",
              "      <td>Or la terre était informe et vide, et les ténè...</td>\n",
              "      <td>Mokili ezalaki na lolenge te mpe ezalaki pamba...</td>\n",
              "    </tr>\n",
              "    <tr>\n",
              "      <th>2</th>\n",
              "      <td>Et Dieu dit: Que la lumière soit; et la lumièr...</td>\n",
              "      <td>Mpe Nzambe alobaki : « Tika ete pole ezala ! »...</td>\n",
              "    </tr>\n",
              "    <tr>\n",
              "      <th>3</th>\n",
              "      <td>Et Dieu vit que la lumière était bonne; et Die...</td>\n",
              "      <td>Nzambe amonaki ete pole ezali malamu, akabolak...</td>\n",
              "    </tr>\n",
              "    <tr>\n",
              "      <th>4</th>\n",
              "      <td>Et Dieu nomma la lumière, jour; et il nomma le...</td>\n",
              "      <td>Nzambe abengaki pole « moyi, » mpe abengaki mo...</td>\n",
              "    </tr>\n",
              "  </tbody>\n",
              "</table>\n",
              "</div>\n",
              "    <div class=\"colab-df-buttons\">\n",
              "\n",
              "  <div class=\"colab-df-container\">\n",
              "    <button class=\"colab-df-convert\" onclick=\"convertToInteractive('df-4c5301f8-bf70-4286-a571-0b125e39bf40')\"\n",
              "            title=\"Convert this dataframe to an interactive table.\"\n",
              "            style=\"display:none;\">\n",
              "\n",
              "  <svg xmlns=\"http://www.w3.org/2000/svg\" height=\"24px\" viewBox=\"0 -960 960 960\">\n",
              "    <path d=\"M120-120v-720h720v720H120Zm60-500h600v-160H180v160Zm220 220h160v-160H400v160Zm0 220h160v-160H400v160ZM180-400h160v-160H180v160Zm440 0h160v-160H620v160ZM180-180h160v-160H180v160Zm440 0h160v-160H620v160Z\"/>\n",
              "  </svg>\n",
              "    </button>\n",
              "\n",
              "  <style>\n",
              "    .colab-df-container {\n",
              "      display:flex;\n",
              "      gap: 12px;\n",
              "    }\n",
              "\n",
              "    .colab-df-convert {\n",
              "      background-color: #E8F0FE;\n",
              "      border: none;\n",
              "      border-radius: 50%;\n",
              "      cursor: pointer;\n",
              "      display: none;\n",
              "      fill: #1967D2;\n",
              "      height: 32px;\n",
              "      padding: 0 0 0 0;\n",
              "      width: 32px;\n",
              "    }\n",
              "\n",
              "    .colab-df-convert:hover {\n",
              "      background-color: #E2EBFA;\n",
              "      box-shadow: 0px 1px 2px rgba(60, 64, 67, 0.3), 0px 1px 3px 1px rgba(60, 64, 67, 0.15);\n",
              "      fill: #174EA6;\n",
              "    }\n",
              "\n",
              "    .colab-df-buttons div {\n",
              "      margin-bottom: 4px;\n",
              "    }\n",
              "\n",
              "    [theme=dark] .colab-df-convert {\n",
              "      background-color: #3B4455;\n",
              "      fill: #D2E3FC;\n",
              "    }\n",
              "\n",
              "    [theme=dark] .colab-df-convert:hover {\n",
              "      background-color: #434B5C;\n",
              "      box-shadow: 0px 1px 3px 1px rgba(0, 0, 0, 0.15);\n",
              "      filter: drop-shadow(0px 1px 2px rgba(0, 0, 0, 0.3));\n",
              "      fill: #FFFFFF;\n",
              "    }\n",
              "  </style>\n",
              "\n",
              "    <script>\n",
              "      const buttonEl =\n",
              "        document.querySelector('#df-4c5301f8-bf70-4286-a571-0b125e39bf40 button.colab-df-convert');\n",
              "      buttonEl.style.display =\n",
              "        google.colab.kernel.accessAllowed ? 'block' : 'none';\n",
              "\n",
              "      async function convertToInteractive(key) {\n",
              "        const element = document.querySelector('#df-4c5301f8-bf70-4286-a571-0b125e39bf40');\n",
              "        const dataTable =\n",
              "          await google.colab.kernel.invokeFunction('convertToInteractive',\n",
              "                                                    [key], {});\n",
              "        if (!dataTable) return;\n",
              "\n",
              "        const docLinkHtml = 'Like what you see? Visit the ' +\n",
              "          '<a target=\"_blank\" href=https://colab.research.google.com/notebooks/data_table.ipynb>data table notebook</a>'\n",
              "          + ' to learn more about interactive tables.';\n",
              "        element.innerHTML = '';\n",
              "        dataTable['output_type'] = 'display_data';\n",
              "        await google.colab.output.renderOutput(dataTable, element);\n",
              "        const docLink = document.createElement('div');\n",
              "        docLink.innerHTML = docLinkHtml;\n",
              "        element.appendChild(docLink);\n",
              "      }\n",
              "    </script>\n",
              "  </div>\n",
              "\n",
              "\n",
              "<div id=\"df-946d481c-362d-4786-a8e3-bdf0eefbc97e\">\n",
              "  <button class=\"colab-df-quickchart\" onclick=\"quickchart('df-946d481c-362d-4786-a8e3-bdf0eefbc97e')\"\n",
              "            title=\"Suggest charts\"\n",
              "            style=\"display:none;\">\n",
              "\n",
              "<svg xmlns=\"http://www.w3.org/2000/svg\" height=\"24px\"viewBox=\"0 0 24 24\"\n",
              "     width=\"24px\">\n",
              "    <g>\n",
              "        <path d=\"M19 3H5c-1.1 0-2 .9-2 2v14c0 1.1.9 2 2 2h14c1.1 0 2-.9 2-2V5c0-1.1-.9-2-2-2zM9 17H7v-7h2v7zm4 0h-2V7h2v10zm4 0h-2v-4h2v4z\"/>\n",
              "    </g>\n",
              "</svg>\n",
              "  </button>\n",
              "\n",
              "<style>\n",
              "  .colab-df-quickchart {\n",
              "      --bg-color: #E8F0FE;\n",
              "      --fill-color: #1967D2;\n",
              "      --hover-bg-color: #E2EBFA;\n",
              "      --hover-fill-color: #174EA6;\n",
              "      --disabled-fill-color: #AAA;\n",
              "      --disabled-bg-color: #DDD;\n",
              "  }\n",
              "\n",
              "  [theme=dark] .colab-df-quickchart {\n",
              "      --bg-color: #3B4455;\n",
              "      --fill-color: #D2E3FC;\n",
              "      --hover-bg-color: #434B5C;\n",
              "      --hover-fill-color: #FFFFFF;\n",
              "      --disabled-bg-color: #3B4455;\n",
              "      --disabled-fill-color: #666;\n",
              "  }\n",
              "\n",
              "  .colab-df-quickchart {\n",
              "    background-color: var(--bg-color);\n",
              "    border: none;\n",
              "    border-radius: 50%;\n",
              "    cursor: pointer;\n",
              "    display: none;\n",
              "    fill: var(--fill-color);\n",
              "    height: 32px;\n",
              "    padding: 0;\n",
              "    width: 32px;\n",
              "  }\n",
              "\n",
              "  .colab-df-quickchart:hover {\n",
              "    background-color: var(--hover-bg-color);\n",
              "    box-shadow: 0 1px 2px rgba(60, 64, 67, 0.3), 0 1px 3px 1px rgba(60, 64, 67, 0.15);\n",
              "    fill: var(--button-hover-fill-color);\n",
              "  }\n",
              "\n",
              "  .colab-df-quickchart-complete:disabled,\n",
              "  .colab-df-quickchart-complete:disabled:hover {\n",
              "    background-color: var(--disabled-bg-color);\n",
              "    fill: var(--disabled-fill-color);\n",
              "    box-shadow: none;\n",
              "  }\n",
              "\n",
              "  .colab-df-spinner {\n",
              "    border: 2px solid var(--fill-color);\n",
              "    border-color: transparent;\n",
              "    border-bottom-color: var(--fill-color);\n",
              "    animation:\n",
              "      spin 1s steps(1) infinite;\n",
              "  }\n",
              "\n",
              "  @keyframes spin {\n",
              "    0% {\n",
              "      border-color: transparent;\n",
              "      border-bottom-color: var(--fill-color);\n",
              "      border-left-color: var(--fill-color);\n",
              "    }\n",
              "    20% {\n",
              "      border-color: transparent;\n",
              "      border-left-color: var(--fill-color);\n",
              "      border-top-color: var(--fill-color);\n",
              "    }\n",
              "    30% {\n",
              "      border-color: transparent;\n",
              "      border-left-color: var(--fill-color);\n",
              "      border-top-color: var(--fill-color);\n",
              "      border-right-color: var(--fill-color);\n",
              "    }\n",
              "    40% {\n",
              "      border-color: transparent;\n",
              "      border-right-color: var(--fill-color);\n",
              "      border-top-color: var(--fill-color);\n",
              "    }\n",
              "    60% {\n",
              "      border-color: transparent;\n",
              "      border-right-color: var(--fill-color);\n",
              "    }\n",
              "    80% {\n",
              "      border-color: transparent;\n",
              "      border-right-color: var(--fill-color);\n",
              "      border-bottom-color: var(--fill-color);\n",
              "    }\n",
              "    90% {\n",
              "      border-color: transparent;\n",
              "      border-bottom-color: var(--fill-color);\n",
              "    }\n",
              "  }\n",
              "</style>\n",
              "\n",
              "  <script>\n",
              "    async function quickchart(key) {\n",
              "      const quickchartButtonEl =\n",
              "        document.querySelector('#' + key + ' button');\n",
              "      quickchartButtonEl.disabled = true;  // To prevent multiple clicks.\n",
              "      quickchartButtonEl.classList.add('colab-df-spinner');\n",
              "      try {\n",
              "        const charts = await google.colab.kernel.invokeFunction(\n",
              "            'suggestCharts', [key], {});\n",
              "      } catch (error) {\n",
              "        console.error('Error during call to suggestCharts:', error);\n",
              "      }\n",
              "      quickchartButtonEl.classList.remove('colab-df-spinner');\n",
              "      quickchartButtonEl.classList.add('colab-df-quickchart-complete');\n",
              "    }\n",
              "    (() => {\n",
              "      let quickchartButtonEl =\n",
              "        document.querySelector('#df-946d481c-362d-4786-a8e3-bdf0eefbc97e button');\n",
              "      quickchartButtonEl.style.display =\n",
              "        google.colab.kernel.accessAllowed ? 'block' : 'none';\n",
              "    })();\n",
              "  </script>\n",
              "</div>\n",
              "\n",
              "    </div>\n",
              "  </div>\n"
            ],
            "application/vnd.google.colaboratory.intrinsic+json": {
              "type": "dataframe",
              "variable_name": "data",
              "summary": "{\n  \"name\": \"data\",\n  \"rows\": 41899,\n  \"fields\": [\n    {\n      \"column\": \"Fran\\u00e7ais\",\n      \"properties\": {\n        \"dtype\": \"string\",\n        \"num_unique_values\": 30825,\n        \"samples\": [\n          \"L'\\u00c9ternel parla \\u00e0 Mo\\u00efse, en disant: Je suis l'\\u00c9ternel; dis \\u00e0 Pharaon, roi d'\\u00c9gypte, tout ce que je te dirai.\",\n          \"Pendant tout le temps de son Nazar\\u00e9at, il ne mangera rien de tout ce que la vigne produit, depuis les p\\u00e9pins jusqu'\\u00e0 la peau.\",\n          \"Vous me serez des hommes saints, et vous ne mangerez point de chair d\\u00e9chir\\u00e9e aux champs par les b\\u00eates sauvages, vous la jetterez aux chiens.\"\n        ],\n        \"semantic_type\": \"\",\n        \"description\": \"\"\n      }\n    },\n    {\n      \"column\": \"Lingala\",\n      \"properties\": {\n        \"dtype\": \"string\",\n        \"num_unique_values\": 30700,\n        \"samples\": [\n          \"Boni, moto mwindo akoki solo kobongola poso ya nzoto na ye\\u00a0? Nkoyi ekoki kolongola penza matono ya poso ya nzoto na yango\\u00a0? Bokokoka kosala malamu te, bino bato oyo bomesana kosala mabe.\",\n          \"Boye Davidi mpe Abishayi bakomaki, na butu, na esika oyo basoda bazalaki. Bakutaki Saulo alali pongi na kati-kati ya molako, mpe likonga na ye epikamaki na mabele, na pembeni ya moto na ye. Abineri mpe basoda balalaki zingazinga na ye.\",\n          \"Moyize mpe Nganga-Nzambe Eleazari bazwaki wolo na maboko ya bakonzi ya nkoto ya basoda mpe ya nkama ya basoda mpe bamemaki yango kati na Ndako ya kapo ya Bokutani lokola ekaniseli mpo na bana ya Isalaele liboso ya Yawe.\"\n        ],\n        \"semantic_type\": \"\",\n        \"description\": \"\"\n      }\n    }\n  ]\n}"
            }
          },
          "metadata": {},
          "execution_count": 6
        }
      ]
    },
    {
      "cell_type": "code",
      "source": [
        "data.Français"
      ],
      "metadata": {
        "colab": {
          "base_uri": "https://localhost:8080/"
        },
        "id": "PJoM9koc5-BP",
        "outputId": "a2efabef-e615-4f5b-d79d-edcf35d41261"
      },
      "execution_count": null,
      "outputs": [
        {
          "output_type": "execute_result",
          "data": {
            "text/plain": [
              "0        Au commencement, Dieu créa les cieux et la terre.\n",
              "1        Or la terre était informe et vide, et les ténè...\n",
              "2        Et Dieu dit: Que la lumière soit; et la lumièr...\n",
              "3        Et Dieu vit que la lumière était bonne; et Die...\n",
              "4        Et Dieu nomma la lumière, jour; et il nomma le...\n",
              "                               ...                        \n",
              "41894                                                  NaN\n",
              "41895                                                  NaN\n",
              "41896                                                  NaN\n",
              "41897                                                  NaN\n",
              "41898                                                  NaN\n",
              "Name: Français, Length: 41899, dtype: object"
            ]
          },
          "metadata": {},
          "execution_count": 7
        }
      ]
    },
    {
      "cell_type": "code",
      "source": [
        "data.Lingala"
      ],
      "metadata": {
        "colab": {
          "base_uri": "https://localhost:8080/"
        },
        "id": "vt4vfqs66Glh",
        "outputId": "1541a276-004c-47df-b811-af920319b61e"
      },
      "execution_count": null,
      "outputs": [
        {
          "output_type": "execute_result",
          "data": {
            "text/plain": [
              "0           Na ebandeli, Nzambe akelaki Likolo mpe mokili.\n",
              "1        Mokili ezalaki na lolenge te mpe ezalaki pamba...\n",
              "2        Mpe Nzambe alobaki : « Tika ete pole ezala ! »...\n",
              "3        Nzambe amonaki ete pole ezali malamu, akabolak...\n",
              "4        Nzambe abengaki pole « moyi, » mpe abengaki mo...\n",
              "                               ...                        \n",
              "41894                                                  NaN\n",
              "41895                                                  NaN\n",
              "41896                                                  NaN\n",
              "41897                                                  NaN\n",
              "41898                                                  NaN\n",
              "Name: Lingala, Length: 41899, dtype: object"
            ]
          },
          "metadata": {},
          "execution_count": 8
        }
      ]
    },
    {
      "cell_type": "code",
      "source": [
        "import re"
      ],
      "metadata": {
        "id": "lvuXrKU9S5it"
      },
      "execution_count": null,
      "outputs": []
    },
    {
      "cell_type": "code",
      "execution_count": null,
      "metadata": {
        "id": "OrgzxGiJXfvv"
      },
      "outputs": [],
      "source": [
        "corpus_fr = []\n",
        "for french_sentence in french_sentences:\n",
        "  french_sentence = str(french_sentence).split('nan')[0]\n",
        "  french_sentence = french_sentence.lower()\n",
        "  french_sentence = re.sub(r'[^a-zA-Z0-9\\s]', '', french_sentence)  # Supprime les caractères spéciaux\n",
        "  french_sentence = re.sub(r'\\s+', ' ', french_sentence)  # Supprime les espaces multiples\n",
        "  french_sentence = french_sentence.strip()  # Supprime les espaces en début et fin de phrase\n",
        "  if french_sentence:\n",
        "    corpus_fr.append(french_sentence)"
      ]
    },
    {
      "cell_type": "code",
      "source": [
        "len(corpus_fr), corpus_fr[:10]"
      ],
      "metadata": {
        "colab": {
          "base_uri": "https://localhost:8080/"
        },
        "id": "pkNvXt776K7T",
        "outputId": "1a33eee1-72f0-49cb-d8d7-81ce1038fefa"
      },
      "execution_count": null,
      "outputs": [
        {
          "output_type": "execute_result",
          "data": {
            "text/plain": [
              "(31098,\n",
              " ['au commencement dieu cra les cieux et la terre',\n",
              "  'or la terre tait informe et vide et les tnbres taient la surface de labme et lesprit de dieu se mouvait sur les eaux',\n",
              "  'et dieu dit que la lumire soit et la lumire fut',\n",
              "  'et dieu vit que la lumire tait bonne et dieu spara la lumire davec les tnbres',\n",
              "  'et dieu nomma la lumire jour et il nomma les tnbres nuit et il y eut un soir et il y eut un matin ce fut le premier jour',\n",
              "  'puis dieu dit quil y ait une tendue entre les eaux et quelle spare les eaux davec les eaux',\n",
              "  'et dieu fit ltendue et spara les eaux qui sont audessous de ltendue davec les eaux qui sont audessus de ltendue et cela fut ainsi',\n",
              "  'et dieu nomma ltendue cieux et il y eut un soir et il y eut un matin ce fut le second jour',\n",
              "  'puis dieu dit que les eaux qui sont audessous des cieux se rassemblent en un seul lieu et que le sec paraisse et cela fut ainsi',\n",
              "  'et dieu nomma le sec terre et il nomma lamas des eaux mers et dieu vit que cela tait bon'])"
            ]
          },
          "metadata": {},
          "execution_count": 11
        }
      ]
    },
    {
      "cell_type": "code",
      "source": [
        "data['Français'].describe()"
      ],
      "metadata": {
        "colab": {
          "base_uri": "https://localhost:8080/"
        },
        "id": "LFugjh3E6jXy",
        "outputId": "c8a364a6-fa35-48c7-b1d6-49a709ce2a14"
      },
      "execution_count": null,
      "outputs": [
        {
          "output_type": "execute_result",
          "data": {
            "text/plain": [
              "count                                          31098\n",
              "unique                                         30825\n",
              "top       L'Éternel parla encore à Moïse, en disant:\n",
              "freq                                              22\n",
              "Name: Français, dtype: object"
            ]
          },
          "metadata": {},
          "execution_count": 12
        }
      ]
    },
    {
      "cell_type": "code",
      "source": [
        "# corpus_ln = []\n",
        "# for ln_sentence in ling_sentences:\n",
        "#   ln_sentence = str(ln_sentence).split('nan')[0]\n",
        "#   ln_sentence = ln_sentence.lower()\n",
        "#   if ln_sentence:\n",
        "#     corpus_ln.append(ln_sentence)"
      ],
      "metadata": {
        "id": "6psE91M26qx9"
      },
      "execution_count": null,
      "outputs": []
    },
    {
      "cell_type": "code",
      "source": [
        "import re\n",
        "\n",
        "corpus_ln = []\n",
        "for ln_sentence in ling_sentences:\n",
        "  ln_sentence = str(ln_sentence).split('nan')[0] # supprimer les caractères vides\n",
        "  ln_sentence = ln_sentence.lower() #mettre les caractères en miniscule\n",
        "  ln_sentence = re.sub(r'[^a-zA-Z0-9\\s]', '', ln_sentence)  # Supprime les caractères spéciaux\n",
        "  ln_sentence = re.sub(r'\\s+', ' ', ln_sentence)  # Supprime les espaces multiples\n",
        "  ln_sentence = ln_sentence.strip()  # Supprime les espaces en début et fin de phrase\n",
        "  if ln_sentence:\n",
        "    corpus_ln.append(ln_sentence)"
      ],
      "metadata": {
        "id": "hNKJlEpZQc7s"
      },
      "execution_count": null,
      "outputs": []
    },
    {
      "cell_type": "code",
      "source": [
        "len(corpus_ln), corpus_ln[0]\n",
        "corpus_ln = corpus_ln[:31098]\n",
        "len(corpus_ln)"
      ],
      "metadata": {
        "colab": {
          "base_uri": "https://localhost:8080/"
        },
        "id": "RS8JgeDh4QWp",
        "outputId": "83c82e04-7f4c-40fc-a370-3e3aa5addb49"
      },
      "execution_count": null,
      "outputs": [
        {
          "output_type": "execute_result",
          "data": {
            "text/plain": [
              "31098"
            ]
          },
          "metadata": {},
          "execution_count": 15
        }
      ]
    },
    {
      "cell_type": "code",
      "source": [
        "len(corpus_ln), corpus_ln[:10]"
      ],
      "metadata": {
        "colab": {
          "base_uri": "https://localhost:8080/"
        },
        "id": "QegmBDcV6y1H",
        "outputId": "76960ccb-a37a-4907-b8b5-a2726e1a6c5b"
      },
      "execution_count": null,
      "outputs": [
        {
          "output_type": "execute_result",
          "data": {
            "text/plain": [
              "(31098,\n",
              " ['na ebandeli nzambe akelaki likolo mpe mokili',\n",
              "  'mokili ezalaki na lolenge te mpe ezalaki pamba molili ezalaki na likolo ya mozindo mpe molimo ya nzambe azalaki kopepa na likolo ya mayi',\n",
              "  'mpe nzambe alobaki tika ete pole ezala mpe pole ezalaki',\n",
              "  'nzambe amonaki ete pole ezali malamu akabolaki pole na molili',\n",
              "  'nzambe abengaki pole moyi mpe abengaki molili butu pokwa ezalaki mpe tongo ezalaki yango ezalaki mokolo moko',\n",
              "  'bongo nzambe alobaki tika ete etando ezala kati na mayi mpo na kokabola yango',\n",
              "  'nzambe akelaki etando akabolaki mayi oyo ezalaki na se ya etando na mayi ya likolo yango esalemaki mpe bongo',\n",
              "  'nzambe abengaki etando likolo pokwa ezalaki tongo mpe ezalaki yango ezalaki mokolo ya mibale',\n",
              "  'bongo nzambe alobaki tika ete mayi oyo ezali na se ya likolo esangana esika moko mpo ete mabele ya kokawuka ebima yango esalemaki mpe bongo',\n",
              "  'nzambe abengaki mabele ya kokawuka mokili mpe abengaki mayi oyo esanganaki esika moko ebale monene nzambe amonaki ete ezali malamu'])"
            ]
          },
          "metadata": {},
          "execution_count": 16
        }
      ]
    },
    {
      "cell_type": "markdown",
      "metadata": {
        "id": "ayNqwgDsyfcx"
      },
      "source": [
        "# Tokenization"
      ]
    },
    {
      "cell_type": "code",
      "source": [
        "# Adaptation des tokenizers aux données\n",
        "tokenizer_french = Tokenizer()\n",
        "tokenizer_french.fit_on_texts(corpus_fr)\n",
        "fre_seq = tokenizer_french.texts_to_sequences(corpus_fr)"
      ],
      "metadata": {
        "id": "glACkGiY69vC"
      },
      "execution_count": null,
      "outputs": []
    },
    {
      "cell_type": "code",
      "source": [
        "tokenizer_ln = Tokenizer()\n",
        "tokenizer_ln.fit_on_texts(corpus_ln)\n",
        "ln_seq = tokenizer_ln.texts_to_sequences(corpus_ln)"
      ],
      "metadata": {
        "id": "OE9DqADl7bqa"
      },
      "execution_count": null,
      "outputs": []
    },
    {
      "cell_type": "code",
      "source": [
        "# Utilisation du nombre de mots dans le tokenizer pour définir l'embedding\n",
        "vocab_size_fr = len(tokenizer_french.word_index) + 1\n",
        "vocab_size_ln = len(tokenizer_ln.word_index) + 1\n"
      ],
      "metadata": {
        "id": "KNeGJZt77lRc"
      },
      "execution_count": null,
      "outputs": []
    },
    {
      "cell_type": "code",
      "source": [
        "# vocab_size_fr = 12000\n",
        "# vocab_size_ln = 12000"
      ],
      "metadata": {
        "id": "DkMaG6Jp9Zc-"
      },
      "execution_count": null,
      "outputs": []
    },
    {
      "cell_type": "code",
      "source": [
        "vocab_size_fr, vocab_size_ln"
      ],
      "metadata": {
        "colab": {
          "base_uri": "https://localhost:8080/"
        },
        "id": "2wgXFkt-7sY5",
        "outputId": "3adfee33-da34-4da5-c64e-f6fd08d31929"
      },
      "execution_count": null,
      "outputs": [
        {
          "output_type": "execute_result",
          "data": {
            "text/plain": [
              "(24212, 14065)"
            ]
          },
          "metadata": {},
          "execution_count": 21
        }
      ]
    },
    {
      "cell_type": "code",
      "source": [
        "# Padding\n",
        "max_length = max(len(seq) for seq in fre_seq + ln_seq)"
      ],
      "metadata": {
        "id": "cKHIngBG7wkR"
      },
      "execution_count": null,
      "outputs": []
    },
    {
      "cell_type": "code",
      "source": [
        "max_length"
      ],
      "metadata": {
        "colab": {
          "base_uri": "https://localhost:8080/"
        },
        "id": "T1zOh36Y73LR",
        "outputId": "d502a76d-1c60-4c74-ed98-dc272fc70f8d"
      },
      "execution_count": null,
      "outputs": [
        {
          "output_type": "execute_result",
          "data": {
            "text/plain": [
              "98"
            ]
          },
          "metadata": {},
          "execution_count": 23
        }
      ]
    },
    {
      "cell_type": "code",
      "source": [
        "fr_seq_padded = pad_sequences(fre_seq, maxlen=max_length, padding='post')\n",
        "ln_seq_padded = pad_sequences(ln_seq, maxlen=max_length, padding='post')"
      ],
      "metadata": {
        "id": "1G_GA7TJ74-y"
      },
      "execution_count": null,
      "outputs": []
    },
    {
      "cell_type": "code",
      "source": [
        "ln_seq_padded, len(ln_seq_padded)"
      ],
      "metadata": {
        "id": "UZluwLpI79X4",
        "colab": {
          "base_uri": "https://localhost:8080/"
        },
        "outputId": "39aa430f-2fb3-42c8-bd66-10c4850ccdc1"
      },
      "execution_count": null,
      "outputs": [
        {
          "output_type": "execute_result",
          "data": {
            "text/plain": [
              "(array([[   1,  536,   20, ...,    0,    0,    0],\n",
              "        [  40,   43,    1, ...,    0,    0,    0],\n",
              "        [   3,   20,   33, ...,    0,    0,    0],\n",
              "        ...,\n",
              "        [  37, 8540,    1, ...,    0,    0,    0],\n",
              "        [  37,  387,  648, ...,    0,    0,    0],\n",
              "        [  83,    1,    5, ...,    0,    0,    0]], dtype=int32),\n",
              " 31098)"
            ]
          },
          "metadata": {},
          "execution_count": 25
        }
      ]
    },
    {
      "cell_type": "code",
      "source": [
        "tokenizer_ln, tokenizer_french"
      ],
      "metadata": {
        "colab": {
          "base_uri": "https://localhost:8080/"
        },
        "id": "z5CCBxE48bK6",
        "outputId": "c15eb997-d40a-47ca-c7f5-3da7a1a0de05"
      },
      "execution_count": null,
      "outputs": [
        {
          "output_type": "execute_result",
          "data": {
            "text/plain": [
              "(<keras.src.preprocessing.text.Tokenizer at 0x7c5cba7e5ff0>,\n",
              " <keras.src.preprocessing.text.Tokenizer at 0x7c5cba7e6860>)"
            ]
          },
          "metadata": {},
          "execution_count": 26
        }
      ]
    },
    {
      "cell_type": "code",
      "source": [
        "embedding_dim = 256\n",
        "units = 512"
      ],
      "metadata": {
        "id": "mhCGQGUj9B9m"
      },
      "execution_count": null,
      "outputs": []
    },
    {
      "cell_type": "code",
      "source": [
        "# !pip install git+https://github.com/locuslab/quaternionic-rnn.git\n",
        "# from quaternionic import QRNN"
      ],
      "metadata": {
        "id": "Di89s4hHUa21"
      },
      "execution_count": null,
      "outputs": []
    },
    {
      "cell_type": "code",
      "source": [
        "# Encoder\n",
        "encoder_inputs = Input(shape=(max_length,))\n",
        "enc_emb = Embedding(input_dim=vocab_size_fr, output_dim=embedding_dim)(encoder_inputs)\n",
        "encoder_lstm = LSTM(units, return_state=True)\n",
        "encoder_lstm = LSTM(units, return_state=True)\n",
        "# encoder_qrnn = LSTM(enc_emb.weight.size(1), n_hid, n_layers=n_layers, dropout=p_enc, bidirectional=True)\n",
        "# out_enc = Linear(2*n_hid, enc_emb.weight.size(1), bias=False)\n",
        "encoder_outputs, state_h, state_c = encoder_lstm(enc_emb)\n",
        "encoder_states = [state_h, state_c]"
      ],
      "metadata": {
        "id": "sc0cpCo_9S_Z"
      },
      "execution_count": null,
      "outputs": []
    },
    {
      "cell_type": "code",
      "source": [
        "# Decoder\n",
        "decoder_inputs = Input(shape=(None,))\n",
        "dec_emb_layer = Embedding(input_dim=vocab_size_fr, output_dim=embedding_dim)\n",
        "dec_emb = dec_emb_layer(decoder_inputs)\n",
        "decoder_lstm = LSTM(units, return_sequences=True, return_state=True)\n",
        "# decoder_qrnn = QRNN(emb_sz + 2*n_hid, emb_dec.weight.size(1), n_layers=n_layers, dropout=p_dec)/\n",
        "decoder_outputs, _, _ = decoder_lstm(dec_emb, initial_state=encoder_states)\n",
        "decoder_dense = Dense(vocab_size_ln, activation='softmax')\n",
        "decoder_dense = Dense(vocab_size_ln, activation='relu')\n",
        "decoder_dense = Dense(vocab_size_ln, activation='sigmoid')\n",
        "decoder_outputs = decoder_dense(decoder_outputs)"
      ],
      "metadata": {
        "id": "by3mRY629lOE"
      },
      "execution_count": null,
      "outputs": []
    },
    {
      "cell_type": "code",
      "source": [
        "# Model\n",
        "model = Model([encoder_inputs, decoder_inputs], decoder_outputs)\n",
        "# model = Seq2SeqQRNN([encoder_inputs, decoder_inputs], decoder_outputs)\n",
        "model.compile(optimizer='adam', loss='sparse_categorical_crossentropy',metrics=['accuracy'])"
      ],
      "metadata": {
        "id": "Tfn6E1bU9qSh"
      },
      "execution_count": null,
      "outputs": []
    },
    {
      "cell_type": "code",
      "source": [
        "np.power(vocab_size_fr, 1/4)"
      ],
      "metadata": {
        "colab": {
          "base_uri": "https://localhost:8080/"
        },
        "id": "WEBelICA-CZk",
        "outputId": "429dea27-8597-40c2-c562-d167fdf55322"
      },
      "execution_count": null,
      "outputs": [
        {
          "output_type": "execute_result",
          "data": {
            "text/plain": [
              "12.474055336644913"
            ]
          },
          "metadata": {},
          "execution_count": 37
        }
      ]
    },
    {
      "cell_type": "code",
      "source": [
        "model.summary()"
      ],
      "metadata": {
        "colab": {
          "base_uri": "https://localhost:8080/"
        },
        "id": "lzSSc4zC-EpN",
        "outputId": "bb97e47a-0dd0-4ae4-ec0a-f2d719834f9c"
      },
      "execution_count": null,
      "outputs": [
        {
          "output_type": "stream",
          "name": "stdout",
          "text": [
            "Model: \"model\"\n",
            "__________________________________________________________________________________________________\n",
            " Layer (type)                Output Shape                 Param #   Connected to                  \n",
            "==================================================================================================\n",
            " input_5 (InputLayer)        [(None, 98)]                 0         []                            \n",
            "                                                                                                  \n",
            " input_6 (InputLayer)        [(None, None)]               0         []                            \n",
            "                                                                                                  \n",
            " embedding_4 (Embedding)     (None, 98, 256)              6198272   ['input_5[0][0]']             \n",
            "                                                                                                  \n",
            " embedding_5 (Embedding)     (None, None, 256)            6198272   ['input_6[0][0]']             \n",
            "                                                                                                  \n",
            " lstm_9 (LSTM)               [(None, 512),                1574912   ['embedding_4[0][0]']         \n",
            "                              (None, 512),                                                        \n",
            "                              (None, 512)]                                                        \n",
            "                                                                                                  \n",
            " lstm_10 (LSTM)              [(None, None, 512),          1574912   ['embedding_5[0][0]',         \n",
            "                              (None, 512),                           'lstm_9[0][1]',              \n",
            "                              (None, 512)]                           'lstm_9[0][2]']              \n",
            "                                                                                                  \n",
            " dense_2 (Dense)             (None, None, 14065)          7215345   ['lstm_10[0][0]']             \n",
            "                                                                                                  \n",
            "==================================================================================================\n",
            "Total params: 22761713 (86.83 MB)\n",
            "Trainable params: 22761713 (86.83 MB)\n",
            "Non-trainable params: 0 (0.00 Byte)\n",
            "__________________________________________________________________________________________________\n"
          ]
        }
      ]
    },
    {
      "cell_type": "code",
      "source": [
        "X_train, X_val, y_train, y_val = train_test_split(fr_seq_padded, ln_seq_padded, test_size=0.5, shuffle=True)"
      ],
      "metadata": {
        "id": "7XAVvxEc3jlR"
      },
      "execution_count": null,
      "outputs": []
    },
    {
      "cell_type": "code",
      "source": [
        "from sklearn.model_selection import train_test_split"
      ],
      "metadata": {
        "id": "xhmvNiX1_Q6B"
      },
      "execution_count": null,
      "outputs": []
    },
    {
      "cell_type": "code",
      "source": [
        "print(fr_seq_padded.shape)\n",
        "print(ln_seq_padded.shape)"
      ],
      "metadata": {
        "colab": {
          "base_uri": "https://localhost:8080/"
        },
        "id": "TKxYZeEl_UCt",
        "outputId": "93bb9b30-6d18-40ae-a5bc-44a903f78a61"
      },
      "execution_count": null,
      "outputs": [
        {
          "output_type": "stream",
          "name": "stdout",
          "text": [
            "(31098, 98)\n",
            "(31098, 98)\n"
          ]
        }
      ]
    },
    {
      "cell_type": "code",
      "source": [
        "# Ensure both arrays have the same number of samples\n",
        "fr_seq_padded = fr_seq_padded[:ln_seq_padded.shape[0]]"
      ],
      "metadata": {
        "id": "E4BBmaY-_XZH"
      },
      "execution_count": null,
      "outputs": []
    },
    {
      "cell_type": "code",
      "source": [
        "from tensorflow.keras.optimizers.legacy import Adam"
      ],
      "metadata": {
        "id": "0K-90D532FA4"
      },
      "execution_count": null,
      "outputs": []
    },
    {
      "cell_type": "code",
      "source": [
        "# X_train, X_val, y_train, y_val = train_test_split(fr_seq_padded, ln_seq_padded, test_size=0.2, shuffle=True)"
      ],
      "metadata": {
        "id": "HGBl3Zg2-Pwv"
      },
      "execution_count": null,
      "outputs": []
    },
    {
      "cell_type": "code",
      "source": [
        "h = model.fit([X_train, X_train], y_train, validation_data=([X_val, X_val], y_val), epochs=30, batch_size=1024)"
      ],
      "metadata": {
        "colab": {
          "base_uri": "https://localhost:8080/"
        },
        "id": "iC3OBJbJ-U3O",
        "outputId": "e150fe02-12d1-40ce-dfbd-ec598e8ff160"
      },
      "execution_count": null,
      "outputs": [
        {
          "output_type": "stream",
          "name": "stdout",
          "text": [
            "Epoch 1/30\n",
            "16/16 [==============================] - 89s 5s/step - loss: 5.1158 - accuracy: 0.7049 - val_loss: 2.0209 - val_accuracy: 0.7529\n",
            "Epoch 2/30\n",
            "16/16 [==============================] - 63s 4s/step - loss: 3.7621 - accuracy: 0.6052 - val_loss: 4.5221 - val_accuracy: 0.5730\n",
            "Epoch 3/30\n",
            "16/16 [==============================] - 81s 5s/step - loss: 1.8754 - accuracy: 0.7425 - val_loss: 1.6761 - val_accuracy: 0.7533\n",
            "Epoch 4/30\n",
            "16/16 [==============================] - 63s 4s/step - loss: 1.6480 - accuracy: 0.7599 - val_loss: 1.6596 - val_accuracy: 0.7614\n",
            "Epoch 5/30\n",
            "16/16 [==============================] - 63s 4s/step - loss: 1.6381 - accuracy: 0.7635 - val_loss: 1.6559 - val_accuracy: 0.7619\n",
            "Epoch 6/30\n",
            "16/16 [==============================] - 82s 5s/step - loss: 1.6324 - accuracy: 0.7635 - val_loss: 1.6529 - val_accuracy: 0.7620\n",
            "Epoch 7/30\n",
            "16/16 [==============================] - 82s 5s/step - loss: 1.6283 - accuracy: 0.7636 - val_loss: 1.6512 - val_accuracy: 0.7620\n",
            "Epoch 8/30\n",
            "16/16 [==============================] - 82s 5s/step - loss: 1.6247 - accuracy: 0.7637 - val_loss: 1.6500 - val_accuracy: 0.7621\n",
            "Epoch 9/30\n",
            "16/16 [==============================] - 82s 5s/step - loss: 1.6219 - accuracy: 0.7638 - val_loss: 1.6479 - val_accuracy: 0.7621\n",
            "Epoch 10/30\n",
            "16/16 [==============================] - 82s 5s/step - loss: 1.6187 - accuracy: 0.7639 - val_loss: 1.6525 - val_accuracy: 0.7620\n",
            "Epoch 11/30\n",
            "16/16 [==============================] - 63s 4s/step - loss: 1.6169 - accuracy: 0.7640 - val_loss: 1.6445 - val_accuracy: 0.7622\n",
            "Epoch 12/30\n",
            "16/16 [==============================] - 81s 5s/step - loss: 1.6144 - accuracy: 0.7640 - val_loss: 1.6454 - val_accuracy: 0.7621\n",
            "Epoch 13/30\n",
            "16/16 [==============================] - 63s 4s/step - loss: 1.6099 - accuracy: 0.7642 - val_loss: 1.6433 - val_accuracy: 0.7623\n",
            "Epoch 14/30\n",
            "16/16 [==============================] - 81s 5s/step - loss: 1.6058 - accuracy: 0.7646 - val_loss: 1.6527 - val_accuracy: 0.7623\n",
            "Epoch 15/30\n",
            "16/16 [==============================] - 82s 5s/step - loss: 1.6040 - accuracy: 0.7646 - val_loss: 1.6419 - val_accuracy: 0.7625\n",
            "Epoch 16/30\n",
            "16/16 [==============================] - 82s 5s/step - loss: 1.5965 - accuracy: 0.7651 - val_loss: 1.6530 - val_accuracy: 0.7614\n",
            "Epoch 17/30\n",
            "16/16 [==============================] - 82s 5s/step - loss: 1.5931 - accuracy: 0.7654 - val_loss: 1.6454 - val_accuracy: 0.7623\n",
            "Epoch 18/30\n",
            "16/16 [==============================] - 63s 4s/step - loss: 1.5863 - accuracy: 0.7659 - val_loss: 1.6467 - val_accuracy: 0.7620\n",
            "Epoch 19/30\n",
            "16/16 [==============================] - 63s 4s/step - loss: 1.8182 - accuracy: 0.7604 - val_loss: 1.6734 - val_accuracy: 0.7617\n",
            "Epoch 20/30\n",
            "16/16 [==============================] - 63s 4s/step - loss: 1.6035 - accuracy: 0.7654 - val_loss: 1.6476 - val_accuracy: 0.7615\n",
            "Epoch 21/30\n",
            "16/16 [==============================] - 63s 4s/step - loss: 1.5875 - accuracy: 0.7665 - val_loss: 1.6561 - val_accuracy: 0.7580\n",
            "Epoch 22/30\n",
            "16/16 [==============================] - 63s 4s/step - loss: 1.5790 - accuracy: 0.7669 - val_loss: 1.6582 - val_accuracy: 0.7575\n",
            "Epoch 23/30\n",
            "16/16 [==============================] - 82s 5s/step - loss: 1.5750 - accuracy: 0.7672 - val_loss: 1.6619 - val_accuracy: 0.7575\n",
            "Epoch 24/30\n",
            "16/16 [==============================] - 64s 4s/step - loss: 1.5658 - accuracy: 0.7677 - val_loss: 1.6697 - val_accuracy: 0.7552\n",
            "Epoch 25/30\n",
            "16/16 [==============================] - 82s 5s/step - loss: 1.5642 - accuracy: 0.7676 - val_loss: 1.6721 - val_accuracy: 0.7564\n",
            "Epoch 26/30\n",
            "16/16 [==============================] - 64s 4s/step - loss: 1.5538 - accuracy: 0.7682 - val_loss: 1.6874 - val_accuracy: 0.7516\n",
            "Epoch 27/30\n",
            "16/16 [==============================] - 63s 4s/step - loss: 1.5584 - accuracy: 0.7680 - val_loss: 1.6731 - val_accuracy: 0.7593\n",
            "Epoch 28/30\n",
            "16/16 [==============================] - 63s 4s/step - loss: 1.5485 - accuracy: 0.7682 - val_loss: 1.6840 - val_accuracy: 0.7573\n",
            "Epoch 29/30\n",
            "16/16 [==============================] - 82s 5s/step - loss: 1.5443 - accuracy: 0.7684 - val_loss: 1.6805 - val_accuracy: 0.7553\n",
            "Epoch 30/30\n",
            "16/16 [==============================] - 82s 5s/step - loss: 1.5417 - accuracy: 0.7686 - val_loss: 1.7015 - val_accuracy: 0.7600\n"
          ]
        }
      ]
    },
    {
      "cell_type": "code",
      "source": [
        "import matplotlib.pyplot as plt\n",
        "\n",
        "def plot_graphs(history, string):\n",
        "    plt.plot(history.history[string])\n",
        "    plt.plot(history.history['val_'+string])\n",
        "    plt.xlabel(\"Epochs\")\n",
        "    plt.ylabel(string)\n",
        "    plt.legend([string, 'val '+string])\n",
        "    plt.show()\n",
        "\n",
        "plot_graphs(h, 'accuracy')\n",
        "plot_graphs(h, 'loss')"
      ],
      "metadata": {
        "colab": {
          "base_uri": "https://localhost:8080/",
          "height": 881
        },
        "id": "F8_Auf6y413J",
        "outputId": "5deb2016-ad56-4d2b-88c1-37d1ed6a6d11"
      },
      "execution_count": null,
      "outputs": [
        {
          "output_type": "display_data",
          "data": {
            "text/plain": [
              "<Figure size 640x480 with 1 Axes>"
            ],
            "image/png": "[encoded data removed]"
          },
          "metadata": {}
        },
        {
          "output_type": "display_data",
          "data": {
            "text/plain": [
              "<Figure size 640x480 with 1 Axes>"
            ],
            "image/png": "[encoded data removed]"
          },
          "metadata": {}
        }
      ]
    },
    {
      "cell_type": "markdown",
      "source": [
        "# Conversion de son en text\n",
        "\n",
        "## Utilisation de whisper"
      ],
      "metadata": {
        "id": "GD_UKxTqVaE0"
      }
    },
    {
      "cell_type": "code",
      "source": [
        "# !pip install torch torchvision torchaudio --index-url https://download.pytorch.org/whl/cu118"
      ],
      "metadata": {
        "id": "iQ3iIpnH46DE"
      },
      "execution_count": null,
      "outputs": []
    },
    {
      "cell_type": "code",
      "source": [
        "import os\n",
        "for dirname, _, filenames in os.walk('/kaggle/input'):\n",
        "    for filename in filenames:\n",
        "        print(os.path.join(dirname, filename))\n",
        "\n",
        "# You can write up to 20GB to the current directory (/kaggle/working/) that gets preserved as output when you create a version using \"Save & Run All\"\n",
        "# You can also write temporary files to /kaggle/temp/, but they won't be saved outside of the current session"
      ],
      "metadata": {
        "id": "MSFhD2IJaLZf"
      },
      "execution_count": null,
      "outputs": []
    },
    {
      "cell_type": "markdown",
      "source": [
        "# importe whisper"
      ],
      "metadata": {
        "id": "3tUK0-_4RiAe"
      }
    },
    {
      "cell_type": "code",
      "source": [
        "!pip install git+https://github.com/openai/whisper.git"
      ],
      "metadata": {
        "id": "1QVkA-zLaLTE"
      },
      "execution_count": null,
      "outputs": []
    },
    {
      "cell_type": "code",
      "source": [],
      "metadata": {
        "id": "MdxVsB08mbR5"
      },
      "execution_count": null,
      "outputs": []
    },
    {
      "cell_type": "code",
      "source": [
        "import whisper"
      ],
      "metadata": {
        "id": "ysL8pG7EaLM_"
      },
      "execution_count": null,
      "outputs": []
    },
    {
      "cell_type": "markdown",
      "source": [
        "# Base Model"
      ],
      "metadata": {
        "id": "INl-jgj9Rwh0"
      }
    },
    {
      "cell_type": "code",
      "source": [
        "# !pip uninstall -y torch torchvision torchaudio\n",
        "# following command was generated using https://pytorch.org/get-started/locally/#with-cuda-1\n",
        "# !pip install torch torchvision torchaudio --index-url https://download.pytorch.org/whl/cu118"
      ],
      "metadata": {
        "id": "hweYU5H1RtpC"
      },
      "execution_count": null,
      "outputs": []
    },
    {
      "cell_type": "code",
      "source": [
        "%%time\n",
        "\n",
        "model_whisper = whisper.load_model('base')\n",
        "\n",
        "out = model_whisper.transcribe('/content/videoplayback (1).weba')\n",
        "out['text']"
      ],
      "metadata": {
        "id": "vz0t8K2XRtbl"
      },
      "execution_count": null,
      "outputs": []
    },
    {
      "cell_type": "markdown",
      "source": [
        "# Medium model"
      ],
      "metadata": {
        "id": "wCHE4GMDR3mt"
      }
    },
    {
      "cell_type": "code",
      "source": [
        "%%time\n",
        "model_whisper = whisper.load_model('medium')\n",
        "out = model_whisper.transcribe('/content/videoplayback (1).weba')\n",
        "out['text']"
      ],
      "metadata": {
        "id": "zLwqKpQKaLFA"
      },
      "execution_count": null,
      "outputs": []
    },
    {
      "cell_type": "code",
      "source": [
        "# input_sentence = out['text']\n",
        "input_sentence = 'au commencement etait la parole'"
      ],
      "metadata": {
        "id": "N9XJDRo3aK5a"
      },
      "execution_count": null,
      "outputs": []
    },
    {
      "cell_type": "code",
      "source": [
        "input_sentence"
      ],
      "metadata": {
        "colab": {
          "base_uri": "https://localhost:8080/",
          "height": 36
        },
        "id": "w579XvSfnQMP",
        "outputId": "c492f846-cf1f-4747-d788-4968e0969023"
      },
      "execution_count": null,
      "outputs": [
        {
          "output_type": "execute_result",
          "data": {
            "text/plain": [
              "'au commencement etait la parole'"
            ],
            "application/vnd.google.colaboratory.intrinsic+json": {
              "type": "string"
            }
          },
          "metadata": {},
          "execution_count": 48
        }
      ]
    },
    {
      "cell_type": "code",
      "source": [
        "X_train.shape"
      ],
      "metadata": {
        "colab": {
          "base_uri": "https://localhost:8080/"
        },
        "id": "XwncOcM3onO6",
        "outputId": "db0de766-c647-4be7-c198-8202995ad9ea"
      },
      "execution_count": null,
      "outputs": [
        {
          "output_type": "execute_result",
          "data": {
            "text/plain": [
              "(15549, 98)"
            ]
          },
          "metadata": {},
          "execution_count": 49
        }
      ]
    },
    {
      "cell_type": "code",
      "source": [
        "prompt = \"dieu est amour\""
      ],
      "metadata": {
        "id": "14bEP-QloJEr"
      },
      "execution_count": null,
      "outputs": []
    },
    {
      "cell_type": "code",
      "source": [
        "prompt_seq = tokenizer_french.texts_to_sequences([prompt])\n",
        "prompt_seq[0]"
      ],
      "metadata": {
        "colab": {
          "base_uri": "https://localhost:8080/"
        },
        "id": "almgGK3fo4IW",
        "outputId": "5938471a-9ae7-4aa3-c65b-695aa553e856"
      },
      "execution_count": null,
      "outputs": [
        {
          "output_type": "execute_result",
          "data": {
            "text/plain": [
              "[26, 22, 2156]"
            ]
          },
          "metadata": {},
          "execution_count": 51
        }
      ]
    },
    {
      "cell_type": "code",
      "source": [
        "prompt_x = pad_sequences([prompt_seq[0]], maxlen=max_length, padding='pre')"
      ],
      "metadata": {
        "id": "oIfPtocXo4FH"
      },
      "execution_count": null,
      "outputs": []
    },
    {
      "cell_type": "code",
      "source": [
        "prompt_x.shape"
      ],
      "metadata": {
        "colab": {
          "base_uri": "https://localhost:8080/"
        },
        "id": "NMCUiROzp577",
        "outputId": "1eb532da-31b0-4165-d7ba-f39ba6af0a10"
      },
      "execution_count": null,
      "outputs": [
        {
          "output_type": "execute_result",
          "data": {
            "text/plain": [
              "(1, 98)"
            ]
          },
          "metadata": {},
          "execution_count": 53
        }
      ]
    },
    {
      "cell_type": "code",
      "source": [
        "prompt_x"
      ],
      "metadata": {
        "colab": {
          "base_uri": "https://localhost:8080/"
        },
        "id": "xpKL0bdDp5vh",
        "outputId": "4abfab6c-ef88-4b2d-aae9-1be5ae03a99c"
      },
      "execution_count": null,
      "outputs": [
        {
          "output_type": "execute_result",
          "data": {
            "text/plain": [
              "array([[   0,    0,    0,    0,    0,    0,    0,    0,    0,    0,    0,\n",
              "           0,    0,    0,    0,    0,    0,    0,    0,    0,    0,    0,\n",
              "           0,    0,    0,    0,    0,    0,    0,    0,    0,    0,    0,\n",
              "           0,    0,    0,    0,    0,    0,    0,    0,    0,    0,    0,\n",
              "           0,    0,    0,    0,    0,    0,    0,    0,    0,    0,    0,\n",
              "           0,    0,    0,    0,    0,    0,    0,    0,    0,    0,    0,\n",
              "           0,    0,    0,    0,    0,    0,    0,    0,    0,    0,    0,\n",
              "           0,    0,    0,    0,    0,    0,    0,    0,    0,    0,    0,\n",
              "           0,    0,    0,    0,    0,    0,    0,   26,   22, 2156]],\n",
              "      dtype=int32)"
            ]
          },
          "metadata": {},
          "execution_count": 54
        }
      ]
    },
    {
      "cell_type": "code",
      "source": [
        "pred = model.predict([prompt_x, np.zeros((1, max_length))])"
      ],
      "metadata": {
        "colab": {
          "base_uri": "https://localhost:8080/"
        },
        "id": "PLVCHzG5oI6n",
        "outputId": "6d774929-5186-40ed-80d9-63ed265011f5"
      },
      "execution_count": null,
      "outputs": [
        {
          "output_type": "stream",
          "name": "stdout",
          "text": [
            "1/1 [==============================] - 1s 1s/step\n"
          ]
        }
      ]
    },
    {
      "cell_type": "code",
      "source": [
        "pred"
      ],
      "metadata": {
        "colab": {
          "base_uri": "https://localhost:8080/"
        },
        "id": "FU9Bhrz6r6jv",
        "outputId": "81f3ba74-e2cd-4c04-b807-257807a6cf9d"
      },
      "execution_count": null,
      "outputs": [
        {
          "output_type": "execute_result",
          "data": {
            "text/plain": [
              "array([[[9.5269400e-01, 9.9876922e-01, 9.9570870e-01, ...,\n",
              "         2.6216337e-02, 5.0340691e-03, 2.6064932e-03],\n",
              "        [9.8015171e-01, 9.9929953e-01, 9.9854600e-01, ...,\n",
              "         1.6432138e-02, 2.2907332e-03, 1.1013058e-03],\n",
              "        [9.8818123e-01, 9.9904877e-01, 9.9824774e-01, ...,\n",
              "         1.3571645e-02, 1.8335747e-03, 8.7897287e-04],\n",
              "        ...,\n",
              "        [9.9999249e-01, 9.5338523e-01, 9.4035691e-01, ...,\n",
              "         2.4329107e-03, 4.0317397e-04, 3.1531844e-04],\n",
              "        [9.9999249e-01, 9.5335662e-01, 9.4021755e-01, ...,\n",
              "         2.4335715e-03, 4.0383462e-04, 3.1596544e-04],\n",
              "        [9.9999249e-01, 9.5322061e-01, 9.3949765e-01, ...,\n",
              "         2.4367513e-03, 4.0720979e-04, 3.1933753e-04]]], dtype=float32)"
            ]
          },
          "metadata": {},
          "execution_count": 56
        }
      ]
    },
    {
      "cell_type": "code",
      "source": [
        "np.argmax(pred)"
      ],
      "metadata": {
        "colab": {
          "base_uri": "https://localhost:8080/"
        },
        "id": "sQawHwCMr6LP",
        "outputId": "60d37fa7-e9f5-4b57-f9a7-5a09215dffe2"
      },
      "execution_count": null,
      "outputs": [
        {
          "output_type": "execute_result",
          "data": {
            "text/plain": [
              "998615"
            ]
          },
          "metadata": {},
          "execution_count": 57
        }
      ]
    },
    {
      "cell_type": "code",
      "source": [
        "from transformers import AutoTokenizer\n",
        "\n",
        "tokenizer = AutoTokenizer.from_pretrained(\"bert-base-cased\")"
      ],
      "metadata": {
        "colab": {
          "base_uri": "https://localhost:8080/",
          "height": 276,
          "referenced_widgets": [
            "956ae0db9d1447a9aeb07ea376a73e43",
            "a82deace05c24055997bb053900e78db",
            "244ddead1f1e42bda4f836c7c5f879f0",
            "7c622d7de23f4cca9433b1b0a336e665",
            "e81eca75627a4276b2e145de31ef569d",
            "39259afb2bdc49aa9dbef4d109e36414",
            "f4cd496fd46d45e7b68d362a76ef7874",
            "03fea6225efc43b3919a7389f8856f27",
            "5b1ef1c83a7a4d50b87692b0c5f9b5fd",
            "2edb4f9c956a49809c162f71ea1d5484",
            "0d5d12a2c5f8423bbb304ae441f0fa80",
            "98eeefd3d6c0454babcbbd130aea659a",
            "714dcd0defd843e4830516d01f06d5c1",
            "44657eca5e424febb0c03aa283d551de",
            "f89a23e04615408aa07fd482c0fd111a",
            "6fb1439537ec47a0a97f5469d7975ca1",
            "93f64f33ec6249d5a795d7a8dd879d6c",
            "91197fdf61964c4bb31be2bf984c9371",
            "e50b3594f9f141879fcd5588e56225bb",
            "80846a44fef6488cbd4b0ca4dba21a57",
            "35b32a35e0f1467ba04b8dc314538e5d",
            "1a4ad754acf14affb9c6ed8d30f20f2e",
            "2af76f21895141f4b92db267e1ad3da4",
            "a5190198c0ca45d69c68c5b1bf54b95d",
            "e78390293dd2481b9d8cef8f8d29f9ce",
            "0990b33be0144376b30f8b4c4414688c",
            "1d1b59379d8c434c8cc0c5c9372be1d2",
            "7e7edbb460924c1ca0b23ff5c8dd1b9a",
            "7b731c5c41304fa5add0ca307179a291",
            "004a25e1b5344188bf8cc67aa0fe54ab",
            "04414d44165e496f8ff7ff62d67de27b",
            "1e57f5daf2324b09b74270dec1761e8b",
            "98bd6f21f39347a6b1ba411105ffee38",
            "8d7fa487a9174b72a369abc615814b34",
            "23750eb858484cecbbe36513d151837d",
            "674b0c9f0c574289ae7c6cecbc1b5641",
            "72cb27b107974abfb47f83301b8a8e4b",
            "7a63261b000445f3b08ea5abcdf01b35",
            "94a8f0bf69b545e3933500382ac25930",
            "7753650c423d47b887e949029100e46b",
            "438cd03168884073b30f9c421bb58983",
            "bf6362d415be48c09dcedda09fd8bab9",
            "6907ee954333447a812c84d7dbcb004c",
            "66818bc938e04b5aa75aaa5da237b28c"
          ]
        },
        "id": "YlciMlYUsrbq",
        "outputId": "eae315f4-abd5-49ef-bd7e-623bdca61e9f"
      },
      "execution_count": null,
      "outputs": [
        {
          "output_type": "stream",
          "name": "stderr",
          "text": [
            "/usr/local/lib/python3.10/dist-packages/huggingface_hub/utils/_token.py:88: UserWarning: \n",
            "The secret `HF_TOKEN` does not exist in your Colab secrets.\n",
            "To authenticate with the Hugging Face Hub, create a token in your settings tab (https://huggingface.co/settings/tokens), set it as secret in your Google Colab and restart your session.\n",
            "You will be able to reuse this secret in all of your notebooks.\n",
            "Please note that authentication is recommended but still optional to access public models or datasets.\n",
            "  warnings.warn(\n"
          ]
        },
        {
          "output_type": "display_data",
          "data": {
            "text/plain": [
              "tokenizer_config.json:   0%|          | 0.00/49.0 [00:00<?, ?B/s]"
            ],
            "application/vnd.jupyter.widget-view+json": {
              "version_major": 2,
              "version_minor": 0,
              "model_id": "956ae0db9d1447a9aeb07ea376a73e43"
            }
          },
          "metadata": {}
        },
        {
          "output_type": "display_data",
          "data": {
            "text/plain": [
              "config.json:   0%|          | 0.00/570 [00:00<?, ?B/s]"
            ],
            "application/vnd.jupyter.widget-view+json": {
              "version_major": 2,
              "version_minor": 0,
              "model_id": "98eeefd3d6c0454babcbbd130aea659a"
            }
          },
          "metadata": {}
        },
        {
          "output_type": "display_data",
          "data": {
            "text/plain": [
              "vocab.txt:   0%|          | 0.00/213k [00:00<?, ?B/s]"
            ],
            "application/vnd.jupyter.widget-view+json": {
              "version_major": 2,
              "version_minor": 0,
              "model_id": "2af76f21895141f4b92db267e1ad3da4"
            }
          },
          "metadata": {}
        },
        {
          "output_type": "display_data",
          "data": {
            "text/plain": [
              "tokenizer.json:   0%|          | 0.00/436k [00:00<?, ?B/s]"
            ],
            "application/vnd.jupyter.widget-view+json": {
              "version_major": 2,
              "version_minor": 0,
              "model_id": "8d7fa487a9174b72a369abc615814b34"
            }
          },
          "metadata": {}
        }
      ]
    },
    {
      "cell_type": "code",
      "source": [
        "# tokenizer.index_word.get(1153330)"
      ],
      "metadata": {
        "id": "HUnluVITsHpk"
      },
      "execution_count": null,
      "outputs": []
    },
    {
      "cell_type": "code",
      "source": [
        "# output_sentence = tokenizer_ln.sequences_to_texts(output_sequence)[0]\n",
        "\n",
        "# Afficher la traduction\n",
        "pred = np.argmax(pred, axis=-1)\n",
        "pred = tokenizer_ln.sequences_to_texts(pred)[0]\n",
        "print(\"Traduction : \", pred)"
      ],
      "metadata": {
        "colab": {
          "base_uri": "https://localhost:8080/"
        },
        "id": "JT0P2QjHsHU0",
        "outputId": "37e40c47-a360-487c-ecf0-efee95be5347"
      },
      "execution_count": null,
      "outputs": [
        {
          "output_type": "stream",
          "name": "stdout",
          "text": [
            "Traduction :  na na na na na na na na\n"
          ]
        }
      ]
    },
    {
      "cell_type": "code",
      "source": [],
      "metadata": {
        "id": "JIv_qxn5oIdH"
      },
      "execution_count": null,
      "outputs": []
    },
    {
      "cell_type": "code",
      "source": [
        "import string\n",
        "\n",
        "# Définition de la fonction preprocess_sentence\n",
        "def preprocess_sentence(sentence):\n",
        "    # Conversion en minuscules\n",
        "    sentence = sentence.lower()\n",
        "\n",
        "    # Suppression de la ponctuation\n",
        "    sentence = sentence.translate(str.maketrans('', '', string.punctuation))\n",
        "\n",
        "    return sentence\n",
        "\n",
        "# Supposons que vous avez une phrase en français que vous souhaitez traduire en anglais\n",
        "input_sentence = \"en disant:\"\n",
        "\n",
        "# Prétraitement de la phrase d'entrée\n",
        "input_sentence = preprocess_sentence(input_sentence)\n",
        "\n",
        "# Convertir la phrase en une séquence d'entiers en utilisant le tokenizer français\n",
        "input_sequence = tokenizer_french.texts_to_sequences([input_sentence])\n",
        "\n",
        "# Remplir la séquence pour avoir la même longueur que les autres séquences d'entrée\n",
        "input_sequence = pad_sequences(input_sequence, maxlen=max_length, padding='post')\n",
        "\n",
        "# Traduction en utilisant le modèle\n",
        "output_sequence = model.predict([input_sequence, np.zeros((1, max_length))])\n",
        "output_sequence = np.argmax(output_sequence, axis=-1)\n",
        "\n",
        "# Convertir la séquence de sortie en une phrase en anglais en utilisant le tokenizer anglais\n",
        "output_sentence = tokenizer_ln.sequences_to_texts(output_sequence)[0]\n",
        "\n",
        "# Afficher la traduction\n",
        "print(\"Traduction : \", output_sentence)"
      ],
      "metadata": {
        "colab": {
          "base_uri": "https://localhost:8080/"
        },
        "outputId": "bb7efd05-9440-426c-e428-2c2bd4f10dda",
        "id": "ALMpeITJog5c"
      },
      "execution_count": null,
      "outputs": [
        {
          "output_type": "stream",
          "name": "stdout",
          "text": [
            "1/1 [==============================] - 0s 51ms/step\n",
            "Traduction :  na na na na na na na na\n"
          ]
        }
      ]
    },
    {
      "cell_type": "code",
      "source": [],
      "metadata": {
        "id": "-qJBUQC04_lN"
      },
      "execution_count": null,
      "outputs": []
    }
  ]
}